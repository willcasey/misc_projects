{
 "cells": [
  {
   "cell_type": "code",
   "execution_count": 1,
   "metadata": {},
   "outputs": [],
   "source": [
    "import timeit\n",
    "import random "
   ]
  },
  {
   "cell_type": "markdown",
   "metadata": {},
   "source": [
    "#### Leap year"
   ]
  },
  {
   "cell_type": "code",
   "execution_count": 2,
   "metadata": {},
   "outputs": [],
   "source": [
    "def is_leap(year):\n",
    "    if year%4 == 0:\n",
    "        if year%100 ==0:\n",
    "            if year%400 == 0:\n",
    "                return True #divided by 4, 100, 400\n",
    "            else:\n",
    "                return False #divisible by 4, 100 but not 400\n",
    "        else:\n",
    "            return True #divided by 4 but not by 100\n",
    "    else:\n",
    "        return False #not divisible by 4\n",
    "        "
   ]
  },
  {
   "cell_type": "code",
   "execution_count": 12,
   "metadata": {},
   "outputs": [
    {
     "name": "stdout",
     "output_type": "stream",
     "text": [
      "255 µs ± 809 ns per loop (mean ± std. dev. of 7 runs, 1000 loops each)\n"
     ]
    }
   ],
   "source": [
    "%timeit for x in range(1000, 3000): is_leap(x)"
   ]
  },
  {
   "cell_type": "code",
   "execution_count": null,
   "metadata": {},
   "outputs": [],
   "source": []
  },
  {
   "cell_type": "markdown",
   "metadata": {},
   "source": [
    "#### Anagrams"
   ]
  },
  {
   "cell_type": "code",
   "execution_count": 13,
   "metadata": {},
   "outputs": [],
   "source": [
    "anagrams = ['assert' , 'asters' , 'stares' , 'aster' , 'rates' , 'stare' , 'taser' , 'tears' , 'ate' , 'eat' , 'eta' , 'tea' , 'aridest' , 'astride' , 'staider' , 'tardies' , 'jumpingjacks' , 'tirades' , 'auctioned' , 'cautioned' , 'education']"
   ]
  },
  {
   "cell_type": "code",
   "execution_count": 7,
   "metadata": {},
   "outputs": [],
   "source": [
    "sortedlist =[''.join(sorted(word)) for word in anagrams]"
   ]
  },
  {
   "cell_type": "code",
   "execution_count": 8,
   "metadata": {},
   "outputs": [],
   "source": [
    "sortedlist_unique = list(set(sortedlist))"
   ]
  },
  {
   "cell_type": "code",
   "execution_count": 9,
   "metadata": {},
   "outputs": [],
   "source": [
    "countlist = []\n",
    "for u in sortedlist_unique:\n",
    "    count = 0\n",
    "    for w in sortedlist:\n",
    "#         print(u, w)\n",
    "        if u == w:\n",
    "            count = count + 1\n",
    "    countlist.append(count-1)"
   ]
  },
  {
   "cell_type": "code",
   "execution_count": 10,
   "metadata": {},
   "outputs": [],
   "source": [
    "masterlist = list(zip(sortedlist_unique, countlist))"
   ]
  },
  {
   "cell_type": "code",
   "execution_count": 11,
   "metadata": {},
   "outputs": [
    {
     "data": {
      "text/plain": [
       "[('aerst', 4),\n",
       " ('aersst', 2),\n",
       " ('aet', 3),\n",
       " ('adeirst', 4),\n",
       " ('acgijjkmnpsu', 0),\n",
       " ('acdeinotu', 2)]"
      ]
     },
     "execution_count": 11,
     "metadata": {},
     "output_type": "execute_result"
    }
   ],
   "source": [
    "masterlist"
   ]
  },
  {
   "cell_type": "code",
   "execution_count": null,
   "metadata": {},
   "outputs": [],
   "source": []
  },
  {
   "cell_type": "code",
   "execution_count": null,
   "metadata": {
    "collapsed": true
   },
   "outputs": [],
   "source": []
  }
 ],
 "metadata": {
  "kernelspec": {
   "display_name": "Python 3",
   "language": "python",
   "name": "python3"
  },
  "language_info": {
   "codemirror_mode": {
    "name": "ipython",
    "version": 3
   },
   "file_extension": ".py",
   "mimetype": "text/x-python",
   "name": "python",
   "nbconvert_exporter": "python",
   "pygments_lexer": "ipython3",
   "version": "3.7.1"
  }
 },
 "nbformat": 4,
 "nbformat_minor": 2
}
