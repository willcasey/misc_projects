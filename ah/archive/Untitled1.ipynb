{
 "cells": [
  {
   "cell_type": "code",
   "execution_count": null,
   "metadata": {
    "collapsed": true
   },
   "outputs": [],
   "source": [
    " for page, category in ah_webpages:\n",
    "     print(page)\n",
    "     driver = webdriver.Chrome(executable_path=r'/usr/local/bin/chromedriver')\n",
    "     driver.get(page)\n",
    "\n",
    "     # wait = WebDriverWait(driver, 20)\n",
    "     time.sleep(5)\n",
    "\n",
    "     child_tags = driver.find_elements_by_xpath(\".//*[@class=' row collapse product__content product__content--link']\")\n"
   ]
  }
 ],
 "metadata": {
  "kernelspec": {
   "display_name": "Python 3",
   "language": "python",
   "name": "python3"
  },
  "language_info": {
   "codemirror_mode": {
    "name": "ipython",
    "version": 3
   },
   "file_extension": ".py",
   "mimetype": "text/x-python",
   "name": "python",
   "nbconvert_exporter": "python",
   "pygments_lexer": "ipython3",
   "version": "3.6.1"
  }
 },
 "nbformat": 4,
 "nbformat_minor": 2
}
