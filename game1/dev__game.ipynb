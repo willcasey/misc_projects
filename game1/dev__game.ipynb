{
 "cells": [
  {
   "cell_type": "code",
   "execution_count": 12,
   "metadata": {},
   "outputs": [
    {
     "ename": "NameError",
     "evalue": "name 'hello' is not defined",
     "output_type": "error",
     "traceback": [
      "\u001b[0;31m---------------------------------------------------------------------------\u001b[0m",
      "\u001b[0;31mNameError\u001b[0m                                 Traceback (most recent call last)",
      "\u001b[0;32m<ipython-input-12-ce277dd3d197>\u001b[0m in \u001b[0;36m<module>\u001b[0;34m()\u001b[0m\n\u001b[0;32m----> 1\u001b[0;31m \u001b[0;34m@\u001b[0m\u001b[0mhello\u001b[0m\u001b[0;34m\u001b[0m\u001b[0m\n\u001b[0m\u001b[1;32m      2\u001b[0m \u001b[0;32mdef\u001b[0m \u001b[0mprint_hello\u001b[0m\u001b[0;34m(\u001b[0m\u001b[0;34m)\u001b[0m\u001b[0;34m:\u001b[0m\u001b[0;34m\u001b[0m\u001b[0m\n\u001b[1;32m      3\u001b[0m     \u001b[0mprint\u001b[0m\u001b[0;34m(\u001b[0m\u001b[0mhello\u001b[0m\u001b[0;34m)\u001b[0m\u001b[0;34m\u001b[0m\u001b[0m\n",
      "\u001b[0;31mNameError\u001b[0m: name 'hello' is not defined"
     ]
    }
   ],
   "source": [
    "@hello\n",
    "def print_hello():\n",
    "    print(hello)\n"
   ]
  },
  {
   "cell_type": "code",
   "execution_count": null,
   "metadata": {
    "collapsed": true
   },
   "outputs": [],
   "source": []
  },
  {
   "cell_type": "code",
   "execution_count": null,
   "metadata": {
    "collapsed": true
   },
   "outputs": [],
   "source": []
  },
  {
   "cell_type": "code",
   "execution_count": null,
   "metadata": {
    "collapsed": true
   },
   "outputs": [],
   "source": []
  },
  {
   "cell_type": "code",
   "execution_count": 1,
   "metadata": {
    "collapsed": true
   },
   "outputs": [],
   "source": [
    "import numpy as np\n",
    "import matplotlib.pyplot as plt\n",
    "import seaborn as sns\n",
    "import datetime\n",
    "from game import *\n",
    "from models import *\n",
    "\n",
    "%matplotlib inline"
   ]
  },
  {
   "cell_type": "code",
   "execution_count": 2,
   "metadata": {
    "collapsed": true
   },
   "outputs": [],
   "source": [
    "G = game.nations['G']"
   ]
  },
  {
   "cell_type": "code",
   "execution_count": 3,
   "metadata": {},
   "outputs": [],
   "source": [
    "G.create_unit(name='mil_123', unit_type=\"militia\", position='a1')\n",
    "G.create_unit(name='mil_124', unit_type=\"militia\", position='a1')\n",
    "G.create_unit(name='art_001', unit_type=\"artillery\", position='a1')\n",
    "G.create_unit(name='art_002', unit_type=\"artillery\", position='a1')\n",
    "G.create_unit(name='inf_001', unit_type=\"infantry\", position='a1')"
   ]
  },
  {
   "cell_type": "code",
   "execution_count": null,
   "metadata": {
    "collapsed": true
   },
   "outputs": [],
   "source": []
  },
  {
   "cell_type": "code",
   "execution_count": 4,
   "metadata": {},
   "outputs": [
    {
     "data": {
      "text/html": [
       "<div>\n",
       "<style scoped>\n",
       "    .dataframe tbody tr th:only-of-type {\n",
       "        vertical-align: middle;\n",
       "    }\n",
       "\n",
       "    .dataframe tbody tr th {\n",
       "        vertical-align: top;\n",
       "    }\n",
       "\n",
       "    .dataframe thead th {\n",
       "        text-align: right;\n",
       "    }\n",
       "</style>\n",
       "<table border=\"1\" class=\"dataframe\">\n",
       "  <thead>\n",
       "    <tr style=\"text-align: right;\">\n",
       "      <th></th>\n",
       "      <th>id</th>\n",
       "      <th>game_id</th>\n",
       "      <th>name</th>\n",
       "      <th>nation</th>\n",
       "      <th>unit_type</th>\n",
       "      <th>position</th>\n",
       "      <th>status</th>\n",
       "      <th>base_mu</th>\n",
       "      <th>base_sigma</th>\n",
       "      <th>training</th>\n",
       "      <th>leadership</th>\n",
       "      <th>terrain</th>\n",
       "      <th>morale</th>\n",
       "      <th>experience</th>\n",
       "      <th>attacking</th>\n",
       "      <th>defending</th>\n",
       "    </tr>\n",
       "  </thead>\n",
       "  <tbody>\n",
       "    <tr>\n",
       "      <th>0</th>\n",
       "      <td>1</td>\n",
       "      <td>1</td>\n",
       "      <td>mil_123</td>\n",
       "      <td>G</td>\n",
       "      <td>militia</td>\n",
       "      <td>a1</td>\n",
       "      <td>1</td>\n",
       "      <td>5</td>\n",
       "      <td>10</td>\n",
       "      <td>(0, 0)</td>\n",
       "      <td>(0, 0)</td>\n",
       "      <td>(0, 0)</td>\n",
       "      <td>(0, 0)</td>\n",
       "      <td>(0, 0)</td>\n",
       "      <td>(-5, 0)</td>\n",
       "      <td>(5, 5)</td>\n",
       "    </tr>\n",
       "    <tr>\n",
       "      <th>1</th>\n",
       "      <td>2</td>\n",
       "      <td>1</td>\n",
       "      <td>mil_124</td>\n",
       "      <td>G</td>\n",
       "      <td>militia</td>\n",
       "      <td>a1</td>\n",
       "      <td>1</td>\n",
       "      <td>5</td>\n",
       "      <td>10</td>\n",
       "      <td>(0, 0)</td>\n",
       "      <td>(0, 0)</td>\n",
       "      <td>(0, 0)</td>\n",
       "      <td>(0, 0)</td>\n",
       "      <td>(0, 0)</td>\n",
       "      <td>(-5, 0)</td>\n",
       "      <td>(5, 5)</td>\n",
       "    </tr>\n",
       "    <tr>\n",
       "      <th>2</th>\n",
       "      <td>3</td>\n",
       "      <td>1</td>\n",
       "      <td>art_001</td>\n",
       "      <td>G</td>\n",
       "      <td>artillery</td>\n",
       "      <td>a1</td>\n",
       "      <td>1</td>\n",
       "      <td>30</td>\n",
       "      <td>10</td>\n",
       "      <td>(0, 0)</td>\n",
       "      <td>(0, 0)</td>\n",
       "      <td>(0, 0)</td>\n",
       "      <td>(0, 0)</td>\n",
       "      <td>(0, 0)</td>\n",
       "      <td>(10, 5)</td>\n",
       "      <td>(0, 0)</td>\n",
       "    </tr>\n",
       "    <tr>\n",
       "      <th>3</th>\n",
       "      <td>4</td>\n",
       "      <td>1</td>\n",
       "      <td>art_002</td>\n",
       "      <td>G</td>\n",
       "      <td>artillery</td>\n",
       "      <td>a1</td>\n",
       "      <td>1</td>\n",
       "      <td>30</td>\n",
       "      <td>10</td>\n",
       "      <td>(0, 0)</td>\n",
       "      <td>(0, 0)</td>\n",
       "      <td>(0, 0)</td>\n",
       "      <td>(0, 0)</td>\n",
       "      <td>(0, 0)</td>\n",
       "      <td>(10, 5)</td>\n",
       "      <td>(0, 0)</td>\n",
       "    </tr>\n",
       "    <tr>\n",
       "      <th>4</th>\n",
       "      <td>5</td>\n",
       "      <td>1</td>\n",
       "      <td>inf_001</td>\n",
       "      <td>G</td>\n",
       "      <td>infantry</td>\n",
       "      <td>a1</td>\n",
       "      <td>1</td>\n",
       "      <td>10</td>\n",
       "      <td>5</td>\n",
       "      <td>(0, 0)</td>\n",
       "      <td>(0, 0)</td>\n",
       "      <td>(0, 0)</td>\n",
       "      <td>(0, 0)</td>\n",
       "      <td>(0, 0)</td>\n",
       "      <td>(-1, 2)</td>\n",
       "      <td>(3, 0)</td>\n",
       "    </tr>\n",
       "  </tbody>\n",
       "</table>\n",
       "</div>"
      ],
      "text/plain": [
       "   id  game_id     name nation  unit_type position  status  base_mu  \\\n",
       "0   1        1  mil_123      G    militia       a1       1        5   \n",
       "1   2        1  mil_124      G    militia       a1       1        5   \n",
       "2   3        1  art_001      G  artillery       a1       1       30   \n",
       "3   4        1  art_002      G  artillery       a1       1       30   \n",
       "4   5        1  inf_001      G   infantry       a1       1       10   \n",
       "\n",
       "   base_sigma training leadership terrain  morale experience attacking  \\\n",
       "0          10   (0, 0)     (0, 0)  (0, 0)  (0, 0)     (0, 0)   (-5, 0)   \n",
       "1          10   (0, 0)     (0, 0)  (0, 0)  (0, 0)     (0, 0)   (-5, 0)   \n",
       "2          10   (0, 0)     (0, 0)  (0, 0)  (0, 0)     (0, 0)   (10, 5)   \n",
       "3          10   (0, 0)     (0, 0)  (0, 0)  (0, 0)     (0, 0)   (10, 5)   \n",
       "4           5   (0, 0)     (0, 0)  (0, 0)  (0, 0)     (0, 0)   (-1, 2)   \n",
       "\n",
       "  defending  \n",
       "0    (5, 5)  \n",
       "1    (5, 5)  \n",
       "2    (0, 0)  \n",
       "3    (0, 0)  \n",
       "4    (3, 0)  "
      ]
     },
     "execution_count": 4,
     "metadata": {},
     "output_type": "execute_result"
    }
   ],
   "source": [
    "game.db.query(\"select * from units\")"
   ]
  },
  {
   "cell_type": "code",
   "execution_count": 8,
   "metadata": {},
   "outputs": [],
   "source": [
    "log = game.db.query(\"select * from game_log\")"
   ]
  },
  {
   "cell_type": "code",
   "execution_count": 11,
   "metadata": {},
   "outputs": [
    {
     "data": {
      "text/plain": [
       "\"{'name': 'mil_123', 'unit_type': 'militia', 'position': 'a1', 'nation': 'G', 'status': 1, 'additive': 'training', 'additive_val': (100, 100)}\""
      ]
     },
     "execution_count": 11,
     "metadata": {},
     "output_type": "execute_result"
    }
   ],
   "source": [
    "log.loc[14, 'details']"
   ]
  },
  {
   "cell_type": "code",
   "execution_count": 8,
   "metadata": {},
   "outputs": [],
   "source": [
    "mil_123 = G.units()['mil_123']\n",
    "art_002 = G.units()['mil_123']"
   ]
  },
  {
   "cell_type": "code",
   "execution_count": 9,
   "metadata": {},
   "outputs": [
    {
     "data": {
      "text/plain": [
       "0"
      ]
     },
     "execution_count": 9,
     "metadata": {},
     "output_type": "execute_result"
    }
   ],
   "source": [
    "art_002.reserve_cost"
   ]
  },
  {
   "cell_type": "code",
   "execution_count": null,
   "metadata": {
    "collapsed": true
   },
   "outputs": [],
   "source": []
  },
  {
   "cell_type": "code",
   "execution_count": 6,
   "metadata": {},
   "outputs": [],
   "source": [
    "G.alter_unit_additive(name='mil_123',additive='training', mu=100, sigma=100)"
   ]
  },
  {
   "cell_type": "code",
   "execution_count": 8,
   "metadata": {},
   "outputs": [
    {
     "data": {
      "text/plain": [
       "['test']"
      ]
     },
     "execution_count": 8,
     "metadata": {},
     "output_type": "execute_result"
    }
   ],
   "source": [
    "G.infantry_units_names"
   ]
  },
  {
   "cell_type": "code",
   "execution_count": 15,
   "metadata": {},
   "outputs": [
    {
     "data": {
      "text/html": [
       "<div>\n",
       "<style scoped>\n",
       "    .dataframe tbody tr th:only-of-type {\n",
       "        vertical-align: middle;\n",
       "    }\n",
       "\n",
       "    .dataframe tbody tr th {\n",
       "        vertical-align: top;\n",
       "    }\n",
       "\n",
       "    .dataframe thead th {\n",
       "        text-align: right;\n",
       "    }\n",
       "</style>\n",
       "<table border=\"1\" class=\"dataframe\">\n",
       "  <thead>\n",
       "    <tr style=\"text-align: right;\">\n",
       "      <th></th>\n",
       "      <th>id</th>\n",
       "      <th>game_id</th>\n",
       "      <th>name</th>\n",
       "      <th>nation</th>\n",
       "      <th>unit_type</th>\n",
       "      <th>position</th>\n",
       "      <th>status</th>\n",
       "      <th>base_mu</th>\n",
       "      <th>base_sigma</th>\n",
       "      <th>training</th>\n",
       "      <th>leadership</th>\n",
       "      <th>terrain</th>\n",
       "      <th>morale</th>\n",
       "      <th>experience</th>\n",
       "      <th>attacking</th>\n",
       "      <th>defending</th>\n",
       "    </tr>\n",
       "  </thead>\n",
       "  <tbody>\n",
       "    <tr>\n",
       "      <th>0</th>\n",
       "      <td>1</td>\n",
       "      <td>1</td>\n",
       "      <td>test</td>\n",
       "      <td>G</td>\n",
       "      <td>infantry</td>\n",
       "      <td>a1</td>\n",
       "      <td>1</td>\n",
       "      <td>10</td>\n",
       "      <td>5</td>\n",
       "      <td>(0, 0)</td>\n",
       "      <td>(0, 0)</td>\n",
       "      <td>(0, 0)</td>\n",
       "      <td>(0, 0)</td>\n",
       "      <td>(0, 0)</td>\n",
       "      <td>(-1, 2)</td>\n",
       "      <td>(3, 0)</td>\n",
       "    </tr>\n",
       "    <tr>\n",
       "      <th>1</th>\n",
       "      <td>2</td>\n",
       "      <td>1</td>\n",
       "      <td>mil_123</td>\n",
       "      <td>G</td>\n",
       "      <td>militia</td>\n",
       "      <td>a1</td>\n",
       "      <td>1</td>\n",
       "      <td>5</td>\n",
       "      <td>10</td>\n",
       "      <td>(0, 0)</td>\n",
       "      <td>(0, 0)</td>\n",
       "      <td>(0, 0)</td>\n",
       "      <td>(0, 0)</td>\n",
       "      <td>(0, 0)</td>\n",
       "      <td>(-5, 0)</td>\n",
       "      <td>(5, 5)</td>\n",
       "    </tr>\n",
       "    <tr>\n",
       "      <th>2</th>\n",
       "      <td>3</td>\n",
       "      <td>1</td>\n",
       "      <td>inf_100</td>\n",
       "      <td>U</td>\n",
       "      <td>infantry</td>\n",
       "      <td>a1</td>\n",
       "      <td>1</td>\n",
       "      <td>10</td>\n",
       "      <td>5</td>\n",
       "      <td>(0, 0)</td>\n",
       "      <td>(0, 0)</td>\n",
       "      <td>(0, 0)</td>\n",
       "      <td>(0, 0)</td>\n",
       "      <td>(0, 0)</td>\n",
       "      <td>(-1, 2)</td>\n",
       "      <td>(3, 0)</td>\n",
       "    </tr>\n",
       "    <tr>\n",
       "      <th>3</th>\n",
       "      <td>4</td>\n",
       "      <td>1</td>\n",
       "      <td>inf_101</td>\n",
       "      <td>U</td>\n",
       "      <td>infantry</td>\n",
       "      <td>a1</td>\n",
       "      <td>1</td>\n",
       "      <td>10</td>\n",
       "      <td>5</td>\n",
       "      <td>(0, 0)</td>\n",
       "      <td>(0, 0)</td>\n",
       "      <td>(0, 0)</td>\n",
       "      <td>(0, 0)</td>\n",
       "      <td>(0, 0)</td>\n",
       "      <td>(-1, 2)</td>\n",
       "      <td>(3, 0)</td>\n",
       "    </tr>\n",
       "    <tr>\n",
       "      <th>4</th>\n",
       "      <td>5</td>\n",
       "      <td>1</td>\n",
       "      <td>art_100</td>\n",
       "      <td>U</td>\n",
       "      <td>artillery</td>\n",
       "      <td>a3</td>\n",
       "      <td>1</td>\n",
       "      <td>30</td>\n",
       "      <td>10</td>\n",
       "      <td>(0, 0)</td>\n",
       "      <td>(0, 0)</td>\n",
       "      <td>(0, 0)</td>\n",
       "      <td>(0, 0)</td>\n",
       "      <td>(0, 0)</td>\n",
       "      <td>(10, 5)</td>\n",
       "      <td>(0, 0)</td>\n",
       "    </tr>\n",
       "    <tr>\n",
       "      <th>5</th>\n",
       "      <td>6</td>\n",
       "      <td>1</td>\n",
       "      <td>inf_r200</td>\n",
       "      <td>R</td>\n",
       "      <td>infantry</td>\n",
       "      <td>a1</td>\n",
       "      <td>1</td>\n",
       "      <td>10</td>\n",
       "      <td>5</td>\n",
       "      <td>(0, 0)</td>\n",
       "      <td>(0, 0)</td>\n",
       "      <td>(0, 0)</td>\n",
       "      <td>(0, 0)</td>\n",
       "      <td>(0, 0)</td>\n",
       "      <td>(-1, 2)</td>\n",
       "      <td>(3, 0)</td>\n",
       "    </tr>\n",
       "    <tr>\n",
       "      <th>6</th>\n",
       "      <td>7</td>\n",
       "      <td>1</td>\n",
       "      <td>mil_r100</td>\n",
       "      <td>R</td>\n",
       "      <td>militia</td>\n",
       "      <td>a2</td>\n",
       "      <td>1</td>\n",
       "      <td>5</td>\n",
       "      <td>10</td>\n",
       "      <td>(0, 0)</td>\n",
       "      <td>(0, 0)</td>\n",
       "      <td>(0, 0)</td>\n",
       "      <td>(0, 0)</td>\n",
       "      <td>(0, 0)</td>\n",
       "      <td>(-5, 0)</td>\n",
       "      <td>(5, 5)</td>\n",
       "    </tr>\n",
       "    <tr>\n",
       "      <th>7</th>\n",
       "      <td>8</td>\n",
       "      <td>1</td>\n",
       "      <td>mil_r101</td>\n",
       "      <td>R</td>\n",
       "      <td>militia</td>\n",
       "      <td>a2</td>\n",
       "      <td>1</td>\n",
       "      <td>5</td>\n",
       "      <td>10</td>\n",
       "      <td>(0, 0)</td>\n",
       "      <td>(0, 0)</td>\n",
       "      <td>(0, 0)</td>\n",
       "      <td>(0, 0)</td>\n",
       "      <td>(0, 0)</td>\n",
       "      <td>(-5, 0)</td>\n",
       "      <td>(5, 5)</td>\n",
       "    </tr>\n",
       "    <tr>\n",
       "      <th>8</th>\n",
       "      <td>9</td>\n",
       "      <td>1</td>\n",
       "      <td>mil_r102</td>\n",
       "      <td>R</td>\n",
       "      <td>militia</td>\n",
       "      <td>a2</td>\n",
       "      <td>1</td>\n",
       "      <td>5</td>\n",
       "      <td>10</td>\n",
       "      <td>(0, 0)</td>\n",
       "      <td>(0, 0)</td>\n",
       "      <td>(0, 0)</td>\n",
       "      <td>(0, 0)</td>\n",
       "      <td>(0, 0)</td>\n",
       "      <td>(-5, 0)</td>\n",
       "      <td>(5, 5)</td>\n",
       "    </tr>\n",
       "  </tbody>\n",
       "</table>\n",
       "</div>"
      ],
      "text/plain": [
       "   id  game_id      name nation  unit_type position  status  base_mu  \\\n",
       "0   1        1      test      G   infantry       a1       1       10   \n",
       "1   2        1   mil_123      G    militia       a1       1        5   \n",
       "2   3        1   inf_100      U   infantry       a1       1       10   \n",
       "3   4        1   inf_101      U   infantry       a1       1       10   \n",
       "4   5        1   art_100      U  artillery       a3       1       30   \n",
       "5   6        1  inf_r200      R   infantry       a1       1       10   \n",
       "6   7        1  mil_r100      R    militia       a2       1        5   \n",
       "7   8        1  mil_r101      R    militia       a2       1        5   \n",
       "8   9        1  mil_r102      R    militia       a2       1        5   \n",
       "\n",
       "   base_sigma training leadership terrain  morale experience attacking  \\\n",
       "0           5   (0, 0)     (0, 0)  (0, 0)  (0, 0)     (0, 0)   (-1, 2)   \n",
       "1          10   (0, 0)     (0, 0)  (0, 0)  (0, 0)     (0, 0)   (-5, 0)   \n",
       "2           5   (0, 0)     (0, 0)  (0, 0)  (0, 0)     (0, 0)   (-1, 2)   \n",
       "3           5   (0, 0)     (0, 0)  (0, 0)  (0, 0)     (0, 0)   (-1, 2)   \n",
       "4          10   (0, 0)     (0, 0)  (0, 0)  (0, 0)     (0, 0)   (10, 5)   \n",
       "5           5   (0, 0)     (0, 0)  (0, 0)  (0, 0)     (0, 0)   (-1, 2)   \n",
       "6          10   (0, 0)     (0, 0)  (0, 0)  (0, 0)     (0, 0)   (-5, 0)   \n",
       "7          10   (0, 0)     (0, 0)  (0, 0)  (0, 0)     (0, 0)   (-5, 0)   \n",
       "8          10   (0, 0)     (0, 0)  (0, 0)  (0, 0)     (0, 0)   (-5, 0)   \n",
       "\n",
       "  defending  \n",
       "0    (3, 0)  \n",
       "1    (5, 5)  \n",
       "2    (3, 0)  \n",
       "3    (3, 0)  \n",
       "4    (0, 0)  \n",
       "5    (3, 0)  \n",
       "6    (5, 5)  \n",
       "7    (5, 5)  \n",
       "8    (5, 5)  "
      ]
     },
     "execution_count": 15,
     "metadata": {},
     "output_type": "execute_result"
    }
   ],
   "source": [
    "game.db.query(query=\"select * from units\")"
   ]
  },
  {
   "cell_type": "code",
   "execution_count": 10,
   "metadata": {},
   "outputs": [
    {
     "data": {
      "text/plain": [
       "{'a1': <game.Position at 0x113ded908>,\n",
       " 'a2': <game.Position at 0x113ded9b0>,\n",
       " 'a3': <game.Position at 0x113deda90>,\n",
       " 'a4': <game.Position at 0x113dedb70>,\n",
       " 'a5': <game.Position at 0x113dedc50>}"
      ]
     },
     "execution_count": 10,
     "metadata": {},
     "output_type": "execute_result"
    }
   ],
   "source": [
    "game.positions"
   ]
  },
  {
   "cell_type": "code",
   "execution_count": 11,
   "metadata": {},
   "outputs": [
    {
     "data": {
      "text/plain": [
       "{'G': <game.Nation at 0x113ded748>,\n",
       " 'R': <game.Nation at 0x113ded828>,\n",
       " 'U': <game.Nation at 0x113ded6d8>}"
      ]
     },
     "execution_count": 11,
     "metadata": {},
     "output_type": "execute_result"
    }
   ],
   "source": [
    "game.nations"
   ]
  },
  {
   "cell_type": "code",
   "execution_count": null,
   "metadata": {
    "collapsed": true
   },
   "outputs": [],
   "source": []
  },
  {
   "cell_type": "code",
   "execution_count": 12,
   "metadata": {
    "collapsed": true
   },
   "outputs": [],
   "source": [
    "u = game.nations['U']\n",
    "r = game.nations['R']"
   ]
  },
  {
   "cell_type": "code",
   "execution_count": 13,
   "metadata": {
    "collapsed": true
   },
   "outputs": [],
   "source": [
    "u.create_unit(name='inf_100', unit_type='infantry', position='a1')\n",
    "u.create_unit(name='inf_101', unit_type='infantry', position='a1')\n",
    "u.create_unit(name='art_100', unit_type='artillery', position='a3')"
   ]
  },
  {
   "cell_type": "code",
   "execution_count": 14,
   "metadata": {
    "collapsed": true
   },
   "outputs": [],
   "source": [
    "r.create_unit(name='inf_r200', unit_type='infantry', position='a1')\n",
    "r.create_unit(name='mil_r100', unit_type='militia', position='a2')\n",
    "r.create_unit(name='mil_r101', unit_type='militia', position='a2')\n",
    "r.create_unit(name='mil_r102', unit_type='militia', position='a2')"
   ]
  },
  {
   "cell_type": "code",
   "execution_count": 16,
   "metadata": {
    "collapsed": true
   },
   "outputs": [],
   "source": [
    "r.alter_unit_additive(name='mil_r100', additive='training', mu=10, sigma=1)"
   ]
  },
  {
   "cell_type": "code",
   "execution_count": 17,
   "metadata": {
    "collapsed": true
   },
   "outputs": [],
   "source": [
    "attack_units = ['art_100', 'inf_100']"
   ]
  },
  {
   "cell_type": "code",
   "execution_count": 18,
   "metadata": {
    "collapsed": true
   },
   "outputs": [],
   "source": [
    "attack_units_obj = [u.units()[i] for i in attack_units]"
   ]
  },
  {
   "cell_type": "code",
   "execution_count": null,
   "metadata": {
    "collapsed": true
   },
   "outputs": [],
   "source": []
  },
  {
   "cell_type": "code",
   "execution_count": 19,
   "metadata": {},
   "outputs": [
    {
     "name": "stdout",
     "output_type": "stream",
     "text": [
      "ATTACKER\n",
      "name  :  art_100\n",
      "unit_type  :  artillery\n",
      "base_mu  :  30\n",
      "base_sigma  :  10\n",
      "position  :  a3\n",
      "nation  :  U\n",
      "status  :  1\n",
      "training  :  (0, 0)\n",
      "leadership  :  (0, 0)\n",
      "terrain  :  (0, 0)\n",
      "morale  :  (0, 0)\n",
      "experience  :  (0, 0)\n",
      "attacking  :  (10, 5)\n",
      "defending  :  (0, 0)\n",
      "final_attack_attributes :  {'mu': 40, 'sigma': 15}\n",
      "final_defense_attributes :  {'mu': 30, 'sigma': 10}\n",
      "None\n",
      "\n",
      "\n",
      "name  :  inf_100\n",
      "unit_type  :  infantry\n",
      "base_mu  :  10\n",
      "base_sigma  :  5\n",
      "position  :  a1\n",
      "nation  :  U\n",
      "status  :  1\n",
      "training  :  (0, 0)\n",
      "leadership  :  (0, 0)\n",
      "terrain  :  (0, 0)\n",
      "morale  :  (0, 0)\n",
      "experience  :  (0, 0)\n",
      "attacking  :  (-1, 2)\n",
      "defending  :  (3, 0)\n",
      "final_attack_attributes :  {'mu': 9, 'sigma': 7}\n",
      "final_defense_attributes :  {'mu': 13, 'sigma': 5}\n",
      "None\n",
      "\n",
      "\n",
      "---------------------------------------------\n",
      "DEFENDER\n",
      "name  :  mil_r100\n",
      "unit_type  :  militia\n",
      "base_mu  :  5\n",
      "base_sigma  :  10\n",
      "position  :  a2\n",
      "nation  :  R\n",
      "status  :  1\n",
      "training  :  (10, 1)\n",
      "leadership  :  (0, 0)\n",
      "terrain  :  (0, 0)\n",
      "morale  :  (0, 0)\n",
      "experience  :  (0, 0)\n",
      "attacking  :  (-5, 0)\n",
      "defending  :  (5, 5)\n",
      "final_attack_attributes :  {'mu': 10, 'sigma': 11}\n",
      "final_defense_attributes :  {'mu': 20, 'sigma': 16}\n",
      "None\n",
      "\n",
      "\n",
      "name  :  mil_r101\n",
      "unit_type  :  militia\n",
      "base_mu  :  5\n",
      "base_sigma  :  10\n",
      "position  :  a2\n",
      "nation  :  R\n",
      "status  :  1\n",
      "training  :  (0, 0)\n",
      "leadership  :  (0, 0)\n",
      "terrain  :  (0, 0)\n",
      "morale  :  (0, 0)\n",
      "experience  :  (0, 0)\n",
      "attacking  :  (-5, 0)\n",
      "defending  :  (5, 5)\n",
      "final_attack_attributes :  {'mu': 1, 'sigma': 10}\n",
      "final_defense_attributes :  {'mu': 10, 'sigma': 15}\n",
      "None\n",
      "\n",
      "\n",
      "name  :  mil_r102\n",
      "unit_type  :  militia\n",
      "base_mu  :  5\n",
      "base_sigma  :  10\n",
      "position  :  a2\n",
      "nation  :  R\n",
      "status  :  1\n",
      "training  :  (0, 0)\n",
      "leadership  :  (0, 0)\n",
      "terrain  :  (0, 0)\n",
      "morale  :  (0, 0)\n",
      "experience  :  (0, 0)\n",
      "attacking  :  (-5, 0)\n",
      "defending  :  (5, 5)\n",
      "final_attack_attributes :  {'mu': 1, 'sigma': 10}\n",
      "final_defense_attributes :  {'mu': 10, 'sigma': 15}\n",
      "None\n",
      "\n",
      "\n"
     ]
    }
   ],
   "source": [
    "a2 = game.positions['a2']\n",
    "print(\"ATTACKER\")\n",
    "for unit in attack_units_obj:\n",
    "    print(unit.get_attributes())\n",
    "    print(\"\\n\")\n",
    "\n",
    "print(\"---------------------------------------------\")\n",
    "\n",
    "print(\"DEFENDER\")\n",
    "for unit in a2.current_occupying_units()[1]:\n",
    "    print(unit.get_attributes())\n",
    "    print(\"\\n\")\n",
    "    \n",
    "    \n",
    "\n"
   ]
  },
  {
   "cell_type": "code",
   "execution_count": null,
   "metadata": {
    "collapsed": true
   },
   "outputs": [],
   "source": []
  },
  {
   "cell_type": "code",
   "execution_count": 21,
   "metadata": {},
   "outputs": [
    {
     "name": "stdout",
     "output_type": "stream",
     "text": [
      "11.6011612873816\n",
      "draw\n",
      "None\n"
     ]
    }
   ],
   "source": [
    "u.attack(units=attack_units, attack_position='a2')"
   ]
  },
  {
   "cell_type": "code",
   "execution_count": 1909,
   "metadata": {
    "collapsed": true
   },
   "outputs": [],
   "source": [
    "battle1 = Battle(attacker='u', defender='r', attacker_units=[inf_1, art_1, art_2], defender_units=[inf_2, mil_1, mil_2], position='a2')\n"
   ]
  },
  {
   "cell_type": "code",
   "execution_count": 1910,
   "metadata": {},
   "outputs": [
    {
     "name": "stdout",
     "output_type": "stream",
     "text": [
      "inf_1 infantry u 1\n",
      "{'training': (20, -2), 'leadership': (0, 0), 'terrain': (0, 0), 'morale': (0, 0), 'experience': (0, 0)}\n",
      "{'mu': 30, 'sigma': 3}\n",
      "\n",
      "\n",
      "art_1 artillery u 1\n",
      "{'training': (0, 0), 'leadership': (0, 0), 'terrain': (0, 0), 'morale': (0, 0), 'experience': (0, 0)}\n",
      "{'mu': 30, 'sigma': 10}\n",
      "\n",
      "\n",
      "art_2 artillery u 1\n",
      "{'training': (0, 0), 'leadership': (0, 0), 'terrain': (0, 0), 'morale': (0, 0), 'experience': (0, 0)}\n",
      "{'mu': 30, 'sigma': 10}\n",
      "\n",
      "\n",
      "(90, 14.45683229480096)\n",
      "\n",
      "\n",
      "-----------------------------------------\n",
      "inf_2 infantry r 1\n",
      "{'training': (0, 0), 'leadership': (20, 6), 'terrain': (6, 0), 'morale': (40, 20), 'experience': (0, 0)}\n",
      "{'mu': 76, 'sigma': 31}\n",
      "\n",
      "\n",
      "mil_1 militia r 1\n",
      "{'training': (0, 0), 'leadership': (0, 0), 'terrain': (0, 0), 'morale': (0, 0), 'experience': (0, 0)}\n",
      "{'mu': 5, 'sigma': 10}\n",
      "\n",
      "\n",
      "mil_2 militia r 1\n",
      "{'training': (0, 0), 'leadership': (0, 0), 'terrain': (0, 0), 'morale': (0, 0), 'experience': (0, 0)}\n",
      "{'mu': 5, 'sigma': 10}\n",
      "\n",
      "\n",
      "(86, 34.07345007480164)\n",
      "\n",
      "\n",
      "{'rout': 75.32119719077896, 'victory': 37.66059859538948, 'draw': 18.83029929769474}\n"
     ]
    }
   ],
   "source": [
    "attacker_combined, defender_combined = battle1.combined_score_distribution()\n",
    "for u in battle1.attacker_units:\n",
    "    print(u.name, u.unit_type, u.nation, u.status)\n",
    "    print(u.current_additives())\n",
    "    print(u.battle_attributes())\n",
    "\n",
    "    print(\"\\n\")\n",
    "print(attacker_combined)\n",
    "    \n",
    "print(\"\\n\")\n",
    "print(\"-----------------------------------------\")\n",
    "for u in battle1.defender_units:\n",
    "    print(u.name, u.unit_type, u.nation, u.status)\n",
    "    print(u.current_additives())\n",
    "    print(u.battle_attributes())\n",
    "    \n",
    "    print(\"\\n\")\n",
    "print(defender_combined)\n",
    "\n",
    "print(\"\\n\")\n",
    "print(battle1.battle_thresholds())"
   ]
  },
  {
   "cell_type": "code",
   "execution_count": 1916,
   "metadata": {},
   "outputs": [
    {
     "name": "stdout",
     "output_type": "stream",
     "text": [
      "5.872987133096217\n",
      "draw\n"
     ]
    }
   ],
   "source": [
    "br = battle1.battle()[2]\n",
    "print(br)\n",
    "battle1.battle_results(battle_results=br)\n"
   ]
  },
  {
   "cell_type": "code",
   "execution_count": 1650,
   "metadata": {},
   "outputs": [
    {
     "name": "stdout",
     "output_type": "stream",
     "text": [
      "{'training': (1, -1), 'leadership': (0, 0), 'terrain': (0, 0), 'morale': (5, 0), 'experience': (0, 0)}\n",
      "{'training': (0, 0), 'leadership': (0, 0), 'terrain': (0, 0), 'morale': (5, 0), 'experience': (0, 0)}\n"
     ]
    }
   ],
   "source": [
    "print(inf_1.current_additives())\n",
    "print(art_1.current_additives())"
   ]
  },
  {
   "cell_type": "code",
   "execution_count": 1637,
   "metadata": {},
   "outputs": [
    {
     "name": "stdout",
     "output_type": "stream",
     "text": [
      "{'training': (1, -1), 'leadership': (0, 0), 'terrain': (0, 0), 'morale': (15, 0), 'experience': (0, 0)}\n",
      "{'training': (0, 0), 'leadership': (0, 0), 'terrain': (0, 0), 'morale': (15, 0), 'experience': (0, 0)}\n"
     ]
    }
   ],
   "source": [
    "print(inf_1.current_additives())\n",
    "print(art_1.current_additives())"
   ]
  },
  {
   "cell_type": "code",
   "execution_count": 1635,
   "metadata": {},
   "outputs": [
    {
     "name": "stdout",
     "output_type": "stream",
     "text": [
      "{'training': (0, 0), 'leadership': (10, 3), 'terrain': (3, 0), 'morale': (15, 10), 'experience': (0, 0)}\n"
     ]
    }
   ],
   "source": [
    "print(inf_2.current_additives())"
   ]
  },
  {
   "cell_type": "code",
   "execution_count": 1640,
   "metadata": {},
   "outputs": [
    {
     "name": "stdout",
     "output_type": "stream",
     "text": [
      "{'training': (0, 0), 'leadership': (10, 3), 'terrain': (3, 0), 'morale': (15, 10), 'experience': (0, 0)}\n"
     ]
    }
   ],
   "source": [
    "print(inf_2.current_additives())"
   ]
  },
  {
   "cell_type": "code",
   "execution_count": 1639,
   "metadata": {},
   "outputs": [
    {
     "name": "stdout",
     "output_type": "stream",
     "text": [
      "0\n"
     ]
    }
   ],
   "source": [
    "print(inf_2.status)"
   ]
  },
  {
   "cell_type": "code",
   "execution_count": 1423,
   "metadata": {},
   "outputs": [
    {
     "name": "stderr",
     "output_type": "stream",
     "text": [
      "/Users/wcasey/anaconda/lib/python3.6/site-packages/scipy/stats/stats.py:1713: FutureWarning: Using a non-tuple sequence for multidimensional indexing is deprecated; use `arr[tuple(seq)]` instead of `arr[seq]`. In the future this will be interpreted as an array index, `arr[np.array(seq)]`, which will result either in an error or a different result.\n",
      "  return np.add.reduce(sorted[indexer] * weights, axis=axis) / sumval\n"
     ]
    },
    {
     "data": {
      "text/plain": [
       "<matplotlib.axes._subplots.AxesSubplot at 0x12248ef98>"
      ]
     },
     "execution_count": 1423,
     "metadata": {},
     "output_type": "execute_result"
    },
    {
     "data": {
      "image/png": "[encoded data removed]",
      "text/plain": [
       "<Figure size 432x288 with 1 Axes>"
      ]
     },
     "metadata": {},
     "output_type": "display_data"
    }
   ],
   "source": [
    "sns.distplot([battle1.battle()[2] for i in range(10000)])"
   ]
  },
  {
   "cell_type": "code",
   "execution_count": 1422,
   "metadata": {},
   "outputs": [
    {
     "data": {
      "text/plain": [
       "{'draw': 6.689302905052225,\n",
       " 'rout': 26.7572116202089,\n",
       " 'victory': 13.37860581010445}"
      ]
     },
     "execution_count": 1422,
     "metadata": {},
     "output_type": "execute_result"
    }
   ],
   "source": [
    "battle1.battle_thresholds()"
   ]
  },
  {
   "cell_type": "code",
   "execution_count": 1360,
   "metadata": {},
   "outputs": [
    {
     "name": "stdout",
     "output_type": "stream",
     "text": [
      "attacker rout\n"
     ]
    }
   ],
   "source": []
  },
  {
   "cell_type": "code",
   "execution_count": 1316,
   "metadata": {},
   "outputs": [
    {
     "data": {
      "text/plain": [
       "((41, 10.770329614269007), (20, 8.0))"
      ]
     },
     "execution_count": 1316,
     "metadata": {},
     "output_type": "execute_result"
    }
   ],
   "source": [
    "battle1.combined_score_distribution()"
   ]
  },
  {
   "cell_type": "code",
   "execution_count": 1305,
   "metadata": {},
   "outputs": [
    {
     "name": "stderr",
     "output_type": "stream",
     "text": [
      "/Users/wcasey/anaconda/lib/python3.6/site-packages/scipy/stats/stats.py:1713: FutureWarning: Using a non-tuple sequence for multidimensional indexing is deprecated; use `arr[tuple(seq)]` instead of `arr[seq]`. In the future this will be interpreted as an array index, `arr[np.array(seq)]`, which will result either in an error or a different result.\n",
      "  return np.add.reduce(sorted[indexer] * weights, axis=axis) / sumval\n"
     ]
    },
    {
     "data": {
      "text/plain": [
       "<matplotlib.axes._subplots.AxesSubplot at 0x121cc9b38>"
      ]
     },
     "execution_count": 1305,
     "metadata": {},
     "output_type": "execute_result"
    },
    {
     "data": {
      "image/png": "[encoded data removed]",
      "text/plain": [
       "<Figure size 432x288 with 1 Axes>"
      ]
     },
     "metadata": {},
     "output_type": "display_data"
    }
   ],
   "source": [
    "sns.distplot(battle1.simulate_even_outcome_battle())"
   ]
  },
  {
   "cell_type": "code",
   "execution_count": 1306,
   "metadata": {},
   "outputs": [
    {
     "data": {
      "text/plain": [
       "{'draw': 6.642302127225772,\n",
       " 'rout': 26.56920850890309,\n",
       " 'victory': 13.284604254451544}"
      ]
     },
     "execution_count": 1306,
     "metadata": {},
     "output_type": "execute_result"
    }
   ],
   "source": []
  },
  {
   "cell_type": "code",
   "execution_count": 1292,
   "metadata": {},
   "outputs": [
    {
     "data": {
      "text/plain": [
       "13.359257065245423"
      ]
     },
     "execution_count": 1292,
     "metadata": {},
     "output_type": "execute_result"
    }
   ],
   "source": [
    "np.std(battle1.simulate_even_outcome_battle())"
   ]
  },
  {
   "cell_type": "code",
   "execution_count": null,
   "metadata": {
    "collapsed": true
   },
   "outputs": [],
   "source": []
  },
  {
   "cell_type": "code",
   "execution_count": 1248,
   "metadata": {
    "collapsed": true
   },
   "outputs": [],
   "source": [
    "newsigma = np.sqrt((10)**2 + (4)**2)\n",
    "newmu = 11 + 30"
   ]
  },
  {
   "cell_type": "code",
   "execution_count": 1293,
   "metadata": {
    "collapsed": true
   },
   "outputs": [],
   "source": [
    "simulation = [(np.random.normal(loc=newmu, scale=newsigma) - np.random.normal(loc=newmu, scale=8)) for i in range(10000)]"
   ]
  },
  {
   "cell_type": "code",
   "execution_count": 1294,
   "metadata": {
    "collapsed": true
   },
   "outputs": [],
   "source": [
    "simulation_std = np.std(simulation)"
   ]
  },
  {
   "cell_type": "code",
   "execution_count": 1296,
   "metadata": {},
   "outputs": [
    {
     "data": {
      "text/plain": [
       "13.583159043034707"
      ]
     },
     "execution_count": 1296,
     "metadata": {},
     "output_type": "execute_result"
    }
   ],
   "source": [
    "simulation_std"
   ]
  },
  {
   "cell_type": "code",
   "execution_count": 1307,
   "metadata": {},
   "outputs": [
    {
     "name": "stderr",
     "output_type": "stream",
     "text": [
      "/Users/wcasey/anaconda/lib/python3.6/site-packages/scipy/stats/stats.py:1713: FutureWarning: Using a non-tuple sequence for multidimensional indexing is deprecated; use `arr[tuple(seq)]` instead of `arr[seq]`. In the future this will be interpreted as an array index, `arr[np.array(seq)]`, which will result either in an error or a different result.\n",
      "  return np.add.reduce(sorted[indexer] * weights, axis=axis) / sumval\n"
     ]
    },
    {
     "data": {
      "text/plain": [
       "<matplotlib.axes._subplots.AxesSubplot at 0x122282208>"
      ]
     },
     "execution_count": 1307,
     "metadata": {},
     "output_type": "execute_result"
    },
    {
     "data": {
      "image/png": "[encoded data removed]",
      "text/plain": [
       "<Figure size 432x288 with 1 Axes>"
      ]
     },
     "metadata": {},
     "output_type": "display_data"
    }
   ],
   "source": [
    "vertlines = [simulation_std, -1*simulation_std, simulation_std*2, -2*simulation_std, 0.5*simulation_std, -0.5*simulation_std]\n",
    "for lines in vertlines:\n",
    "    plt.axvline(x=lines, ls=':', color='black')\n",
    "plt.axvline(x=0, color='black')\n",
    "# sns.distplot(simulation)\n",
    "sns.distplot([battle1.battle()[2] for i in range(10000)])"
   ]
  },
  {
   "cell_type": "code",
   "execution_count": 1204,
   "metadata": {},
   "outputs": [
    {
     "data": {
      "text/plain": [
       "2.030847347246983"
      ]
     },
     "execution_count": 1204,
     "metadata": {},
     "output_type": "execute_result"
    }
   ],
   "source": [
    "battle1.battle()[2]"
   ]
  },
  {
   "cell_type": "code",
   "execution_count": 1178,
   "metadata": {},
   "outputs": [
    {
     "name": "stderr",
     "output_type": "stream",
     "text": [
      "/Users/wcasey/anaconda/lib/python3.6/site-packages/scipy/stats/stats.py:1713: FutureWarning: Using a non-tuple sequence for multidimensional indexing is deprecated; use `arr[tuple(seq)]` instead of `arr[seq]`. In the future this will be interpreted as an array index, `arr[np.array(seq)]`, which will result either in an error or a different result.\n",
      "  return np.add.reduce(sorted[indexer] * weights, axis=axis) / sumval\n"
     ]
    },
    {
     "data": {
      "text/plain": [
       "<matplotlib.axes._subplots.AxesSubplot at 0x11ff80b00>"
      ]
     },
     "execution_count": 1178,
     "metadata": {},
     "output_type": "execute_result"
    },
    {
     "data": {
      "image/png": "[encoded data removed]",
      "text/plain": [
       "<Figure size 432x288 with 1 Axes>"
      ]
     },
     "metadata": {},
     "output_type": "display_data"
    }
   ],
   "source": []
  },
  {
   "cell_type": "code",
   "execution_count": 1082,
   "metadata": {
    "collapsed": true
   },
   "outputs": [],
   "source": [
    "E_X = np.mean([battle1.battle()[2] for i in range(10000)]) "
   ]
  },
  {
   "cell_type": "code",
   "execution_count": 1083,
   "metadata": {
    "collapsed": true
   },
   "outputs": [],
   "source": [
    "std_X = np.std([battle1.battle()[2] for i in range(10000)])"
   ]
  },
  {
   "cell_type": "code",
   "execution_count": 1085,
   "metadata": {},
   "outputs": [
    {
     "data": {
      "text/plain": [
       "(-5.53122403292722, 32.672970594453396)"
      ]
     },
     "execution_count": 1085,
     "metadata": {},
     "output_type": "execute_result"
    }
   ],
   "source": [
    "(E_X - std_X, E_X + std_X)"
   ]
  },
  {
   "cell_type": "code",
   "execution_count": 1050,
   "metadata": {},
   "outputs": [
    {
     "data": {
      "text/plain": [
       "24.613458429185176"
      ]
     },
     "execution_count": 1050,
     "metadata": {},
     "output_type": "execute_result"
    }
   ],
   "source": [
    "result_score"
   ]
  },
  {
   "cell_type": "code",
   "execution_count": 883,
   "metadata": {},
   "outputs": [
    {
     "name": "stderr",
     "output_type": "stream",
     "text": [
      "/Users/wcasey/anaconda/lib/python3.6/site-packages/scipy/stats/stats.py:1713: FutureWarning: Using a non-tuple sequence for multidimensional indexing is deprecated; use `arr[tuple(seq)]` instead of `arr[seq]`. In the future this will be interpreted as an array index, `arr[np.array(seq)]`, which will result either in an error or a different result.\n",
      "  return np.add.reduce(sorted[indexer] * weights, axis=axis) / sumval\n"
     ]
    },
    {
     "data": {
      "text/plain": [
       "<matplotlib.axes._subplots.AxesSubplot at 0x11f167cc0>"
      ]
     },
     "execution_count": 883,
     "metadata": {},
     "output_type": "execute_result"
    },
    {
     "data": {
      "image/png": "[encoded data removed]",
      "text/plain": [
       "<Figure size 432x288 with 1 Axes>"
      ]
     },
     "metadata": {},
     "output_type": "display_data"
    }
   ],
   "source": [
    "sns.distplot([inf_1.battlescore() for i in range(1000)])\n",
    "sns.distplot([(inf_1.battlescore(attacking=True) + art_1.battlescore(attacking=True)) for i in range(1000)])"
   ]
  },
  {
   "cell_type": "code",
   "execution_count": 882,
   "metadata": {},
   "outputs": [
    {
     "name": "stderr",
     "output_type": "stream",
     "text": [
      "/Users/wcasey/anaconda/lib/python3.6/site-packages/scipy/stats/stats.py:1713: FutureWarning: Using a non-tuple sequence for multidimensional indexing is deprecated; use `arr[tuple(seq)]` instead of `arr[seq]`. In the future this will be interpreted as an array index, `arr[np.array(seq)]`, which will result either in an error or a different result.\n",
      "  return np.add.reduce(sorted[indexer] * weights, axis=axis) / sumval\n"
     ]
    },
    {
     "data": {
      "text/plain": [
       "<matplotlib.axes._subplots.AxesSubplot at 0x11f0f5ac8>"
      ]
     },
     "execution_count": 882,
     "metadata": {},
     "output_type": "execute_result"
    },
    {
     "data": {
      "image/png": "[encoded data removed]",
      "text/plain": [
       "<Figure size 432x288 with 1 Axes>"
      ]
     },
     "metadata": {},
     "output_type": "display_data"
    }
   ],
   "source": []
  }
 ],
 "metadata": {
  "kernelspec": {
   "display_name": "Python 3",
   "language": "python",
   "name": "python3"
  },
  "language_info": {
   "codemirror_mode": {
    "name": "ipython",
    "version": 3
   },
   "file_extension": ".py",
   "mimetype": "text/x-python",
   "name": "python",
   "nbconvert_exporter": "python",
   "pygments_lexer": "ipython3",
   "version": "3.6.1"
  }
 },
 "nbformat": 4,
 "nbformat_minor": 2
}
