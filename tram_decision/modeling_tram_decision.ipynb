{
 "cells": [
  {
   "cell_type": "code",
   "execution_count": 319,
   "metadata": {},
   "outputs": [],
   "source": [
    "import scipy.stats as sc\n",
    "import seaborn as sns\n",
    "import matplotlib.pyplot as plt\n",
    "import pandas as pd\n",
    "import numpy as np\n",
    "from sklearn.linear_model import LogisticRegression\n",
    "%matplotlib inline"
   ]
  },
  {
   "cell_type": "markdown",
   "metadata": {},
   "source": [
    "What do I want to do? minimize wait time"
   ]
  },
  {
   "cell_type": "code",
   "execution_count": 114,
   "metadata": {},
   "outputs": [],
   "source": [
    "nr_simulations = 10000\n",
    "mins = range(0, 11)\n",
    "obs = range(1, nr_simulations+1)"
   ]
  },
  {
   "cell_type": "code",
   "execution_count": 115,
   "metadata": {},
   "outputs": [],
   "source": [
    "obs_list = []\n",
    "mins_list = []\n",
    "for i in obs:\n",
    "    for m in mins:\n",
    "        obs_list.append(i)\n",
    "        mins_list.append(m)"
   ]
  },
  {
   "cell_type": "code",
   "execution_count": 116,
   "metadata": {},
   "outputs": [
    {
     "data": {
      "text/plain": [
       "110000"
      ]
     },
     "execution_count": 116,
     "metadata": {},
     "output_type": "execute_result"
    }
   ],
   "source": [
    "len(obs_list)"
   ]
  },
  {
   "cell_type": "code",
   "execution_count": 117,
   "metadata": {},
   "outputs": [
    {
     "data": {
      "text/plain": [
       "110000"
      ]
     },
     "execution_count": 117,
     "metadata": {},
     "output_type": "execute_result"
    }
   ],
   "source": [
    "len(mins_list)"
   ]
  },
  {
   "cell_type": "code",
   "execution_count": 118,
   "metadata": {},
   "outputs": [],
   "source": [
    "mu = 1.6\n",
    "poisson_valu_list = sc.poisson.rvs(mu, size=len(mins_list))"
   ]
  },
  {
   "cell_type": "code",
   "execution_count": 119,
   "metadata": {},
   "outputs": [],
   "source": [
    "df = pd.DataFrame({'obs': obs_list, 'mins_since_last_tram': mins_list, 'poisson_value': poisson_valu_list})"
   ]
  },
  {
   "cell_type": "code",
   "execution_count": 120,
   "metadata": {},
   "outputs": [],
   "source": [
    "df_cumsum = df.groupby(by=['obs','mins_since_last_tram']).sum().groupby(level=[0]).cumsum().reset_index()\n",
    "df_cumsum = df_cumsum.rename(columns={'poisson_value': 'nr_people_cumsum_poisson_value'})"
   ]
  },
  {
   "cell_type": "code",
   "execution_count": 330,
   "metadata": {},
   "outputs": [],
   "source": [
    "def get_expon_rv(current_min, input_scale):\n",
    "    return sc.expon.rvs(scale=(input_scale - current_min))"
   ]
  },
  {
   "cell_type": "code",
   "execution_count": null,
   "metadata": {},
   "outputs": [],
   "source": []
  },
  {
   "cell_type": "code",
   "execution_count": 333,
   "metadata": {},
   "outputs": [],
   "source": [
    "df_cumsum['expected_wait_time_24_tram'] = df_cumsum.apply(lambda x: get_expon_rv(x['mins_since_last_tram'], 10), axis=1)\n",
    "df_cumsum['expected_wait_time_24_tram_2'] = df_cumsum.apply(lambda x: get_expon_rv(x['mins_since_last_tram'], 20), axis=1)"
   ]
  },
  {
   "cell_type": "code",
   "execution_count": 125,
   "metadata": {},
   "outputs": [],
   "source": [
    "df_cumsum['walk_time'] = 2.15"
   ]
  },
  {
   "cell_type": "code",
   "execution_count": 131,
   "metadata": {},
   "outputs": [],
   "source": [
    "df_cumsum['mins_since_last_4_tram'] = np.random.randint(1, 8, size=len(mins_list))\n",
    "df_cumsum['mins_since_last_14_tram'] = np.random.randint(1, 8, size=len(mins_list))\n",
    "\n",
    "df_cumsum['expected_wait_time_4_tram'] = sc.expon.rvs(scale=(8- df_cumsum.mins_since_last_4_tram), size=len(mins_list))\n",
    "df_cumsum['expected_wait_time_14_tram'] = sc.expon.rvs(scale=(8- df_cumsum.mins_since_last_14_tram), size=len(mins_list))\n",
    "\n",
    "\n"
   ]
  },
  {
   "cell_type": "code",
   "execution_count": 334,
   "metadata": {},
   "outputs": [
    {
     "data": {
      "text/html": [
       "<div>\n",
       "<style scoped>\n",
       "    .dataframe tbody tr th:only-of-type {\n",
       "        vertical-align: middle;\n",
       "    }\n",
       "\n",
       "    .dataframe tbody tr th {\n",
       "        vertical-align: top;\n",
       "    }\n",
       "\n",
       "    .dataframe thead th {\n",
       "        text-align: right;\n",
       "    }\n",
       "</style>\n",
       "<table border=\"1\" class=\"dataframe\">\n",
       "  <thead>\n",
       "    <tr style=\"text-align: right;\">\n",
       "      <th></th>\n",
       "      <th>obs</th>\n",
       "      <th>mins_since_last_tram</th>\n",
       "      <th>nr_people_cumsum_poisson_value</th>\n",
       "      <th>expected_wait_time_24_tram</th>\n",
       "      <th>walk_time</th>\n",
       "      <th>mins_since_last_4_tram</th>\n",
       "      <th>mins_since_last_14_tram</th>\n",
       "      <th>expected_wait_time_4_tram</th>\n",
       "      <th>expected_wait_time_14_tram</th>\n",
       "      <th>total_expected_wait_time_4_tram</th>\n",
       "      <th>total_expected_wait_time_14_tram</th>\n",
       "      <th>should_stay</th>\n",
       "      <th>prediction</th>\n",
       "      <th>expected_wait_time_from_walking</th>\n",
       "      <th>predicted_wait_time</th>\n",
       "      <th>always_stay__wait_time</th>\n",
       "      <th>always_walk__wait_time</th>\n",
       "      <th>predicted__wait_time</th>\n",
       "      <th>random_choice__wait_time</th>\n",
       "      <th>expected_wait_time_24_tram_2</th>\n",
       "    </tr>\n",
       "  </thead>\n",
       "  <tbody>\n",
       "    <tr>\n",
       "      <th>0</th>\n",
       "      <td>1</td>\n",
       "      <td>0</td>\n",
       "      <td>1</td>\n",
       "      <td>2.939666</td>\n",
       "      <td>2.15</td>\n",
       "      <td>5</td>\n",
       "      <td>5</td>\n",
       "      <td>0.337822</td>\n",
       "      <td>4.491567</td>\n",
       "      <td>2.487822</td>\n",
       "      <td>6.641567</td>\n",
       "      <td>0</td>\n",
       "      <td>0</td>\n",
       "      <td>2.487822</td>\n",
       "      <td>2.487822</td>\n",
       "      <td>12.141588</td>\n",
       "      <td>2.487822</td>\n",
       "      <td>2.487822</td>\n",
       "      <td>12.141588</td>\n",
       "      <td>4.497557</td>\n",
       "    </tr>\n",
       "    <tr>\n",
       "      <th>1</th>\n",
       "      <td>1</td>\n",
       "      <td>1</td>\n",
       "      <td>3</td>\n",
       "      <td>6.733528</td>\n",
       "      <td>2.15</td>\n",
       "      <td>3</td>\n",
       "      <td>4</td>\n",
       "      <td>0.104964</td>\n",
       "      <td>6.929550</td>\n",
       "      <td>2.254964</td>\n",
       "      <td>9.079550</td>\n",
       "      <td>0</td>\n",
       "      <td>0</td>\n",
       "      <td>2.254964</td>\n",
       "      <td>2.254964</td>\n",
       "      <td>7.422058</td>\n",
       "      <td>2.254964</td>\n",
       "      <td>2.254964</td>\n",
       "      <td>7.422058</td>\n",
       "      <td>18.252127</td>\n",
       "    </tr>\n",
       "    <tr>\n",
       "      <th>2</th>\n",
       "      <td>1</td>\n",
       "      <td>2</td>\n",
       "      <td>6</td>\n",
       "      <td>1.567010</td>\n",
       "      <td>2.15</td>\n",
       "      <td>3</td>\n",
       "      <td>5</td>\n",
       "      <td>1.287764</td>\n",
       "      <td>3.812132</td>\n",
       "      <td>3.437764</td>\n",
       "      <td>5.962132</td>\n",
       "      <td>0</td>\n",
       "      <td>0</td>\n",
       "      <td>3.437764</td>\n",
       "      <td>3.437764</td>\n",
       "      <td>5.874118</td>\n",
       "      <td>3.437764</td>\n",
       "      <td>3.437764</td>\n",
       "      <td>5.874118</td>\n",
       "      <td>12.752228</td>\n",
       "    </tr>\n",
       "    <tr>\n",
       "      <th>3</th>\n",
       "      <td>1</td>\n",
       "      <td>3</td>\n",
       "      <td>7</td>\n",
       "      <td>1.334430</td>\n",
       "      <td>2.15</td>\n",
       "      <td>4</td>\n",
       "      <td>7</td>\n",
       "      <td>1.153092</td>\n",
       "      <td>0.529538</td>\n",
       "      <td>3.303092</td>\n",
       "      <td>2.679538</td>\n",
       "      <td>0</td>\n",
       "      <td>0</td>\n",
       "      <td>2.679538</td>\n",
       "      <td>2.679538</td>\n",
       "      <td>20.572917</td>\n",
       "      <td>2.679538</td>\n",
       "      <td>2.679538</td>\n",
       "      <td>2.679538</td>\n",
       "      <td>4.138723</td>\n",
       "    </tr>\n",
       "    <tr>\n",
       "      <th>4</th>\n",
       "      <td>1</td>\n",
       "      <td>4</td>\n",
       "      <td>9</td>\n",
       "      <td>2.530643</td>\n",
       "      <td>2.15</td>\n",
       "      <td>3</td>\n",
       "      <td>6</td>\n",
       "      <td>3.731966</td>\n",
       "      <td>4.915687</td>\n",
       "      <td>5.881966</td>\n",
       "      <td>7.065687</td>\n",
       "      <td>0</td>\n",
       "      <td>1</td>\n",
       "      <td>5.881966</td>\n",
       "      <td>14.704354</td>\n",
       "      <td>14.704354</td>\n",
       "      <td>5.881966</td>\n",
       "      <td>14.704354</td>\n",
       "      <td>5.881966</td>\n",
       "      <td>4.387351</td>\n",
       "    </tr>\n",
       "  </tbody>\n",
       "</table>\n",
       "</div>"
      ],
      "text/plain": [
       "   obs  mins_since_last_tram  nr_people_cumsum_poisson_value  \\\n",
       "0    1                     0                               1   \n",
       "1    1                     1                               3   \n",
       "2    1                     2                               6   \n",
       "3    1                     3                               7   \n",
       "4    1                     4                               9   \n",
       "\n",
       "   expected_wait_time_24_tram  walk_time  mins_since_last_4_tram  \\\n",
       "0                    2.939666       2.15                       5   \n",
       "1                    6.733528       2.15                       3   \n",
       "2                    1.567010       2.15                       3   \n",
       "3                    1.334430       2.15                       4   \n",
       "4                    2.530643       2.15                       3   \n",
       "\n",
       "   mins_since_last_14_tram  expected_wait_time_4_tram  \\\n",
       "0                        5                   0.337822   \n",
       "1                        4                   0.104964   \n",
       "2                        5                   1.287764   \n",
       "3                        7                   1.153092   \n",
       "4                        6                   3.731966   \n",
       "\n",
       "   expected_wait_time_14_tram  total_expected_wait_time_4_tram  \\\n",
       "0                    4.491567                         2.487822   \n",
       "1                    6.929550                         2.254964   \n",
       "2                    3.812132                         3.437764   \n",
       "3                    0.529538                         3.303092   \n",
       "4                    4.915687                         5.881966   \n",
       "\n",
       "   total_expected_wait_time_14_tram  should_stay  prediction  \\\n",
       "0                          6.641567            0           0   \n",
       "1                          9.079550            0           0   \n",
       "2                          5.962132            0           0   \n",
       "3                          2.679538            0           0   \n",
       "4                          7.065687            0           1   \n",
       "\n",
       "   expected_wait_time_from_walking  predicted_wait_time  \\\n",
       "0                         2.487822             2.487822   \n",
       "1                         2.254964             2.254964   \n",
       "2                         3.437764             3.437764   \n",
       "3                         2.679538             2.679538   \n",
       "4                         5.881966            14.704354   \n",
       "\n",
       "   always_stay__wait_time  always_walk__wait_time  predicted__wait_time  \\\n",
       "0               12.141588                2.487822              2.487822   \n",
       "1                7.422058                2.254964              2.254964   \n",
       "2                5.874118                3.437764              3.437764   \n",
       "3               20.572917                2.679538              2.679538   \n",
       "4               14.704354                5.881966             14.704354   \n",
       "\n",
       "   random_choice__wait_time  expected_wait_time_24_tram_2  \n",
       "0                 12.141588                      4.497557  \n",
       "1                  7.422058                     18.252127  \n",
       "2                  5.874118                     12.752228  \n",
       "3                  2.679538                      4.138723  \n",
       "4                  5.881966                      4.387351  "
      ]
     },
     "execution_count": 334,
     "metadata": {},
     "output_type": "execute_result"
    }
   ],
   "source": [
    "df_cumsum.head()"
   ]
  },
  {
   "cell_type": "code",
   "execution_count": 133,
   "metadata": {},
   "outputs": [],
   "source": [
    "df_cumsum['total_expected_wait_time_4_tram'] = df_cumsum.walk_time + df_cumsum.expected_wait_time_4_tram\n",
    "df_cumsum['total_expected_wait_time_14_tram'] = df_cumsum.walk_time + df_cumsum.expected_wait_time_14_tram\n",
    "\n"
   ]
  },
  {
   "cell_type": "code",
   "execution_count": 337,
   "metadata": {},
   "outputs": [],
   "source": [
    "x = np.array([1, 2, 3])"
   ]
  },
  {
   "cell_type": "code",
   "execution_count": 340,
   "metadata": {},
   "outputs": [],
   "source": [
    "def take_min(a):\n",
    "    if min(a) < 2:\n",
    "        print(min(a))\n",
    "        return 1\n",
    "    else:\n",
    "        return 0"
   ]
  },
  {
   "cell_type": "code",
   "execution_count": 341,
   "metadata": {},
   "outputs": [
    {
     "name": "stdout",
     "output_type": "stream",
     "text": [
      "1\n"
     ]
    },
    {
     "data": {
      "text/plain": [
       "1"
      ]
     },
     "execution_count": 341,
     "metadata": {},
     "output_type": "execute_result"
    }
   ],
   "source": [
    "take_min(x)"
   ]
  },
  {
   "cell_type": "code",
   "execution_count": 342,
   "metadata": {},
   "outputs": [],
   "source": [
    "def should_stay(exp_4, exp_14, exp_24, exp_24_2):\n",
    "    if min(exp_4, exp_14) > min(exp_24, exp_24_2):\n",
    "        return 1\n",
    "    else:\n",
    "        return 0\n",
    "#     if exp_4 > exp_24 and exp_14 > exp_24:\n",
    "#         return 1\n",
    "#     else:\n",
    "#         return 0\n",
    "\n",
    "df_cumsum['should_stay'] = df_cumsum.apply(lambda x: should_stay(x['total_expected_wait_time_4_tram'], x['total_expected_wait_time_14_tram'], x['expected_wait_time_24_tram'], x['expected_wait_time_24_tram_2']), axis=1)\n",
    "\n",
    "\n",
    "# df['newcolumn'] = df.apply(lambda x: fxy(x['A'], x['B']), axis=1)\n"
   ]
  },
  {
   "cell_type": "code",
   "execution_count": 343,
   "metadata": {},
   "outputs": [
    {
     "data": {
      "text/html": [
       "<div>\n",
       "<style scoped>\n",
       "    .dataframe tbody tr th:only-of-type {\n",
       "        vertical-align: middle;\n",
       "    }\n",
       "\n",
       "    .dataframe tbody tr th {\n",
       "        vertical-align: top;\n",
       "    }\n",
       "\n",
       "    .dataframe thead th {\n",
       "        text-align: right;\n",
       "    }\n",
       "</style>\n",
       "<table border=\"1\" class=\"dataframe\">\n",
       "  <thead>\n",
       "    <tr style=\"text-align: right;\">\n",
       "      <th></th>\n",
       "      <th>obs</th>\n",
       "      <th>mins_since_last_tram</th>\n",
       "      <th>nr_people_cumsum_poisson_value</th>\n",
       "      <th>expected_wait_time_24_tram</th>\n",
       "      <th>walk_time</th>\n",
       "      <th>mins_since_last_4_tram</th>\n",
       "      <th>mins_since_last_14_tram</th>\n",
       "      <th>expected_wait_time_4_tram</th>\n",
       "      <th>expected_wait_time_14_tram</th>\n",
       "      <th>total_expected_wait_time_4_tram</th>\n",
       "      <th>total_expected_wait_time_14_tram</th>\n",
       "      <th>should_stay</th>\n",
       "      <th>prediction</th>\n",
       "      <th>expected_wait_time_from_walking</th>\n",
       "      <th>predicted_wait_time</th>\n",
       "      <th>always_stay__wait_time</th>\n",
       "      <th>always_walk__wait_time</th>\n",
       "      <th>predicted__wait_time</th>\n",
       "      <th>random_choice__wait_time</th>\n",
       "      <th>expected_wait_time_24_tram_2</th>\n",
       "    </tr>\n",
       "  </thead>\n",
       "  <tbody>\n",
       "    <tr>\n",
       "      <th>0</th>\n",
       "      <td>1</td>\n",
       "      <td>0</td>\n",
       "      <td>1</td>\n",
       "      <td>2.939666</td>\n",
       "      <td>2.15</td>\n",
       "      <td>5</td>\n",
       "      <td>5</td>\n",
       "      <td>0.337822</td>\n",
       "      <td>4.491567</td>\n",
       "      <td>2.487822</td>\n",
       "      <td>6.641567</td>\n",
       "      <td>0</td>\n",
       "      <td>0</td>\n",
       "      <td>2.487822</td>\n",
       "      <td>2.487822</td>\n",
       "      <td>12.141588</td>\n",
       "      <td>2.487822</td>\n",
       "      <td>2.487822</td>\n",
       "      <td>12.141588</td>\n",
       "      <td>4.497557</td>\n",
       "    </tr>\n",
       "    <tr>\n",
       "      <th>1</th>\n",
       "      <td>1</td>\n",
       "      <td>1</td>\n",
       "      <td>3</td>\n",
       "      <td>6.733528</td>\n",
       "      <td>2.15</td>\n",
       "      <td>3</td>\n",
       "      <td>4</td>\n",
       "      <td>0.104964</td>\n",
       "      <td>6.929550</td>\n",
       "      <td>2.254964</td>\n",
       "      <td>9.079550</td>\n",
       "      <td>0</td>\n",
       "      <td>0</td>\n",
       "      <td>2.254964</td>\n",
       "      <td>2.254964</td>\n",
       "      <td>7.422058</td>\n",
       "      <td>2.254964</td>\n",
       "      <td>2.254964</td>\n",
       "      <td>7.422058</td>\n",
       "      <td>18.252127</td>\n",
       "    </tr>\n",
       "    <tr>\n",
       "      <th>2</th>\n",
       "      <td>1</td>\n",
       "      <td>2</td>\n",
       "      <td>6</td>\n",
       "      <td>1.567010</td>\n",
       "      <td>2.15</td>\n",
       "      <td>3</td>\n",
       "      <td>5</td>\n",
       "      <td>1.287764</td>\n",
       "      <td>3.812132</td>\n",
       "      <td>3.437764</td>\n",
       "      <td>5.962132</td>\n",
       "      <td>1</td>\n",
       "      <td>0</td>\n",
       "      <td>3.437764</td>\n",
       "      <td>3.437764</td>\n",
       "      <td>5.874118</td>\n",
       "      <td>3.437764</td>\n",
       "      <td>3.437764</td>\n",
       "      <td>5.874118</td>\n",
       "      <td>12.752228</td>\n",
       "    </tr>\n",
       "    <tr>\n",
       "      <th>3</th>\n",
       "      <td>1</td>\n",
       "      <td>3</td>\n",
       "      <td>7</td>\n",
       "      <td>1.334430</td>\n",
       "      <td>2.15</td>\n",
       "      <td>4</td>\n",
       "      <td>7</td>\n",
       "      <td>1.153092</td>\n",
       "      <td>0.529538</td>\n",
       "      <td>3.303092</td>\n",
       "      <td>2.679538</td>\n",
       "      <td>1</td>\n",
       "      <td>0</td>\n",
       "      <td>2.679538</td>\n",
       "      <td>2.679538</td>\n",
       "      <td>20.572917</td>\n",
       "      <td>2.679538</td>\n",
       "      <td>2.679538</td>\n",
       "      <td>2.679538</td>\n",
       "      <td>4.138723</td>\n",
       "    </tr>\n",
       "    <tr>\n",
       "      <th>4</th>\n",
       "      <td>1</td>\n",
       "      <td>4</td>\n",
       "      <td>9</td>\n",
       "      <td>2.530643</td>\n",
       "      <td>2.15</td>\n",
       "      <td>3</td>\n",
       "      <td>6</td>\n",
       "      <td>3.731966</td>\n",
       "      <td>4.915687</td>\n",
       "      <td>5.881966</td>\n",
       "      <td>7.065687</td>\n",
       "      <td>1</td>\n",
       "      <td>1</td>\n",
       "      <td>5.881966</td>\n",
       "      <td>14.704354</td>\n",
       "      <td>14.704354</td>\n",
       "      <td>5.881966</td>\n",
       "      <td>14.704354</td>\n",
       "      <td>5.881966</td>\n",
       "      <td>4.387351</td>\n",
       "    </tr>\n",
       "  </tbody>\n",
       "</table>\n",
       "</div>"
      ],
      "text/plain": [
       "   obs  mins_since_last_tram  nr_people_cumsum_poisson_value  \\\n",
       "0    1                     0                               1   \n",
       "1    1                     1                               3   \n",
       "2    1                     2                               6   \n",
       "3    1                     3                               7   \n",
       "4    1                     4                               9   \n",
       "\n",
       "   expected_wait_time_24_tram  walk_time  mins_since_last_4_tram  \\\n",
       "0                    2.939666       2.15                       5   \n",
       "1                    6.733528       2.15                       3   \n",
       "2                    1.567010       2.15                       3   \n",
       "3                    1.334430       2.15                       4   \n",
       "4                    2.530643       2.15                       3   \n",
       "\n",
       "   mins_since_last_14_tram  expected_wait_time_4_tram  \\\n",
       "0                        5                   0.337822   \n",
       "1                        4                   0.104964   \n",
       "2                        5                   1.287764   \n",
       "3                        7                   1.153092   \n",
       "4                        6                   3.731966   \n",
       "\n",
       "   expected_wait_time_14_tram  total_expected_wait_time_4_tram  \\\n",
       "0                    4.491567                         2.487822   \n",
       "1                    6.929550                         2.254964   \n",
       "2                    3.812132                         3.437764   \n",
       "3                    0.529538                         3.303092   \n",
       "4                    4.915687                         5.881966   \n",
       "\n",
       "   total_expected_wait_time_14_tram  should_stay  prediction  \\\n",
       "0                          6.641567            0           0   \n",
       "1                          9.079550            0           0   \n",
       "2                          5.962132            1           0   \n",
       "3                          2.679538            1           0   \n",
       "4                          7.065687            1           1   \n",
       "\n",
       "   expected_wait_time_from_walking  predicted_wait_time  \\\n",
       "0                         2.487822             2.487822   \n",
       "1                         2.254964             2.254964   \n",
       "2                         3.437764             3.437764   \n",
       "3                         2.679538             2.679538   \n",
       "4                         5.881966            14.704354   \n",
       "\n",
       "   always_stay__wait_time  always_walk__wait_time  predicted__wait_time  \\\n",
       "0               12.141588                2.487822              2.487822   \n",
       "1                7.422058                2.254964              2.254964   \n",
       "2                5.874118                3.437764              3.437764   \n",
       "3               20.572917                2.679538              2.679538   \n",
       "4               14.704354                5.881966             14.704354   \n",
       "\n",
       "   random_choice__wait_time  expected_wait_time_24_tram_2  \n",
       "0                 12.141588                      4.497557  \n",
       "1                  7.422058                     18.252127  \n",
       "2                  5.874118                     12.752228  \n",
       "3                  2.679538                      4.138723  \n",
       "4                  5.881966                      4.387351  "
      ]
     },
     "execution_count": 343,
     "metadata": {},
     "output_type": "execute_result"
    }
   ],
   "source": [
    "df_cumsum.head()"
   ]
  },
  {
   "cell_type": "code",
   "execution_count": 344,
   "metadata": {},
   "outputs": [
    {
     "name": "stderr",
     "output_type": "stream",
     "text": [
      "/Users/will/anaconda3/lib/python3.7/site-packages/scipy/stats/stats.py:1713: FutureWarning: Using a non-tuple sequence for multidimensional indexing is deprecated; use `arr[tuple(seq)]` instead of `arr[seq]`. In the future this will be interpreted as an array index, `arr[np.array(seq)]`, which will result either in an error or a different result.\n",
      "  return np.add.reduce(sorted[indexer] * weights, axis=axis) / sumval\n"
     ]
    },
    {
     "data": {
      "image/png": "[encoded data removed]",
      "text/plain": [
       "<Figure size 432x432 with 3 Axes>"
      ]
     },
     "metadata": {
      "needs_background": "light"
     },
     "output_type": "display_data"
    }
   ],
   "source": [
    "sns.jointplot(x=\"nr_people_cumsum_poisson_value\", y=\"should_stay\", data=df_cumsum, kind=\"kde\");"
   ]
  },
  {
   "cell_type": "code",
   "execution_count": 18,
   "metadata": {},
   "outputs": [],
   "source": [
    "# print(df_cumsum[df_cumsum['nr_people_cumsum_poisson_value'] == 4]['expected_wait_time_24_tram'].mean())\n",
    "# sns.distplot(df_cumsum[df_cumsum['nr_people_cumsum_poisson_value'] == 4]['expected_wait_time_24_tram'])"
   ]
  },
  {
   "cell_type": "code",
   "execution_count": 345,
   "metadata": {},
   "outputs": [
    {
     "data": {
      "text/plain": [
       "<matplotlib.axes._subplots.AxesSubplot at 0x1a1c50a1d0>"
      ]
     },
     "execution_count": 345,
     "metadata": {},
     "output_type": "execute_result"
    },
    {
     "data": {
      "image/png": "[encoded data removed]",
      "text/plain": [
       "<Figure size 432x288 with 1 Axes>"
      ]
     },
     "metadata": {
      "needs_background": "light"
     },
     "output_type": "display_data"
    }
   ],
   "source": [
    "sns.regplot(x = df_cumsum.nr_people_cumsum_poisson_value, y= df_cumsum.mins_since_last_tram)"
   ]
  },
  {
   "cell_type": "code",
   "execution_count": 346,
   "metadata": {},
   "outputs": [],
   "source": [
    "lr = LogisticRegression()"
   ]
  },
  {
   "cell_type": "code",
   "execution_count": 347,
   "metadata": {},
   "outputs": [
    {
     "data": {
      "text/plain": [
       "(110000,)"
      ]
     },
     "execution_count": 347,
     "metadata": {},
     "output_type": "execute_result"
    }
   ],
   "source": [
    "df_cumsum.nr_people_cumsum_poisson_value.shape"
   ]
  },
  {
   "cell_type": "code",
   "execution_count": 348,
   "metadata": {},
   "outputs": [],
   "source": [
    "X = np.array(df_cumsum.nr_people_cumsum_poisson_value).reshape((len(mins_list),1))\n",
    "y = np.array(df_cumsum.should_stay).reshape((len(mins_list),1))"
   ]
  },
  {
   "cell_type": "code",
   "execution_count": 349,
   "metadata": {},
   "outputs": [
    {
     "name": "stderr",
     "output_type": "stream",
     "text": [
      "/Users/will/anaconda3/lib/python3.7/site-packages/sklearn/linear_model/logistic.py:433: FutureWarning: Default solver will be changed to 'lbfgs' in 0.22. Specify a solver to silence this warning.\n",
      "  FutureWarning)\n",
      "/Users/will/anaconda3/lib/python3.7/site-packages/sklearn/utils/validation.py:761: DataConversionWarning: A column-vector y was passed when a 1d array was expected. Please change the shape of y to (n_samples, ), for example using ravel().\n",
      "  y = column_or_1d(y, warn=True)\n"
     ]
    }
   ],
   "source": [
    "model = lr.fit(X, y)"
   ]
  },
  {
   "cell_type": "code",
   "execution_count": 350,
   "metadata": {},
   "outputs": [
    {
     "data": {
      "text/plain": [
       "83593"
      ]
     },
     "execution_count": 350,
     "metadata": {},
     "output_type": "execute_result"
    }
   ],
   "source": [
    "sum(model.predict(X))"
   ]
  },
  {
   "cell_type": "code",
   "execution_count": 351,
   "metadata": {},
   "outputs": [],
   "source": [
    "df_cumsum['prediction'] = model.predict(X)"
   ]
  },
  {
   "cell_type": "code",
   "execution_count": null,
   "metadata": {
    "scrolled": true
   },
   "outputs": [],
   "source": []
  },
  {
   "cell_type": "code",
   "execution_count": 360,
   "metadata": {},
   "outputs": [],
   "source": [
    "def predicted_waiting_time(prediction, x, x1, y, z, random=False):\n",
    "    if random == True:\n",
    "        prediction = np.random.randint(0, 2)\n",
    "    if prediction == 1:\n",
    "        return min(x, x1)\n",
    "    else:\n",
    "        return min(y, z)\n",
    "\n"
   ]
  },
  {
   "cell_type": "code",
   "execution_count": 372,
   "metadata": {},
   "outputs": [],
   "source": [
    "df_cumsum['predicted__wait_time'] = df_cumsum[['prediction','expected_wait_time_24_tram', 'expected_wait_time_24_tram_2', 'total_expected_wait_time_4_tram', 'total_expected_wait_time_14_tram']].apply(lambda x: predicted_waiting_time(x['prediction'],x['expected_wait_time_24_tram'], x['expected_wait_time_24_tram_2'] ,x['total_expected_wait_time_4_tram'], x['total_expected_wait_time_14_tram']), axis=1)\n",
    "df_cumsum['always_walk__wait_time'] = df_cumsum[['total_expected_wait_time_4_tram', 'total_expected_wait_time_14_tram']].apply(lambda x: predicted_waiting_time(0,0, 0 ,x['total_expected_wait_time_4_tram'], x['total_expected_wait_time_14_tram']), axis=1)\n",
    "df_cumsum['always_stay__wait_time'] = df_cumsum[['expected_wait_time_24_tram', 'expected_wait_time_24_tram_2']].apply(lambda x: predicted_waiting_time(1,x['expected_wait_time_24_tram'], x['expected_wait_time_24_tram_2'], 0, 0), axis=1)\n",
    "df_cumsum['random_choice__wait_time'] = df_cumsum[['expected_wait_time_24_tram', 'total_expected_wait_time_4_tram', 'total_expected_wait_time_14_tram', 'expected_wait_time_24_tram_2']].apply(lambda x: predicted_waiting_time(0,x['expected_wait_time_24_tram'], x['expected_wait_time_24_tram_2'], x['total_expected_wait_time_4_tram'], x['total_expected_wait_time_14_tram'], random=True), axis=1)\n"
   ]
  },
  {
   "cell_type": "code",
   "execution_count": 373,
   "metadata": {},
   "outputs": [
    {
     "data": {
      "text/html": [
       "<div>\n",
       "<style scoped>\n",
       "    .dataframe tbody tr th:only-of-type {\n",
       "        vertical-align: middle;\n",
       "    }\n",
       "\n",
       "    .dataframe tbody tr th {\n",
       "        vertical-align: top;\n",
       "    }\n",
       "\n",
       "    .dataframe thead th {\n",
       "        text-align: right;\n",
       "    }\n",
       "</style>\n",
       "<table border=\"1\" class=\"dataframe\">\n",
       "  <thead>\n",
       "    <tr style=\"text-align: right;\">\n",
       "      <th></th>\n",
       "      <th>predicted_wait_time</th>\n",
       "    </tr>\n",
       "    <tr>\n",
       "      <th>prediction</th>\n",
       "      <th></th>\n",
       "    </tr>\n",
       "  </thead>\n",
       "  <tbody>\n",
       "    <tr>\n",
       "      <th>0</th>\n",
       "      <td>3.881859</td>\n",
       "    </tr>\n",
       "    <tr>\n",
       "      <th>1</th>\n",
       "      <td>3.207595</td>\n",
       "    </tr>\n",
       "  </tbody>\n",
       "</table>\n",
       "</div>"
      ],
      "text/plain": [
       "            predicted_wait_time\n",
       "prediction                     \n",
       "0                      3.881859\n",
       "1                      3.207595"
      ]
     },
     "execution_count": 373,
     "metadata": {},
     "output_type": "execute_result"
    }
   ],
   "source": [
    "df_cumsum.groupby('prediction').agg({'predicted_wait_time':np.mean})"
   ]
  },
  {
   "cell_type": "code",
   "execution_count": 374,
   "metadata": {},
   "outputs": [
    {
     "data": {
      "text/html": [
       "<div>\n",
       "<style scoped>\n",
       "    .dataframe tbody tr th:only-of-type {\n",
       "        vertical-align: middle;\n",
       "    }\n",
       "\n",
       "    .dataframe tbody tr th {\n",
       "        vertical-align: top;\n",
       "    }\n",
       "\n",
       "    .dataframe thead th {\n",
       "        text-align: right;\n",
       "    }\n",
       "</style>\n",
       "<table border=\"1\" class=\"dataframe\">\n",
       "  <thead>\n",
       "    <tr style=\"text-align: right;\">\n",
       "      <th></th>\n",
       "      <th>predicted_wait_time</th>\n",
       "      <th>always_walk__wait_time</th>\n",
       "      <th>always_stay__wait_time</th>\n",
       "      <th>random_choice__wait_time</th>\n",
       "    </tr>\n",
       "  </thead>\n",
       "  <tbody>\n",
       "    <tr>\n",
       "      <th>mean</th>\n",
       "      <td>3.369461</td>\n",
       "      <td>3.889940</td>\n",
       "      <td>3.567678</td>\n",
       "      <td>3.733614</td>\n",
       "    </tr>\n",
       "    <tr>\n",
       "      <th>std</th>\n",
       "      <td>3.590309</td>\n",
       "      <td>2.088916</td>\n",
       "      <td>4.569973</td>\n",
       "      <td>3.570337</td>\n",
       "    </tr>\n",
       "  </tbody>\n",
       "</table>\n",
       "</div>"
      ],
      "text/plain": [
       "      predicted_wait_time  always_walk__wait_time  always_stay__wait_time  \\\n",
       "mean             3.369461                3.889940                3.567678   \n",
       "std              3.590309                2.088916                4.569973   \n",
       "\n",
       "      random_choice__wait_time  \n",
       "mean                  3.733614  \n",
       "std                   3.570337  "
      ]
     },
     "execution_count": 374,
     "metadata": {},
     "output_type": "execute_result"
    }
   ],
   "source": [
    "df_cumsum.agg({'predicted_wait_time':[np.mean, np.std], 'always_walk__wait_time': [np.mean, np.std], 'always_stay__wait_time': [np.mean,np.std], 'random_choice__wait_time': [np.mean, np.std]})"
   ]
  },
  {
   "cell_type": "code",
   "execution_count": 375,
   "metadata": {},
   "outputs": [],
   "source": [
    "list_of_cols= ['predicted_wait_time', 'always_walk__wait_time', 'always_stay__wait_time', 'random_choice__wait_time']"
   ]
  },
  {
   "cell_type": "code",
   "execution_count": 376,
   "metadata": {},
   "outputs": [],
   "source": [
    "df_master = pd.DataFrame(columns=['item', 'wait_time'])\n"
   ]
  },
  {
   "cell_type": "code",
   "execution_count": 377,
   "metadata": {},
   "outputs": [],
   "source": [
    "for col in list_of_cols:\n",
    "    df = pd.DataFrame({'item': col, 'wait_time': df_cumsum[col]})\n",
    "    df_master = pd.concat([df_master, df])"
   ]
  },
  {
   "cell_type": "code",
   "execution_count": 378,
   "metadata": {},
   "outputs": [
    {
     "data": {
      "text/plain": [
       "<matplotlib.axes._subplots.AxesSubplot at 0x1a1c50a128>"
      ]
     },
     "execution_count": 378,
     "metadata": {},
     "output_type": "execute_result"
    },
    {
     "data": {
      "image/png": "[encoded data removed]",
      "text/plain": [
       "<Figure size 720x432 with 1 Axes>"
      ]
     },
     "metadata": {
      "needs_background": "light"
     },
     "output_type": "display_data"
    }
   ],
   "source": [
    "fig= plt.figure(figsize=(10,6))\n",
    "sns.boxplot(x=df_master.item, y=df_master.wait_time, data=df_master, showfliers=False)"
   ]
  },
  {
   "cell_type": "code",
   "execution_count": 379,
   "metadata": {},
   "outputs": [
    {
     "data": {
      "text/plain": [
       "<matplotlib.axes._subplots.AxesSubplot at 0x1a1f768b00>"
      ]
     },
     "execution_count": 379,
     "metadata": {},
     "output_type": "execute_result"
    },
    {
     "data": {
      "image/png": "[encoded data removed]",
      "text/plain": [
       "<Figure size 720x432 with 1 Axes>"
      ]
     },
     "metadata": {
      "needs_background": "light"
     },
     "output_type": "display_data"
    }
   ],
   "source": [
    "fig= plt.figure(figsize=(10,6))\n",
    "sns.boxplot(x=df_master.item, y=df_master.wait_time, data=df_master, showfliers=True)"
   ]
  },
  {
   "cell_type": "code",
   "execution_count": null,
   "metadata": {},
   "outputs": [],
   "source": []
  }
 ],
 "metadata": {
  "kernelspec": {
   "display_name": "Python 3",
   "language": "python",
   "name": "python3"
  },
  "language_info": {
   "codemirror_mode": {
    "name": "ipython",
    "version": 3
   },
   "file_extension": ".py",
   "mimetype": "text/x-python",
   "name": "python",
   "nbconvert_exporter": "python",
   "pygments_lexer": "ipython3",
   "version": "3.7.1"
  }
 },
 "nbformat": 4,
 "nbformat_minor": 2
}
