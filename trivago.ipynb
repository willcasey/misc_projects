{
 "cells": [
  {
   "cell_type": "markdown",
   "metadata": {},
   "source": [
    "https://jobs.zealpath.com/m/case/detail/429"
   ]
  },
  {
   "cell_type": "markdown",
   "metadata": {},
   "source": [
    "### Build a model that predicts the number of hits per session. \n",
    "#### About the Data\n",
    "- row_num: a number uniquely identifying each row.\n",
    "- locale: the platform of the session.\n",
    "- day_of_week: Mon-Fri, the day of the week of the session.\n",
    "- hour_of_day: 00-23, the hour of the day of the session. \n",
    "- agent_id: the device used for the session.\n",
    "- entry_page: describes the landing page of the session.\n",
    "- path_id_set: shows all the locations that were visited during the session.\n",
    "- traffic_type: indicates the channel the user cane through eg. search engine, email, ...\n",
    "- session_duration: the duration in seconds of the session.\n",
    "- hits: the number of interactions with the trivago page during the session."
   ]
  },
  {
   "cell_type": "code",
   "execution_count": 1,
   "metadata": {
    "collapsed": false
   },
   "outputs": [
    {
     "data": {
      "application/javascript": [
       "Notification.requestPermission();\n",
       "window.keep_me_updated = function(title, body){\n",
       "    Notification.requestPermission();\n",
       "    title = title || \"Your job is done!!\";\n",
       "    body = body || \"Go on, look at your results\";\n",
       "    var notification = new Notification(title, {\n",
       "      body: body,\n",
       "    }); \n",
       "}"
      ],
      "text/plain": [
       "<IPython.core.display.Javascript object>"
      ]
     },
     "metadata": {},
     "output_type": "display_data"
    }
   ],
   "source": [
    "%%javascript\n",
    "Notification.requestPermission();\n",
    "window.keep_me_updated = function(title, body){\n",
    "    Notification.requestPermission();\n",
    "    title = title || \"Your job is done!!\";\n",
    "    body = body || \"Go on, look at your results\";\n",
    "    var notification = new Notification(title, {\n",
    "      body: body,\n",
    "    }); \n",
    "}"
   ]
  },
  {
   "cell_type": "code",
   "execution_count": 2,
   "metadata": {
    "collapsed": false
   },
   "outputs": [
    {
     "data": {
      "application/javascript": [
       "window.keep_me_updated()"
      ],
      "text/plain": [
       "<IPython.core.display.Javascript object>"
      ]
     },
     "metadata": {},
     "output_type": "display_data"
    }
   ],
   "source": [
    "%%javascript\n",
    "window.keep_me_updated()"
   ]
  },
  {
   "cell_type": "code",
   "execution_count": 3,
   "metadata": {
    "collapsed": false
   },
   "outputs": [
    {
     "name": "stderr",
     "output_type": "stream",
     "text": [
      "/home/wcasey17/anaconda3/lib/python3.5/site-packages/sklearn/ensemble/weight_boosting.py:29: DeprecationWarning: numpy.core.umath_tests is an internal NumPy module and should not be imported. It will be removed in a future NumPy release.\n",
      "  from numpy.core.umath_tests import inner1d\n"
     ]
    }
   ],
   "source": [
    "%matplotlib inline\n",
    "\n",
    "import pandas as pd\n",
    "import numpy as np\n",
    "import seaborn as sns\n",
    "import scipy as sc\n",
    "import sklearn as sk\n",
    "import matplotlib.pyplot as plt\n",
    "from statsmodels.formula.api import ols\n",
    "import statsmodels.api as sm\n",
    "from statsmodels.tools import eval_measures\n",
    "from sklearn.cluster import KMeans\n",
    "from sklearn.preprocessing import StandardScaler\n",
    "from sklearn.ensemble import RandomForestRegressor\n",
    "from patsy import dmatrices"
   ]
  },
  {
   "cell_type": "code",
   "execution_count": 4,
   "metadata": {
    "collapsed": true
   },
   "outputs": [],
   "source": [
    "scaler = StandardScaler()"
   ]
  },
  {
   "cell_type": "markdown",
   "metadata": {},
   "source": [
    "#### correlation"
   ]
  },
  {
   "cell_type": "code",
   "execution_count": 5,
   "metadata": {
    "collapsed": true
   },
   "outputs": [],
   "source": [
    "# plt.figure(figsize=(16,10))\n",
    "# sns.heatmap(df3.corr(), annot=True)\n",
    "# plt.show()"
   ]
  },
  {
   "cell_type": "code",
   "execution_count": null,
   "metadata": {
    "collapsed": false
   },
   "outputs": [],
   "source": []
  },
  {
   "cell_type": "code",
   "execution_count": 6,
   "metadata": {
    "collapsed": true
   },
   "outputs": [],
   "source": [
    "df = pd.read_csv('/home/wcasey17/data/ml_ds_case_study.csv', delimiter=\";\")"
   ]
  },
  {
   "cell_type": "markdown",
   "metadata": {},
   "source": [
    "#### Splitting the data into labeled and unlabeled data"
   ]
  },
  {
   "cell_type": "code",
   "execution_count": 7,
   "metadata": {
    "collapsed": true
   },
   "outputs": [],
   "source": [
    "df_final_test = df[df['hits'] == '\\\\N']\n",
    "df_train = df[df['hits'] != '\\\\N']"
   ]
  },
  {
   "cell_type": "code",
   "execution_count": 8,
   "metadata": {
    "collapsed": false
   },
   "outputs": [
    {
     "name": "stderr",
     "output_type": "stream",
     "text": [
      "/home/wcasey17/anaconda3/lib/python3.5/site-packages/ipykernel/__main__.py:2: SettingWithCopyWarning: \n",
      "A value is trying to be set on a copy of a slice from a DataFrame.\n",
      "Try using .loc[row_indexer,col_indexer] = value instead\n",
      "\n",
      "See the caveats in the documentation: http://pandas.pydata.org/pandas-docs/stable/indexing.html#indexing-view-versus-copy\n",
      "  from ipykernel import kernelapp as app\n"
     ]
    }
   ],
   "source": [
    "session_duratio_mean = 564\n",
    "df_train['session_durantion'] = df_train['session_durantion'].apply(lambda x: str(session_duratio_mean) if x == '\\\\N' else x)"
   ]
  },
  {
   "cell_type": "code",
   "execution_count": 9,
   "metadata": {
    "collapsed": false
   },
   "outputs": [
    {
     "name": "stderr",
     "output_type": "stream",
     "text": [
      "/home/wcasey17/anaconda3/lib/python3.5/site-packages/ipykernel/__main__.py:1: SettingWithCopyWarning: \n",
      "A value is trying to be set on a copy of a slice from a DataFrame.\n",
      "Try using .loc[row_indexer,col_indexer] = value instead\n",
      "\n",
      "See the caveats in the documentation: http://pandas.pydata.org/pandas-docs/stable/indexing.html#indexing-view-versus-copy\n",
      "  if __name__ == '__main__':\n",
      "/home/wcasey17/anaconda3/lib/python3.5/site-packages/ipykernel/__main__.py:2: SettingWithCopyWarning: \n",
      "A value is trying to be set on a copy of a slice from a DataFrame.\n",
      "Try using .loc[row_indexer,col_indexer] = value instead\n",
      "\n",
      "See the caveats in the documentation: http://pandas.pydata.org/pandas-docs/stable/indexing.html#indexing-view-versus-copy\n",
      "  from ipykernel import kernelapp as app\n"
     ]
    }
   ],
   "source": [
    "df_train['hits'] = df_train['hits'].astype('int')\n",
    "df_train['session_durantion'] = df_train['session_durantion'].astype('int')"
   ]
  },
  {
   "cell_type": "code",
   "execution_count": 10,
   "metadata": {
    "collapsed": true
   },
   "outputs": [],
   "source": [
    "df_train = df_train.drop(columns='row_num')"
   ]
  },
  {
   "cell_type": "code",
   "execution_count": 11,
   "metadata": {
    "collapsed": false
   },
   "outputs": [
    {
     "data": {
      "text/plain": [
       "locale               object\n",
       "day_of_week          object\n",
       "hour_of_day           int64\n",
       "agent_id              int64\n",
       "entry_page            int64\n",
       "path_id_set          object\n",
       "traffic_type          int64\n",
       "session_durantion     int64\n",
       "hits                  int64\n",
       "dtype: object"
      ]
     },
     "execution_count": 11,
     "metadata": {},
     "output_type": "execute_result"
    }
   ],
   "source": [
    "df_train.dtypes"
   ]
  },
  {
   "cell_type": "code",
   "execution_count": 12,
   "metadata": {
    "collapsed": false
   },
   "outputs": [
    {
     "data": {
      "text/html": [
       "<div>\n",
       "<style scoped>\n",
       "    .dataframe tbody tr th:only-of-type {\n",
       "        vertical-align: middle;\n",
       "    }\n",
       "\n",
       "    .dataframe tbody tr th {\n",
       "        vertical-align: top;\n",
       "    }\n",
       "\n",
       "    .dataframe thead th {\n",
       "        text-align: right;\n",
       "    }\n",
       "</style>\n",
       "<table border=\"1\" class=\"dataframe\">\n",
       "  <thead>\n",
       "    <tr style=\"text-align: right;\">\n",
       "      <th></th>\n",
       "      <th>locale</th>\n",
       "      <th>day_of_week</th>\n",
       "      <th>hour_of_day</th>\n",
       "      <th>agent_id</th>\n",
       "      <th>entry_page</th>\n",
       "      <th>path_id_set</th>\n",
       "      <th>traffic_type</th>\n",
       "      <th>session_durantion</th>\n",
       "      <th>hits</th>\n",
       "    </tr>\n",
       "  </thead>\n",
       "  <tbody>\n",
       "    <tr>\n",
       "      <th>895214</th>\n",
       "      <td>L3</td>\n",
       "      <td>Monday</td>\n",
       "      <td>0</td>\n",
       "      <td>0</td>\n",
       "      <td>2701</td>\n",
       "      <td>382;103268;0</td>\n",
       "      <td>1</td>\n",
       "      <td>12255</td>\n",
       "      <td>4174</td>\n",
       "    </tr>\n",
       "    <tr>\n",
       "      <th>588662</th>\n",
       "      <td>L5</td>\n",
       "      <td>Monday</td>\n",
       "      <td>9</td>\n",
       "      <td>9</td>\n",
       "      <td>2100</td>\n",
       "      <td>31968;73264;31988;31987;31963;31964;407746;319...</td>\n",
       "      <td>1</td>\n",
       "      <td>5071</td>\n",
       "      <td>2603</td>\n",
       "    </tr>\n",
       "    <tr>\n",
       "      <th>156521</th>\n",
       "      <td>L6</td>\n",
       "      <td>Sunday</td>\n",
       "      <td>20</td>\n",
       "      <td>7</td>\n",
       "      <td>2100</td>\n",
       "      <td>73566;91304;0</td>\n",
       "      <td>1</td>\n",
       "      <td>5578</td>\n",
       "      <td>2521</td>\n",
       "    </tr>\n",
       "    <tr>\n",
       "      <th>143275</th>\n",
       "      <td>L3</td>\n",
       "      <td>Tuesday</td>\n",
       "      <td>18</td>\n",
       "      <td>8</td>\n",
       "      <td>2100</td>\n",
       "      <td>129796;146376;637968;0</td>\n",
       "      <td>1</td>\n",
       "      <td>10538</td>\n",
       "      <td>2384</td>\n",
       "    </tr>\n",
       "    <tr>\n",
       "      <th>713095</th>\n",
       "      <td>L3</td>\n",
       "      <td>Wednesday</td>\n",
       "      <td>11</td>\n",
       "      <td>2</td>\n",
       "      <td>2113</td>\n",
       "      <td>34812;34757;35094;0;35017</td>\n",
       "      <td>2</td>\n",
       "      <td>20277</td>\n",
       "      <td>2320</td>\n",
       "    </tr>\n",
       "  </tbody>\n",
       "</table>\n",
       "</div>"
      ],
      "text/plain": [
       "       locale day_of_week  hour_of_day  agent_id  entry_page  \\\n",
       "895214     L3      Monday            0         0        2701   \n",
       "588662     L5      Monday            9         9        2100   \n",
       "156521     L6      Sunday           20         7        2100   \n",
       "143275     L3     Tuesday           18         8        2100   \n",
       "713095     L3   Wednesday           11         2        2113   \n",
       "\n",
       "                                              path_id_set  traffic_type  \\\n",
       "895214                                       382;103268;0             1   \n",
       "588662  31968;73264;31988;31987;31963;31964;407746;319...             1   \n",
       "156521                                      73566;91304;0             1   \n",
       "143275                             129796;146376;637968;0             1   \n",
       "713095                          34812;34757;35094;0;35017             2   \n",
       "\n",
       "        session_durantion  hits  \n",
       "895214              12255  4174  \n",
       "588662               5071  2603  \n",
       "156521               5578  2521  \n",
       "143275              10538  2384  \n",
       "713095              20277  2320  "
      ]
     },
     "execution_count": 12,
     "metadata": {},
     "output_type": "execute_result"
    }
   ],
   "source": [
    "df_train.sort_values('hits', ascending=False).head()"
   ]
  },
  {
   "cell_type": "code",
   "execution_count": 13,
   "metadata": {
    "collapsed": true
   },
   "outputs": [],
   "source": [
    "# plt.figure(figsize=(20, 8))\n",
    "# sns.boxplot(x='hour_of_day', y='hits', data = df_train, hue='day_of_week', orient='v', showfliers=False)"
   ]
  },
  {
   "cell_type": "code",
   "execution_count": 14,
   "metadata": {
    "collapsed": false
   },
   "outputs": [
    {
     "data": {
      "text/plain": [
       "<Figure size 2000x800 with 0 Axes>"
      ]
     },
     "execution_count": 14,
     "metadata": {},
     "output_type": "execute_result"
    },
    {
     "data": {
      "image/png": "[encoded data removed]",
      "text/plain": [
       "<Figure size 600x400 with 1 Axes>"
      ]
     },
     "metadata": {},
     "output_type": "display_data"
    },
    {
     "data": {
      "text/plain": [
       "<Figure size 2000x800 with 0 Axes>"
      ]
     },
     "metadata": {},
     "output_type": "display_data"
    }
   ],
   "source": [
    "time_avg = df_train.groupby(['hour_of_day', 'day_of_week']).hits.mean().reset_index()\n",
    "time_avg.pivot(index='hour_of_day', columns='day_of_week', values='hits').plot(kind='line')\n",
    "plt.figure(figsize=(20, 8))"
   ]
  },
  {
   "cell_type": "markdown",
   "metadata": {},
   "source": [
    "### Preprocessing: one hot encoding some stuff"
   ]
  },
  {
   "cell_type": "code",
   "execution_count": 15,
   "metadata": {
    "collapsed": false
   },
   "outputs": [
    {
     "data": {
      "text/plain": [
       "['locale',\n",
       " 'day_of_week',\n",
       " 'hour_of_day',\n",
       " 'agent_id',\n",
       " 'entry_page',\n",
       " 'path_id_set',\n",
       " 'traffic_type',\n",
       " 'session_durantion',\n",
       " 'hits']"
      ]
     },
     "execution_count": 15,
     "metadata": {},
     "output_type": "execute_result"
    }
   ],
   "source": [
    "[col for col in df_train.columns]"
   ]
  },
  {
   "cell_type": "code",
   "execution_count": 16,
   "metadata": {
    "collapsed": false
   },
   "outputs": [
    {
     "name": "stdout",
     "output_type": "stream",
     "text": [
      "locale\n",
      "L1     26473\n",
      "L2    107216\n",
      "L3    215540\n",
      "L4     86133\n",
      "L5     72124\n",
      "L6    111749\n",
      "Name: locale, dtype: int64\n",
      "\n",
      "\n",
      "day_of_week\n",
      "Friday       79674\n",
      "Monday       98953\n",
      "Saturday     76335\n",
      "Sunday       92707\n",
      "Thursday     84577\n",
      "Tuesday      95887\n",
      "Wednesday    91102\n",
      "Name: day_of_week, dtype: int64\n",
      "\n",
      "\n",
      "hour_of_day\n",
      "0     26437\n",
      "1     23112\n",
      "2     20490\n",
      "3     16235\n",
      "4     13319\n",
      "5     12212\n",
      "6     13351\n",
      "7     15157\n",
      "8     17236\n",
      "9     19088\n",
      "10    21458\n",
      "11    24246\n",
      "12    26898\n",
      "13    29454\n",
      "14    31764\n",
      "15    33359\n",
      "16    34104\n",
      "17    34922\n",
      "18    38611\n",
      "19    40496\n",
      "20    39408\n",
      "21    35334\n",
      "22    28241\n",
      "23    24303\n",
      "Name: hour_of_day, dtype: int64\n",
      "\n",
      "\n",
      "traffic_type\n",
      "1     196060\n",
      "2     200774\n",
      "3      34497\n",
      "4      88238\n",
      "6      91218\n",
      "7       1913\n",
      "10      6535\n",
      "Name: traffic_type, dtype: int64\n",
      "\n",
      "\n"
     ]
    }
   ],
   "source": [
    "collist = [\n",
    " 'locale',\n",
    " 'day_of_week',\n",
    " 'hour_of_day',\n",
    " 'traffic_type',\n",
    "\n",
    "]\n",
    "for c in collist:\n",
    "    print(df_train.groupby(c)[c].count())\n",
    "    print(\"\\n\")"
   ]
  },
  {
   "cell_type": "markdown",
   "metadata": {},
   "source": [
    "#### One hot encoding a few features"
   ]
  },
  {
   "cell_type": "code",
   "execution_count": 17,
   "metadata": {
    "collapsed": false
   },
   "outputs": [],
   "source": [
    "collist = [\n",
    " 'locale',\n",
    " 'day_of_week',\n",
    " 'hour_of_day',\n",
    " 'traffic_type',\n",
    "\n",
    "]\n",
    "\n",
    "# def add_ohe_col(col)\n",
    "\n",
    "for col in collist:\n",
    "    dummy_df = pd.get_dummies(df_train[col], prefix=col, drop_first=True)\n",
    "    df_train = df_train.drop(columns=col).merge(dummy_df, left_index=True, right_index=True)"
   ]
  },
  {
   "cell_type": "code",
   "execution_count": 18,
   "metadata": {
    "collapsed": false
   },
   "outputs": [
    {
     "data": {
      "text/plain": [
       "Index(['agent_id', 'entry_page', 'path_id_set', 'session_durantion', 'hits',\n",
       "       'locale_L2', 'locale_L3', 'locale_L4', 'locale_L5', 'locale_L6',\n",
       "       'day_of_week_Monday', 'day_of_week_Saturday', 'day_of_week_Sunday',\n",
       "       'day_of_week_Thursday', 'day_of_week_Tuesday', 'day_of_week_Wednesday',\n",
       "       'hour_of_day_1', 'hour_of_day_2', 'hour_of_day_3', 'hour_of_day_4',\n",
       "       'hour_of_day_5', 'hour_of_day_6', 'hour_of_day_7', 'hour_of_day_8',\n",
       "       'hour_of_day_9', 'hour_of_day_10', 'hour_of_day_11', 'hour_of_day_12',\n",
       "       'hour_of_day_13', 'hour_of_day_14', 'hour_of_day_15', 'hour_of_day_16',\n",
       "       'hour_of_day_17', 'hour_of_day_18', 'hour_of_day_19', 'hour_of_day_20',\n",
       "       'hour_of_day_21', 'hour_of_day_22', 'hour_of_day_23', 'traffic_type_2',\n",
       "       'traffic_type_3', 'traffic_type_4', 'traffic_type_6', 'traffic_type_7',\n",
       "       'traffic_type_10'],\n",
       "      dtype='object')"
      ]
     },
     "execution_count": 18,
     "metadata": {},
     "output_type": "execute_result"
    }
   ],
   "source": [
    "df_train.columns"
   ]
  },
  {
   "cell_type": "markdown",
   "metadata": {},
   "source": [
    "## Preprocessing: session_durantion"
   ]
  },
  {
   "cell_type": "code",
   "execution_count": 19,
   "metadata": {
    "collapsed": false
   },
   "outputs": [
    {
     "data": {
      "text/plain": [
       "<matplotlib.axes._subplots.AxesSubplot at 0x7f212e46a630>"
      ]
     },
     "execution_count": 19,
     "metadata": {},
     "output_type": "execute_result"
    },
    {
     "data": {
      "image/png": "[encoded data removed]",
      "text/plain": [
       "<Figure size 600x400 with 1 Axes>"
      ]
     },
     "metadata": {},
     "output_type": "display_data"
    }
   ],
   "source": [
    "sns.distplot(df_train[df_train['session_durantion'] > 0].session_durantion, hist=False)"
   ]
  },
  {
   "cell_type": "code",
   "execution_count": 20,
   "metadata": {
    "collapsed": false
   },
   "outputs": [
    {
     "data": {
      "text/plain": [
       "<matplotlib.axes._subplots.AxesSubplot at 0x7f212e412978>"
      ]
     },
     "execution_count": 20,
     "metadata": {},
     "output_type": "execute_result"
    },
    {
     "data": {
      "image/png": "[encoded data removed]",
      "text/plain": [
       "<Figure size 2000x1000 with 1 Axes>"
      ]
     },
     "metadata": {},
     "output_type": "display_data"
    }
   ],
   "source": [
    "plt.figure(figsize=(20,10))\n",
    "sns.scatterplot(x = 'session_durantion', y= 'hits', data = df_train[['hits', 'session_durantion']])"
   ]
  },
  {
   "cell_type": "code",
   "execution_count": 21,
   "metadata": {
    "collapsed": false
   },
   "outputs": [],
   "source": [
    "# df_train[['hits__standard', 'session_durantion__standard']] = pd.DataFrame(scaler.fit_transform(df_train[['hits', 'session_durantion']].to_numpy()))"
   ]
  },
  {
   "cell_type": "code",
   "execution_count": 22,
   "metadata": {
    "collapsed": false
   },
   "outputs": [],
   "source": [
    "# df_train[['hits__log', 'session_durantion__log']] = df_train[['hits', 'session_durantion']].apply(lambda x: np.log(x))"
   ]
  },
  {
   "cell_type": "code",
   "execution_count": null,
   "metadata": {
    "collapsed": true
   },
   "outputs": [],
   "source": []
  },
  {
   "cell_type": "code",
   "execution_count": 23,
   "metadata": {
    "collapsed": false
   },
   "outputs": [],
   "source": [
    "# plt.figure(figsize=(20,10))\n",
    "# sns.lmplot(x = 'session_durantion__log', y= 'hits__log', data = df_train[['hits__log', 'session_durantion__log']])"
   ]
  },
  {
   "cell_type": "code",
   "execution_count": 24,
   "metadata": {
    "collapsed": false
   },
   "outputs": [],
   "source": [
    "# sns.boxplot(df_train['hits__log'])"
   ]
  },
  {
   "cell_type": "code",
   "execution_count": 25,
   "metadata": {
    "collapsed": false
   },
   "outputs": [],
   "source": [
    "# sns.boxplot(df_train['hits__log'], showfliers=False)"
   ]
  },
  {
   "cell_type": "code",
   "execution_count": 26,
   "metadata": {
    "collapsed": false
   },
   "outputs": [],
   "source": [
    "# df_train['log_hits'] = df_train.hits.apply(lambda x: np.log(x))"
   ]
  },
  {
   "cell_type": "code",
   "execution_count": 27,
   "metadata": {
    "collapsed": false
   },
   "outputs": [],
   "source": [
    "# sns.boxplot(df_train.log_hits)"
   ]
  },
  {
   "cell_type": "markdown",
   "metadata": {},
   "source": [
    "## Preprocessing: Agent_id"
   ]
  },
  {
   "cell_type": "code",
   "execution_count": 28,
   "metadata": {
    "collapsed": false
   },
   "outputs": [
    {
     "data": {
      "text/html": [
       "<div>\n",
       "<style scoped>\n",
       "    .dataframe tbody tr th:only-of-type {\n",
       "        vertical-align: middle;\n",
       "    }\n",
       "\n",
       "    .dataframe tbody tr th {\n",
       "        vertical-align: top;\n",
       "    }\n",
       "\n",
       "    .dataframe thead th {\n",
       "        text-align: right;\n",
       "    }\n",
       "</style>\n",
       "<table border=\"1\" class=\"dataframe\">\n",
       "  <thead>\n",
       "    <tr style=\"text-align: right;\">\n",
       "      <th></th>\n",
       "      <th>agent_id</th>\n",
       "      <th>entry_page</th>\n",
       "      <th>path_id_set</th>\n",
       "      <th>session_durantion</th>\n",
       "      <th>hits</th>\n",
       "      <th>locale_L2</th>\n",
       "      <th>locale_L3</th>\n",
       "      <th>locale_L4</th>\n",
       "      <th>locale_L5</th>\n",
       "      <th>locale_L6</th>\n",
       "      <th>...</th>\n",
       "      <th>hour_of_day_20</th>\n",
       "      <th>hour_of_day_21</th>\n",
       "      <th>hour_of_day_22</th>\n",
       "      <th>hour_of_day_23</th>\n",
       "      <th>traffic_type_2</th>\n",
       "      <th>traffic_type_3</th>\n",
       "      <th>traffic_type_4</th>\n",
       "      <th>traffic_type_6</th>\n",
       "      <th>traffic_type_7</th>\n",
       "      <th>traffic_type_10</th>\n",
       "    </tr>\n",
       "  </thead>\n",
       "  <tbody>\n",
       "    <tr>\n",
       "      <th>1</th>\n",
       "      <td>10</td>\n",
       "      <td>2113</td>\n",
       "      <td>31965;0</td>\n",
       "      <td>49</td>\n",
       "      <td>14</td>\n",
       "      <td>1</td>\n",
       "      <td>0</td>\n",
       "      <td>0</td>\n",
       "      <td>0</td>\n",
       "      <td>0</td>\n",
       "      <td>...</td>\n",
       "      <td>0</td>\n",
       "      <td>0</td>\n",
       "      <td>1</td>\n",
       "      <td>0</td>\n",
       "      <td>1</td>\n",
       "      <td>0</td>\n",
       "      <td>0</td>\n",
       "      <td>0</td>\n",
       "      <td>0</td>\n",
       "      <td>0</td>\n",
       "    </tr>\n",
       "    <tr>\n",
       "      <th>2</th>\n",
       "      <td>2</td>\n",
       "      <td>2100</td>\n",
       "      <td>0;78464</td>\n",
       "      <td>1892</td>\n",
       "      <td>14</td>\n",
       "      <td>0</td>\n",
       "      <td>0</td>\n",
       "      <td>1</td>\n",
       "      <td>0</td>\n",
       "      <td>0</td>\n",
       "      <td>...</td>\n",
       "      <td>0</td>\n",
       "      <td>1</td>\n",
       "      <td>0</td>\n",
       "      <td>0</td>\n",
       "      <td>0</td>\n",
       "      <td>0</td>\n",
       "      <td>0</td>\n",
       "      <td>0</td>\n",
       "      <td>0</td>\n",
       "      <td>0</td>\n",
       "    </tr>\n",
       "    <tr>\n",
       "      <th>3</th>\n",
       "      <td>8</td>\n",
       "      <td>2113</td>\n",
       "      <td>51462</td>\n",
       "      <td>0</td>\n",
       "      <td>1</td>\n",
       "      <td>0</td>\n",
       "      <td>1</td>\n",
       "      <td>0</td>\n",
       "      <td>0</td>\n",
       "      <td>0</td>\n",
       "      <td>...</td>\n",
       "      <td>0</td>\n",
       "      <td>0</td>\n",
       "      <td>0</td>\n",
       "      <td>0</td>\n",
       "      <td>0</td>\n",
       "      <td>0</td>\n",
       "      <td>0</td>\n",
       "      <td>1</td>\n",
       "      <td>0</td>\n",
       "      <td>0</td>\n",
       "    </tr>\n",
       "    <tr>\n",
       "      <th>4</th>\n",
       "      <td>10</td>\n",
       "      <td>2116</td>\n",
       "      <td>31931;0</td>\n",
       "      <td>2</td>\n",
       "      <td>3</td>\n",
       "      <td>1</td>\n",
       "      <td>0</td>\n",
       "      <td>0</td>\n",
       "      <td>0</td>\n",
       "      <td>0</td>\n",
       "      <td>...</td>\n",
       "      <td>0</td>\n",
       "      <td>0</td>\n",
       "      <td>0</td>\n",
       "      <td>0</td>\n",
       "      <td>0</td>\n",
       "      <td>0</td>\n",
       "      <td>0</td>\n",
       "      <td>0</td>\n",
       "      <td>0</td>\n",
       "      <td>0</td>\n",
       "    </tr>\n",
       "    <tr>\n",
       "      <th>5</th>\n",
       "      <td>8</td>\n",
       "      <td>2100</td>\n",
       "      <td>0</td>\n",
       "      <td>0</td>\n",
       "      <td>2</td>\n",
       "      <td>0</td>\n",
       "      <td>1</td>\n",
       "      <td>0</td>\n",
       "      <td>0</td>\n",
       "      <td>0</td>\n",
       "      <td>...</td>\n",
       "      <td>0</td>\n",
       "      <td>0</td>\n",
       "      <td>0</td>\n",
       "      <td>0</td>\n",
       "      <td>0</td>\n",
       "      <td>0</td>\n",
       "      <td>0</td>\n",
       "      <td>0</td>\n",
       "      <td>0</td>\n",
       "      <td>0</td>\n",
       "    </tr>\n",
       "    <tr>\n",
       "      <th>6</th>\n",
       "      <td>10</td>\n",
       "      <td>2166</td>\n",
       "      <td>0</td>\n",
       "      <td>0</td>\n",
       "      <td>2</td>\n",
       "      <td>1</td>\n",
       "      <td>0</td>\n",
       "      <td>0</td>\n",
       "      <td>0</td>\n",
       "      <td>0</td>\n",
       "      <td>...</td>\n",
       "      <td>1</td>\n",
       "      <td>0</td>\n",
       "      <td>0</td>\n",
       "      <td>0</td>\n",
       "      <td>0</td>\n",
       "      <td>0</td>\n",
       "      <td>0</td>\n",
       "      <td>0</td>\n",
       "      <td>0</td>\n",
       "      <td>0</td>\n",
       "    </tr>\n",
       "    <tr>\n",
       "      <th>7</th>\n",
       "      <td>1</td>\n",
       "      <td>2113</td>\n",
       "      <td>34302;0</td>\n",
       "      <td>2</td>\n",
       "      <td>3</td>\n",
       "      <td>0</td>\n",
       "      <td>1</td>\n",
       "      <td>0</td>\n",
       "      <td>0</td>\n",
       "      <td>0</td>\n",
       "      <td>...</td>\n",
       "      <td>0</td>\n",
       "      <td>0</td>\n",
       "      <td>0</td>\n",
       "      <td>0</td>\n",
       "      <td>0</td>\n",
       "      <td>0</td>\n",
       "      <td>0</td>\n",
       "      <td>1</td>\n",
       "      <td>0</td>\n",
       "      <td>0</td>\n",
       "    </tr>\n",
       "    <tr>\n",
       "      <th>8</th>\n",
       "      <td>10</td>\n",
       "      <td>2111</td>\n",
       "      <td>34227;0</td>\n",
       "      <td>4</td>\n",
       "      <td>3</td>\n",
       "      <td>0</td>\n",
       "      <td>1</td>\n",
       "      <td>0</td>\n",
       "      <td>0</td>\n",
       "      <td>0</td>\n",
       "      <td>...</td>\n",
       "      <td>0</td>\n",
       "      <td>0</td>\n",
       "      <td>0</td>\n",
       "      <td>0</td>\n",
       "      <td>0</td>\n",
       "      <td>0</td>\n",
       "      <td>0</td>\n",
       "      <td>1</td>\n",
       "      <td>0</td>\n",
       "      <td>0</td>\n",
       "    </tr>\n",
       "    <tr>\n",
       "      <th>9</th>\n",
       "      <td>9</td>\n",
       "      <td>2113</td>\n",
       "      <td>42172;0;38715</td>\n",
       "      <td>724</td>\n",
       "      <td>45</td>\n",
       "      <td>0</td>\n",
       "      <td>0</td>\n",
       "      <td>0</td>\n",
       "      <td>0</td>\n",
       "      <td>1</td>\n",
       "      <td>...</td>\n",
       "      <td>0</td>\n",
       "      <td>0</td>\n",
       "      <td>0</td>\n",
       "      <td>0</td>\n",
       "      <td>1</td>\n",
       "      <td>0</td>\n",
       "      <td>0</td>\n",
       "      <td>0</td>\n",
       "      <td>0</td>\n",
       "      <td>0</td>\n",
       "    </tr>\n",
       "    <tr>\n",
       "      <th>10</th>\n",
       "      <td>8</td>\n",
       "      <td>2100</td>\n",
       "      <td>0;45069;44232</td>\n",
       "      <td>896</td>\n",
       "      <td>39</td>\n",
       "      <td>0</td>\n",
       "      <td>0</td>\n",
       "      <td>0</td>\n",
       "      <td>0</td>\n",
       "      <td>1</td>\n",
       "      <td>...</td>\n",
       "      <td>0</td>\n",
       "      <td>0</td>\n",
       "      <td>0</td>\n",
       "      <td>0</td>\n",
       "      <td>0</td>\n",
       "      <td>0</td>\n",
       "      <td>0</td>\n",
       "      <td>0</td>\n",
       "      <td>0</td>\n",
       "      <td>0</td>\n",
       "    </tr>\n",
       "  </tbody>\n",
       "</table>\n",
       "<p>10 rows × 45 columns</p>\n",
       "</div>"
      ],
      "text/plain": [
       "    agent_id  entry_page    path_id_set  session_durantion  hits  locale_L2  \\\n",
       "1         10        2113        31965;0                 49    14          1   \n",
       "2          2        2100        0;78464               1892    14          0   \n",
       "3          8        2113          51462                  0     1          0   \n",
       "4         10        2116        31931;0                  2     3          1   \n",
       "5          8        2100              0                  0     2          0   \n",
       "6         10        2166              0                  0     2          1   \n",
       "7          1        2113        34302;0                  2     3          0   \n",
       "8         10        2111        34227;0                  4     3          0   \n",
       "9          9        2113  42172;0;38715                724    45          0   \n",
       "10         8        2100  0;45069;44232                896    39          0   \n",
       "\n",
       "    locale_L3  locale_L4  locale_L5  locale_L6  ...  hour_of_day_20  \\\n",
       "1           0          0          0          0  ...               0   \n",
       "2           0          1          0          0  ...               0   \n",
       "3           1          0          0          0  ...               0   \n",
       "4           0          0          0          0  ...               0   \n",
       "5           1          0          0          0  ...               0   \n",
       "6           0          0          0          0  ...               1   \n",
       "7           1          0          0          0  ...               0   \n",
       "8           1          0          0          0  ...               0   \n",
       "9           0          0          0          1  ...               0   \n",
       "10          0          0          0          1  ...               0   \n",
       "\n",
       "    hour_of_day_21  hour_of_day_22  hour_of_day_23  traffic_type_2  \\\n",
       "1                0               1               0               1   \n",
       "2                1               0               0               0   \n",
       "3                0               0               0               0   \n",
       "4                0               0               0               0   \n",
       "5                0               0               0               0   \n",
       "6                0               0               0               0   \n",
       "7                0               0               0               0   \n",
       "8                0               0               0               0   \n",
       "9                0               0               0               1   \n",
       "10               0               0               0               0   \n",
       "\n",
       "    traffic_type_3  traffic_type_4  traffic_type_6  traffic_type_7  \\\n",
       "1                0               0               0               0   \n",
       "2                0               0               0               0   \n",
       "3                0               0               1               0   \n",
       "4                0               0               0               0   \n",
       "5                0               0               0               0   \n",
       "6                0               0               0               0   \n",
       "7                0               0               1               0   \n",
       "8                0               0               1               0   \n",
       "9                0               0               0               0   \n",
       "10               0               0               0               0   \n",
       "\n",
       "    traffic_type_10  \n",
       "1                 0  \n",
       "2                 0  \n",
       "3                 0  \n",
       "4                 0  \n",
       "5                 0  \n",
       "6                 0  \n",
       "7                 0  \n",
       "8                 0  \n",
       "9                 0  \n",
       "10                0  \n",
       "\n",
       "[10 rows x 45 columns]"
      ]
     },
     "execution_count": 28,
     "metadata": {},
     "output_type": "execute_result"
    }
   ],
   "source": [
    "df_train.head(10)"
   ]
  },
  {
   "cell_type": "code",
   "execution_count": 29,
   "metadata": {
    "collapsed": false
   },
   "outputs": [],
   "source": [
    "tojoin = df_train.groupby(['agent_id']).agg({'hits': np.average}).rename(columns={'hits':'agent_id_average'})"
   ]
  },
  {
   "cell_type": "code",
   "execution_count": 30,
   "metadata": {
    "collapsed": false
   },
   "outputs": [],
   "source": [
    "df_train = df_train.merge(tojoin, left_on='agent_id', right_index=True)"
   ]
  },
  {
   "cell_type": "code",
   "execution_count": 31,
   "metadata": {
    "collapsed": false
   },
   "outputs": [
    {
     "data": {
      "text/html": [
       "<div>\n",
       "<style scoped>\n",
       "    .dataframe tbody tr th:only-of-type {\n",
       "        vertical-align: middle;\n",
       "    }\n",
       "\n",
       "    .dataframe tbody tr th {\n",
       "        vertical-align: top;\n",
       "    }\n",
       "\n",
       "    .dataframe thead tr th {\n",
       "        text-align: left;\n",
       "    }\n",
       "\n",
       "    .dataframe thead tr:last-of-type th {\n",
       "        text-align: right;\n",
       "    }\n",
       "</style>\n",
       "<table border=\"1\" class=\"dataframe\">\n",
       "  <thead>\n",
       "    <tr>\n",
       "      <th></th>\n",
       "      <th colspan=\"2\" halign=\"left\">hits</th>\n",
       "      <th>agent_id</th>\n",
       "    </tr>\n",
       "    <tr>\n",
       "      <th></th>\n",
       "      <th>sum</th>\n",
       "      <th>average</th>\n",
       "      <th>len</th>\n",
       "    </tr>\n",
       "    <tr>\n",
       "      <th>agent_id</th>\n",
       "      <th></th>\n",
       "      <th></th>\n",
       "      <th></th>\n",
       "    </tr>\n",
       "  </thead>\n",
       "  <tbody>\n",
       "    <tr>\n",
       "      <th>0</th>\n",
       "      <td>97087</td>\n",
       "      <td>27.402484</td>\n",
       "      <td>3543</td>\n",
       "    </tr>\n",
       "    <tr>\n",
       "      <th>1</th>\n",
       "      <td>2351752</td>\n",
       "      <td>19.068929</td>\n",
       "      <td>123329</td>\n",
       "    </tr>\n",
       "    <tr>\n",
       "      <th>2</th>\n",
       "      <td>693233</td>\n",
       "      <td>18.239134</td>\n",
       "      <td>38008</td>\n",
       "    </tr>\n",
       "    <tr>\n",
       "      <th>3</th>\n",
       "      <td>146</td>\n",
       "      <td>1.738095</td>\n",
       "      <td>84</td>\n",
       "    </tr>\n",
       "    <tr>\n",
       "      <th>4</th>\n",
       "      <td>206</td>\n",
       "      <td>1.364238</td>\n",
       "      <td>151</td>\n",
       "    </tr>\n",
       "    <tr>\n",
       "      <th>5</th>\n",
       "      <td>138</td>\n",
       "      <td>1.243243</td>\n",
       "      <td>111</td>\n",
       "    </tr>\n",
       "    <tr>\n",
       "      <th>7</th>\n",
       "      <td>405798</td>\n",
       "      <td>23.433505</td>\n",
       "      <td>17317</td>\n",
       "    </tr>\n",
       "    <tr>\n",
       "      <th>8</th>\n",
       "      <td>977944</td>\n",
       "      <td>15.443497</td>\n",
       "      <td>63324</td>\n",
       "    </tr>\n",
       "    <tr>\n",
       "      <th>9</th>\n",
       "      <td>2426552</td>\n",
       "      <td>18.770466</td>\n",
       "      <td>129275</td>\n",
       "    </tr>\n",
       "    <tr>\n",
       "      <th>10</th>\n",
       "      <td>3363069</td>\n",
       "      <td>17.551178</td>\n",
       "      <td>191615</td>\n",
       "    </tr>\n",
       "    <tr>\n",
       "      <th>11</th>\n",
       "      <td>21666</td>\n",
       "      <td>16.769350</td>\n",
       "      <td>1292</td>\n",
       "    </tr>\n",
       "    <tr>\n",
       "      <th>12</th>\n",
       "      <td>27680</td>\n",
       "      <td>11.252033</td>\n",
       "      <td>2460</td>\n",
       "    </tr>\n",
       "    <tr>\n",
       "      <th>13</th>\n",
       "      <td>603850</td>\n",
       "      <td>18.798057</td>\n",
       "      <td>32123</td>\n",
       "    </tr>\n",
       "    <tr>\n",
       "      <th>14</th>\n",
       "      <td>305837</td>\n",
       "      <td>18.496341</td>\n",
       "      <td>16535</td>\n",
       "    </tr>\n",
       "    <tr>\n",
       "      <th>15</th>\n",
       "      <td>1360</td>\n",
       "      <td>20.000000</td>\n",
       "      <td>68</td>\n",
       "    </tr>\n",
       "  </tbody>\n",
       "</table>\n",
       "</div>"
      ],
      "text/plain": [
       "             hits            agent_id\n",
       "              sum    average      len\n",
       "agent_id                             \n",
       "0           97087  27.402484     3543\n",
       "1         2351752  19.068929   123329\n",
       "2          693233  18.239134    38008\n",
       "3             146   1.738095       84\n",
       "4             206   1.364238      151\n",
       "5             138   1.243243      111\n",
       "7          405798  23.433505    17317\n",
       "8          977944  15.443497    63324\n",
       "9         2426552  18.770466   129275\n",
       "10        3363069  17.551178   191615\n",
       "11          21666  16.769350     1292\n",
       "12          27680  11.252033     2460\n",
       "13         603850  18.798057    32123\n",
       "14         305837  18.496341    16535\n",
       "15           1360  20.000000       68"
      ]
     },
     "execution_count": 31,
     "metadata": {},
     "output_type": "execute_result"
    }
   ],
   "source": [
    "df_train.groupby(['agent_id']).agg({'agent_id': len, 'hits': [np.sum, np.average]})"
   ]
  },
  {
   "cell_type": "code",
   "execution_count": 32,
   "metadata": {
    "collapsed": false
   },
   "outputs": [
    {
     "data": {
      "image/png": "[encoded data removed]",
      "text/plain": [
       "<Figure size 600x400 with 2 Axes>"
      ]
     },
     "metadata": {},
     "output_type": "display_data"
    }
   ],
   "source": [
    "x = 'agent_id'\n",
    "plt.subplot(2, 1, 1)\n",
    "sns.boxplot(x=x, y='hits', data=df_train, showfliers=True, orient='v')\n",
    "plt.subplot(2, 1, 2)\n",
    "sns.boxplot(x=x, y='hits', data=df_train, showfliers=False)\n",
    "plt.show()\n"
   ]
  },
  {
   "cell_type": "code",
   "execution_count": 33,
   "metadata": {
    "collapsed": true
   },
   "outputs": [],
   "source": [
    "df_train = df_train.drop(columns='agent_id')"
   ]
  },
  {
   "cell_type": "markdown",
   "metadata": {},
   "source": [
    "## Preprocessing: entry_page"
   ]
  },
  {
   "cell_type": "code",
   "execution_count": 34,
   "metadata": {
    "collapsed": false
   },
   "outputs": [
    {
     "data": {
      "image/png": "[encoded data removed]",
      "text/plain": [
       "<Figure size 2000x800 with 1 Axes>"
      ]
     },
     "metadata": {},
     "output_type": "display_data"
    }
   ],
   "source": [
    "x = 'entry_page'\n",
    "# plt.subplot(2, 1, 1)\n",
    "# sns.boxplot(x=x, y='hits', data=df_train, showfliers=True, orient='v')\n",
    "# plt.subplot(2, 1, 2)\n",
    "plt.figure(figsize=(20, 8))\n",
    "sns.boxplot(x=x, y='hits', data=df_train, showfliers=False)\n",
    "plt.show()"
   ]
  },
  {
   "cell_type": "code",
   "execution_count": 35,
   "metadata": {
    "collapsed": false
   },
   "outputs": [],
   "source": [
    "entry_page = df_train.groupby(['entry_page']).agg({'entry_page': len, 'hits': [np.average, np.std]})"
   ]
  },
  {
   "cell_type": "code",
   "execution_count": 36,
   "metadata": {
    "collapsed": false
   },
   "outputs": [],
   "source": [
    "entry_page.columns = entry_page.columns.droplevel(0)"
   ]
  },
  {
   "cell_type": "code",
   "execution_count": 37,
   "metadata": {
    "collapsed": false
   },
   "outputs": [],
   "source": [
    "new_cols = {w:\"entry_page_\" + w for w in entry_page.columns}"
   ]
  },
  {
   "cell_type": "code",
   "execution_count": 38,
   "metadata": {
    "collapsed": false
   },
   "outputs": [],
   "source": [
    "entry_page = entry_page.rename(columns=new_cols)"
   ]
  },
  {
   "cell_type": "code",
   "execution_count": 39,
   "metadata": {
    "collapsed": false
   },
   "outputs": [],
   "source": [
    "entry_page = entry_page.fillna(0)"
   ]
  },
  {
   "cell_type": "code",
   "execution_count": 40,
   "metadata": {
    "collapsed": false,
    "scrolled": true
   },
   "outputs": [],
   "source": [
    "entry_page = entry_page.reset_index()"
   ]
  },
  {
   "cell_type": "code",
   "execution_count": 41,
   "metadata": {
    "collapsed": false
   },
   "outputs": [],
   "source": [
    "entry_page[['entry_page_average__standard', 'entry_page_std__standard', 'entry_page_len__standard']] = pd.DataFrame(scaler.fit_transform(entry_page[['entry_page_average', 'entry_page_std', 'entry_page_len']].to_numpy()))"
   ]
  },
  {
   "cell_type": "code",
   "execution_count": 42,
   "metadata": {
    "collapsed": false,
    "scrolled": true
   },
   "outputs": [
    {
     "data": {
      "text/html": [
       "<div>\n",
       "<style scoped>\n",
       "    .dataframe tbody tr th:only-of-type {\n",
       "        vertical-align: middle;\n",
       "    }\n",
       "\n",
       "    .dataframe tbody tr th {\n",
       "        vertical-align: top;\n",
       "    }\n",
       "\n",
       "    .dataframe thead th {\n",
       "        text-align: right;\n",
       "    }\n",
       "</style>\n",
       "<table border=\"1\" class=\"dataframe\">\n",
       "  <thead>\n",
       "    <tr style=\"text-align: right;\">\n",
       "      <th></th>\n",
       "      <th>entry_page</th>\n",
       "      <th>entry_page_len</th>\n",
       "      <th>entry_page_average</th>\n",
       "      <th>entry_page_std</th>\n",
       "      <th>entry_page_average__standard</th>\n",
       "      <th>entry_page_std__standard</th>\n",
       "      <th>entry_page_len__standard</th>\n",
       "    </tr>\n",
       "  </thead>\n",
       "  <tbody>\n",
       "    <tr>\n",
       "      <th>0</th>\n",
       "      <td>2100</td>\n",
       "      <td>110762</td>\n",
       "      <td>30.622723</td>\n",
       "      <td>54.605291</td>\n",
       "      <td>0.060926</td>\n",
       "      <td>0.323052</td>\n",
       "      <td>4.568862</td>\n",
       "    </tr>\n",
       "    <tr>\n",
       "      <th>1</th>\n",
       "      <td>2111</td>\n",
       "      <td>51932</td>\n",
       "      <td>17.250231</td>\n",
       "      <td>36.600361</td>\n",
       "      <td>-0.297400</td>\n",
       "      <td>0.002208</td>\n",
       "      <td>2.038920</td>\n",
       "    </tr>\n",
       "    <tr>\n",
       "      <th>2</th>\n",
       "      <td>2113</td>\n",
       "      <td>205968</td>\n",
       "      <td>14.629467</td>\n",
       "      <td>32.382016</td>\n",
       "      <td>-0.367625</td>\n",
       "      <td>-0.072962</td>\n",
       "      <td>8.663126</td>\n",
       "    </tr>\n",
       "    <tr>\n",
       "      <th>3</th>\n",
       "      <td>2114</td>\n",
       "      <td>44589</td>\n",
       "      <td>11.881451</td>\n",
       "      <td>23.421736</td>\n",
       "      <td>-0.441260</td>\n",
       "      <td>-0.232633</td>\n",
       "      <td>1.723140</td>\n",
       "    </tr>\n",
       "    <tr>\n",
       "      <th>4</th>\n",
       "      <td>2115</td>\n",
       "      <td>10655</td>\n",
       "      <td>17.433881</td>\n",
       "      <td>40.207986</td>\n",
       "      <td>-0.292479</td>\n",
       "      <td>0.066495</td>\n",
       "      <td>0.263833</td>\n",
       "    </tr>\n",
       "    <tr>\n",
       "      <th>5</th>\n",
       "      <td>2116</td>\n",
       "      <td>125338</td>\n",
       "      <td>12.814988</td>\n",
       "      <td>27.249339</td>\n",
       "      <td>-0.416245</td>\n",
       "      <td>-0.164426</td>\n",
       "      <td>5.195692</td>\n",
       "    </tr>\n",
       "    <tr>\n",
       "      <th>6</th>\n",
       "      <td>2119</td>\n",
       "      <td>144</td>\n",
       "      <td>14.520833</td>\n",
       "      <td>30.868992</td>\n",
       "      <td>-0.370536</td>\n",
       "      <td>-0.099924</td>\n",
       "      <td>-0.188185</td>\n",
       "    </tr>\n",
       "    <tr>\n",
       "      <th>7</th>\n",
       "      <td>2121</td>\n",
       "      <td>21</td>\n",
       "      <td>28.904762</td>\n",
       "      <td>61.392919</td>\n",
       "      <td>0.014892</td>\n",
       "      <td>0.444006</td>\n",
       "      <td>-0.193475</td>\n",
       "    </tr>\n",
       "    <tr>\n",
       "      <th>8</th>\n",
       "      <td>2122</td>\n",
       "      <td>7</td>\n",
       "      <td>26.857143</td>\n",
       "      <td>21.271488</td>\n",
       "      <td>-0.039975</td>\n",
       "      <td>-0.270950</td>\n",
       "      <td>-0.194077</td>\n",
       "    </tr>\n",
       "    <tr>\n",
       "      <th>9</th>\n",
       "      <td>2123</td>\n",
       "      <td>26</td>\n",
       "      <td>44.923077</td>\n",
       "      <td>108.261137</td>\n",
       "      <td>0.444114</td>\n",
       "      <td>1.279189</td>\n",
       "      <td>-0.193260</td>\n",
       "    </tr>\n",
       "    <tr>\n",
       "      <th>10</th>\n",
       "      <td>2124</td>\n",
       "      <td>20</td>\n",
       "      <td>11.000000</td>\n",
       "      <td>21.173469</td>\n",
       "      <td>-0.464879</td>\n",
       "      <td>-0.272697</td>\n",
       "      <td>-0.193518</td>\n",
       "    </tr>\n",
       "    <tr>\n",
       "      <th>11</th>\n",
       "      <td>2125</td>\n",
       "      <td>5</td>\n",
       "      <td>37.000000</td>\n",
       "      <td>23.162470</td>\n",
       "      <td>0.231810</td>\n",
       "      <td>-0.237253</td>\n",
       "      <td>-0.194163</td>\n",
       "    </tr>\n",
       "    <tr>\n",
       "      <th>12</th>\n",
       "      <td>2126</td>\n",
       "      <td>4</td>\n",
       "      <td>40.250000</td>\n",
       "      <td>57.904375</td>\n",
       "      <td>0.318896</td>\n",
       "      <td>0.381841</td>\n",
       "      <td>-0.194206</td>\n",
       "    </tr>\n",
       "    <tr>\n",
       "      <th>13</th>\n",
       "      <td>2128</td>\n",
       "      <td>5</td>\n",
       "      <td>97.000000</td>\n",
       "      <td>182.478766</td>\n",
       "      <td>1.839553</td>\n",
       "      <td>2.601734</td>\n",
       "      <td>-0.194163</td>\n",
       "    </tr>\n",
       "    <tr>\n",
       "      <th>14</th>\n",
       "      <td>2130</td>\n",
       "      <td>1</td>\n",
       "      <td>2.000000</td>\n",
       "      <td>0.000000</td>\n",
       "      <td>-0.706041</td>\n",
       "      <td>-0.650004</td>\n",
       "      <td>-0.194335</td>\n",
       "    </tr>\n",
       "    <tr>\n",
       "      <th>15</th>\n",
       "      <td>2133</td>\n",
       "      <td>3</td>\n",
       "      <td>13.333333</td>\n",
       "      <td>17.925773</td>\n",
       "      <td>-0.402356</td>\n",
       "      <td>-0.330570</td>\n",
       "      <td>-0.194249</td>\n",
       "    </tr>\n",
       "    <tr>\n",
       "      <th>16</th>\n",
       "      <td>2135</td>\n",
       "      <td>2</td>\n",
       "      <td>7.000000</td>\n",
       "      <td>2.828427</td>\n",
       "      <td>-0.572062</td>\n",
       "      <td>-0.599602</td>\n",
       "      <td>-0.194292</td>\n",
       "    </tr>\n",
       "    <tr>\n",
       "      <th>17</th>\n",
       "      <td>2136</td>\n",
       "      <td>1</td>\n",
       "      <td>16.000000</td>\n",
       "      <td>0.000000</td>\n",
       "      <td>-0.330901</td>\n",
       "      <td>-0.650004</td>\n",
       "      <td>-0.194335</td>\n",
       "    </tr>\n",
       "    <tr>\n",
       "      <th>18</th>\n",
       "      <td>2142</td>\n",
       "      <td>1275</td>\n",
       "      <td>26.211765</td>\n",
       "      <td>62.444945</td>\n",
       "      <td>-0.057269</td>\n",
       "      <td>0.462753</td>\n",
       "      <td>-0.139547</td>\n",
       "    </tr>\n",
       "    <tr>\n",
       "      <th>19</th>\n",
       "      <td>2143</td>\n",
       "      <td>70</td>\n",
       "      <td>17.785714</td>\n",
       "      <td>34.710769</td>\n",
       "      <td>-0.283051</td>\n",
       "      <td>-0.031465</td>\n",
       "      <td>-0.191367</td>\n",
       "    </tr>\n",
       "    <tr>\n",
       "      <th>20</th>\n",
       "      <td>2145</td>\n",
       "      <td>104</td>\n",
       "      <td>20.125000</td>\n",
       "      <td>33.035341</td>\n",
       "      <td>-0.220368</td>\n",
       "      <td>-0.061320</td>\n",
       "      <td>-0.189905</td>\n",
       "    </tr>\n",
       "    <tr>\n",
       "      <th>21</th>\n",
       "      <td>2146</td>\n",
       "      <td>284</td>\n",
       "      <td>18.852113</td>\n",
       "      <td>36.273879</td>\n",
       "      <td>-0.254476</td>\n",
       "      <td>-0.003610</td>\n",
       "      <td>-0.182165</td>\n",
       "    </tr>\n",
       "    <tr>\n",
       "      <th>22</th>\n",
       "      <td>2148</td>\n",
       "      <td>3</td>\n",
       "      <td>129.000000</td>\n",
       "      <td>205.423952</td>\n",
       "      <td>2.697017</td>\n",
       "      <td>3.010613</td>\n",
       "      <td>-0.194249</td>\n",
       "    </tr>\n",
       "    <tr>\n",
       "      <th>23</th>\n",
       "      <td>2153</td>\n",
       "      <td>124</td>\n",
       "      <td>13.096774</td>\n",
       "      <td>24.836512</td>\n",
       "      <td>-0.408695</td>\n",
       "      <td>-0.207422</td>\n",
       "      <td>-0.189045</td>\n",
       "    </tr>\n",
       "    <tr>\n",
       "      <th>24</th>\n",
       "      <td>2155</td>\n",
       "      <td>124</td>\n",
       "      <td>35.596774</td>\n",
       "      <td>85.483980</td>\n",
       "      <td>0.194209</td>\n",
       "      <td>0.873305</td>\n",
       "      <td>-0.189045</td>\n",
       "    </tr>\n",
       "    <tr>\n",
       "      <th>25</th>\n",
       "      <td>2156</td>\n",
       "      <td>58</td>\n",
       "      <td>13.586207</td>\n",
       "      <td>24.428222</td>\n",
       "      <td>-0.395580</td>\n",
       "      <td>-0.214698</td>\n",
       "      <td>-0.191883</td>\n",
       "    </tr>\n",
       "    <tr>\n",
       "      <th>26</th>\n",
       "      <td>2160</td>\n",
       "      <td>20</td>\n",
       "      <td>34.250000</td>\n",
       "      <td>56.117241</td>\n",
       "      <td>0.158122</td>\n",
       "      <td>0.349995</td>\n",
       "      <td>-0.193518</td>\n",
       "    </tr>\n",
       "    <tr>\n",
       "      <th>27</th>\n",
       "      <td>2166</td>\n",
       "      <td>322</td>\n",
       "      <td>13.354037</td>\n",
       "      <td>51.908608</td>\n",
       "      <td>-0.401801</td>\n",
       "      <td>0.274998</td>\n",
       "      <td>-0.180530</td>\n",
       "    </tr>\n",
       "    <tr>\n",
       "      <th>28</th>\n",
       "      <td>2168</td>\n",
       "      <td>1</td>\n",
       "      <td>91.000000</td>\n",
       "      <td>0.000000</td>\n",
       "      <td>1.678779</td>\n",
       "      <td>-0.650004</td>\n",
       "      <td>-0.194335</td>\n",
       "    </tr>\n",
       "    <tr>\n",
       "      <th>29</th>\n",
       "      <td>2170</td>\n",
       "      <td>187</td>\n",
       "      <td>11.866310</td>\n",
       "      <td>12.886948</td>\n",
       "      <td>-0.441666</td>\n",
       "      <td>-0.420361</td>\n",
       "      <td>-0.186336</td>\n",
       "    </tr>\n",
       "    <tr>\n",
       "      <th>...</th>\n",
       "      <td>...</td>\n",
       "      <td>...</td>\n",
       "      <td>...</td>\n",
       "      <td>...</td>\n",
       "      <td>...</td>\n",
       "      <td>...</td>\n",
       "      <td>...</td>\n",
       "    </tr>\n",
       "    <tr>\n",
       "      <th>107</th>\n",
       "      <td>2775</td>\n",
       "      <td>223</td>\n",
       "      <td>1.143498</td>\n",
       "      <td>0.351368</td>\n",
       "      <td>-0.728991</td>\n",
       "      <td>-0.643743</td>\n",
       "      <td>-0.184788</td>\n",
       "    </tr>\n",
       "    <tr>\n",
       "      <th>108</th>\n",
       "      <td>2776</td>\n",
       "      <td>3</td>\n",
       "      <td>42.666667</td>\n",
       "      <td>34.428670</td>\n",
       "      <td>0.383652</td>\n",
       "      <td>-0.036492</td>\n",
       "      <td>-0.194249</td>\n",
       "    </tr>\n",
       "    <tr>\n",
       "      <th>109</th>\n",
       "      <td>2777</td>\n",
       "      <td>5</td>\n",
       "      <td>58.400000</td>\n",
       "      <td>58.517519</td>\n",
       "      <td>0.805238</td>\n",
       "      <td>0.392767</td>\n",
       "      <td>-0.194163</td>\n",
       "    </tr>\n",
       "    <tr>\n",
       "      <th>110</th>\n",
       "      <td>2778</td>\n",
       "      <td>1</td>\n",
       "      <td>18.000000</td>\n",
       "      <td>0.000000</td>\n",
       "      <td>-0.277309</td>\n",
       "      <td>-0.650004</td>\n",
       "      <td>-0.194335</td>\n",
       "    </tr>\n",
       "    <tr>\n",
       "      <th>111</th>\n",
       "      <td>2784</td>\n",
       "      <td>17</td>\n",
       "      <td>41.823529</td>\n",
       "      <td>49.367544</td>\n",
       "      <td>0.361060</td>\n",
       "      <td>0.229716</td>\n",
       "      <td>-0.193647</td>\n",
       "    </tr>\n",
       "    <tr>\n",
       "      <th>112</th>\n",
       "      <td>2788</td>\n",
       "      <td>8</td>\n",
       "      <td>5.625000</td>\n",
       "      <td>3.739270</td>\n",
       "      <td>-0.608906</td>\n",
       "      <td>-0.583371</td>\n",
       "      <td>-0.194034</td>\n",
       "    </tr>\n",
       "    <tr>\n",
       "      <th>113</th>\n",
       "      <td>2791</td>\n",
       "      <td>5</td>\n",
       "      <td>28.400000</td>\n",
       "      <td>28.535942</td>\n",
       "      <td>0.001366</td>\n",
       "      <td>-0.141499</td>\n",
       "      <td>-0.194163</td>\n",
       "    </tr>\n",
       "    <tr>\n",
       "      <th>114</th>\n",
       "      <td>2792</td>\n",
       "      <td>14</td>\n",
       "      <td>109.142857</td>\n",
       "      <td>210.164718</td>\n",
       "      <td>2.164930</td>\n",
       "      <td>3.095092</td>\n",
       "      <td>-0.193776</td>\n",
       "    </tr>\n",
       "    <tr>\n",
       "      <th>115</th>\n",
       "      <td>2793</td>\n",
       "      <td>3</td>\n",
       "      <td>25.666667</td>\n",
       "      <td>28.589042</td>\n",
       "      <td>-0.071875</td>\n",
       "      <td>-0.140553</td>\n",
       "      <td>-0.194249</td>\n",
       "    </tr>\n",
       "    <tr>\n",
       "      <th>116</th>\n",
       "      <td>2794</td>\n",
       "      <td>1</td>\n",
       "      <td>51.000000</td>\n",
       "      <td>0.000000</td>\n",
       "      <td>0.606950</td>\n",
       "      <td>-0.650004</td>\n",
       "      <td>-0.194335</td>\n",
       "    </tr>\n",
       "    <tr>\n",
       "      <th>117</th>\n",
       "      <td>2812</td>\n",
       "      <td>1</td>\n",
       "      <td>3.000000</td>\n",
       "      <td>0.000000</td>\n",
       "      <td>-0.679245</td>\n",
       "      <td>-0.650004</td>\n",
       "      <td>-0.194335</td>\n",
       "    </tr>\n",
       "    <tr>\n",
       "      <th>118</th>\n",
       "      <td>2840</td>\n",
       "      <td>1</td>\n",
       "      <td>39.000000</td>\n",
       "      <td>0.000000</td>\n",
       "      <td>0.285401</td>\n",
       "      <td>-0.650004</td>\n",
       "      <td>-0.194335</td>\n",
       "    </tr>\n",
       "    <tr>\n",
       "      <th>119</th>\n",
       "      <td>2843</td>\n",
       "      <td>1</td>\n",
       "      <td>11.000000</td>\n",
       "      <td>0.000000</td>\n",
       "      <td>-0.464879</td>\n",
       "      <td>-0.650004</td>\n",
       "      <td>-0.194335</td>\n",
       "    </tr>\n",
       "    <tr>\n",
       "      <th>120</th>\n",
       "      <td>2844</td>\n",
       "      <td>2</td>\n",
       "      <td>5.500000</td>\n",
       "      <td>2.121320</td>\n",
       "      <td>-0.612256</td>\n",
       "      <td>-0.612202</td>\n",
       "      <td>-0.194292</td>\n",
       "    </tr>\n",
       "    <tr>\n",
       "      <th>121</th>\n",
       "      <td>2846</td>\n",
       "      <td>2</td>\n",
       "      <td>65.000000</td>\n",
       "      <td>7.071068</td>\n",
       "      <td>0.982090</td>\n",
       "      <td>-0.523999</td>\n",
       "      <td>-0.194292</td>\n",
       "    </tr>\n",
       "    <tr>\n",
       "      <th>122</th>\n",
       "      <td>2848</td>\n",
       "      <td>1</td>\n",
       "      <td>44.000000</td>\n",
       "      <td>0.000000</td>\n",
       "      <td>0.419380</td>\n",
       "      <td>-0.650004</td>\n",
       "      <td>-0.194335</td>\n",
       "    </tr>\n",
       "    <tr>\n",
       "      <th>123</th>\n",
       "      <td>2850</td>\n",
       "      <td>1</td>\n",
       "      <td>2.000000</td>\n",
       "      <td>0.000000</td>\n",
       "      <td>-0.706041</td>\n",
       "      <td>-0.650004</td>\n",
       "      <td>-0.194335</td>\n",
       "    </tr>\n",
       "    <tr>\n",
       "      <th>124</th>\n",
       "      <td>2851</td>\n",
       "      <td>1</td>\n",
       "      <td>59.000000</td>\n",
       "      <td>0.000000</td>\n",
       "      <td>0.821316</td>\n",
       "      <td>-0.650004</td>\n",
       "      <td>-0.194335</td>\n",
       "    </tr>\n",
       "    <tr>\n",
       "      <th>125</th>\n",
       "      <td>2863</td>\n",
       "      <td>5</td>\n",
       "      <td>25.600000</td>\n",
       "      <td>14.258331</td>\n",
       "      <td>-0.073662</td>\n",
       "      <td>-0.395923</td>\n",
       "      <td>-0.194163</td>\n",
       "    </tr>\n",
       "    <tr>\n",
       "      <th>126</th>\n",
       "      <td>2873</td>\n",
       "      <td>5</td>\n",
       "      <td>30.400000</td>\n",
       "      <td>47.673892</td>\n",
       "      <td>0.054958</td>\n",
       "      <td>0.199536</td>\n",
       "      <td>-0.194163</td>\n",
       "    </tr>\n",
       "    <tr>\n",
       "      <th>127</th>\n",
       "      <td>2874</td>\n",
       "      <td>3</td>\n",
       "      <td>7.000000</td>\n",
       "      <td>7.000000</td>\n",
       "      <td>-0.572062</td>\n",
       "      <td>-0.525265</td>\n",
       "      <td>-0.194249</td>\n",
       "    </tr>\n",
       "    <tr>\n",
       "      <th>128</th>\n",
       "      <td>2884</td>\n",
       "      <td>128</td>\n",
       "      <td>2.250000</td>\n",
       "      <td>11.491181</td>\n",
       "      <td>-0.699342</td>\n",
       "      <td>-0.445233</td>\n",
       "      <td>-0.188873</td>\n",
       "    </tr>\n",
       "    <tr>\n",
       "      <th>129</th>\n",
       "      <td>2892</td>\n",
       "      <td>1</td>\n",
       "      <td>4.000000</td>\n",
       "      <td>0.000000</td>\n",
       "      <td>-0.652449</td>\n",
       "      <td>-0.650004</td>\n",
       "      <td>-0.194335</td>\n",
       "    </tr>\n",
       "    <tr>\n",
       "      <th>130</th>\n",
       "      <td>6999</td>\n",
       "      <td>8</td>\n",
       "      <td>4.250000</td>\n",
       "      <td>4.062019</td>\n",
       "      <td>-0.645750</td>\n",
       "      <td>-0.577620</td>\n",
       "      <td>-0.194034</td>\n",
       "    </tr>\n",
       "    <tr>\n",
       "      <th>131</th>\n",
       "      <td>8001</td>\n",
       "      <td>10867</td>\n",
       "      <td>4.644060</td>\n",
       "      <td>19.920118</td>\n",
       "      <td>-0.635191</td>\n",
       "      <td>-0.295031</td>\n",
       "      <td>0.272950</td>\n",
       "    </tr>\n",
       "    <tr>\n",
       "      <th>132</th>\n",
       "      <td>8002</td>\n",
       "      <td>17</td>\n",
       "      <td>1.705882</td>\n",
       "      <td>2.910428</td>\n",
       "      <td>-0.713922</td>\n",
       "      <td>-0.598141</td>\n",
       "      <td>-0.193647</td>\n",
       "    </tr>\n",
       "    <tr>\n",
       "      <th>133</th>\n",
       "      <td>8006</td>\n",
       "      <td>2</td>\n",
       "      <td>1.500000</td>\n",
       "      <td>0.707107</td>\n",
       "      <td>-0.719439</td>\n",
       "      <td>-0.637403</td>\n",
       "      <td>-0.194292</td>\n",
       "    </tr>\n",
       "    <tr>\n",
       "      <th>134</th>\n",
       "      <td>8010</td>\n",
       "      <td>7</td>\n",
       "      <td>1.000000</td>\n",
       "      <td>0.000000</td>\n",
       "      <td>-0.732836</td>\n",
       "      <td>-0.650004</td>\n",
       "      <td>-0.194077</td>\n",
       "    </tr>\n",
       "    <tr>\n",
       "      <th>135</th>\n",
       "      <td>8020</td>\n",
       "      <td>5</td>\n",
       "      <td>14.000000</td>\n",
       "      <td>20.087309</td>\n",
       "      <td>-0.384492</td>\n",
       "      <td>-0.292052</td>\n",
       "      <td>-0.194163</td>\n",
       "    </tr>\n",
       "    <tr>\n",
       "      <th>136</th>\n",
       "      <td>8101</td>\n",
       "      <td>419</td>\n",
       "      <td>1.429594</td>\n",
       "      <td>2.279865</td>\n",
       "      <td>-0.721325</td>\n",
       "      <td>-0.609377</td>\n",
       "      <td>-0.176359</td>\n",
       "    </tr>\n",
       "  </tbody>\n",
       "</table>\n",
       "<p>137 rows × 7 columns</p>\n",
       "</div>"
      ],
      "text/plain": [
       "     entry_page  entry_page_len  entry_page_average  entry_page_std  \\\n",
       "0          2100          110762           30.622723       54.605291   \n",
       "1          2111           51932           17.250231       36.600361   \n",
       "2          2113          205968           14.629467       32.382016   \n",
       "3          2114           44589           11.881451       23.421736   \n",
       "4          2115           10655           17.433881       40.207986   \n",
       "5          2116          125338           12.814988       27.249339   \n",
       "6          2119             144           14.520833       30.868992   \n",
       "7          2121              21           28.904762       61.392919   \n",
       "8          2122               7           26.857143       21.271488   \n",
       "9          2123              26           44.923077      108.261137   \n",
       "10         2124              20           11.000000       21.173469   \n",
       "11         2125               5           37.000000       23.162470   \n",
       "12         2126               4           40.250000       57.904375   \n",
       "13         2128               5           97.000000      182.478766   \n",
       "14         2130               1            2.000000        0.000000   \n",
       "15         2133               3           13.333333       17.925773   \n",
       "16         2135               2            7.000000        2.828427   \n",
       "17         2136               1           16.000000        0.000000   \n",
       "18         2142            1275           26.211765       62.444945   \n",
       "19         2143              70           17.785714       34.710769   \n",
       "20         2145             104           20.125000       33.035341   \n",
       "21         2146             284           18.852113       36.273879   \n",
       "22         2148               3          129.000000      205.423952   \n",
       "23         2153             124           13.096774       24.836512   \n",
       "24         2155             124           35.596774       85.483980   \n",
       "25         2156              58           13.586207       24.428222   \n",
       "26         2160              20           34.250000       56.117241   \n",
       "27         2166             322           13.354037       51.908608   \n",
       "28         2168               1           91.000000        0.000000   \n",
       "29         2170             187           11.866310       12.886948   \n",
       "..          ...             ...                 ...             ...   \n",
       "107        2775             223            1.143498        0.351368   \n",
       "108        2776               3           42.666667       34.428670   \n",
       "109        2777               5           58.400000       58.517519   \n",
       "110        2778               1           18.000000        0.000000   \n",
       "111        2784              17           41.823529       49.367544   \n",
       "112        2788               8            5.625000        3.739270   \n",
       "113        2791               5           28.400000       28.535942   \n",
       "114        2792              14          109.142857      210.164718   \n",
       "115        2793               3           25.666667       28.589042   \n",
       "116        2794               1           51.000000        0.000000   \n",
       "117        2812               1            3.000000        0.000000   \n",
       "118        2840               1           39.000000        0.000000   \n",
       "119        2843               1           11.000000        0.000000   \n",
       "120        2844               2            5.500000        2.121320   \n",
       "121        2846               2           65.000000        7.071068   \n",
       "122        2848               1           44.000000        0.000000   \n",
       "123        2850               1            2.000000        0.000000   \n",
       "124        2851               1           59.000000        0.000000   \n",
       "125        2863               5           25.600000       14.258331   \n",
       "126        2873               5           30.400000       47.673892   \n",
       "127        2874               3            7.000000        7.000000   \n",
       "128        2884             128            2.250000       11.491181   \n",
       "129        2892               1            4.000000        0.000000   \n",
       "130        6999               8            4.250000        4.062019   \n",
       "131        8001           10867            4.644060       19.920118   \n",
       "132        8002              17            1.705882        2.910428   \n",
       "133        8006               2            1.500000        0.707107   \n",
       "134        8010               7            1.000000        0.000000   \n",
       "135        8020               5           14.000000       20.087309   \n",
       "136        8101             419            1.429594        2.279865   \n",
       "\n",
       "     entry_page_average__standard  entry_page_std__standard  \\\n",
       "0                        0.060926                  0.323052   \n",
       "1                       -0.297400                  0.002208   \n",
       "2                       -0.367625                 -0.072962   \n",
       "3                       -0.441260                 -0.232633   \n",
       "4                       -0.292479                  0.066495   \n",
       "5                       -0.416245                 -0.164426   \n",
       "6                       -0.370536                 -0.099924   \n",
       "7                        0.014892                  0.444006   \n",
       "8                       -0.039975                 -0.270950   \n",
       "9                        0.444114                  1.279189   \n",
       "10                      -0.464879                 -0.272697   \n",
       "11                       0.231810                 -0.237253   \n",
       "12                       0.318896                  0.381841   \n",
       "13                       1.839553                  2.601734   \n",
       "14                      -0.706041                 -0.650004   \n",
       "15                      -0.402356                 -0.330570   \n",
       "16                      -0.572062                 -0.599602   \n",
       "17                      -0.330901                 -0.650004   \n",
       "18                      -0.057269                  0.462753   \n",
       "19                      -0.283051                 -0.031465   \n",
       "20                      -0.220368                 -0.061320   \n",
       "21                      -0.254476                 -0.003610   \n",
       "22                       2.697017                  3.010613   \n",
       "23                      -0.408695                 -0.207422   \n",
       "24                       0.194209                  0.873305   \n",
       "25                      -0.395580                 -0.214698   \n",
       "26                       0.158122                  0.349995   \n",
       "27                      -0.401801                  0.274998   \n",
       "28                       1.678779                 -0.650004   \n",
       "29                      -0.441666                 -0.420361   \n",
       "..                            ...                       ...   \n",
       "107                     -0.728991                 -0.643743   \n",
       "108                      0.383652                 -0.036492   \n",
       "109                      0.805238                  0.392767   \n",
       "110                     -0.277309                 -0.650004   \n",
       "111                      0.361060                  0.229716   \n",
       "112                     -0.608906                 -0.583371   \n",
       "113                      0.001366                 -0.141499   \n",
       "114                      2.164930                  3.095092   \n",
       "115                     -0.071875                 -0.140553   \n",
       "116                      0.606950                 -0.650004   \n",
       "117                     -0.679245                 -0.650004   \n",
       "118                      0.285401                 -0.650004   \n",
       "119                     -0.464879                 -0.650004   \n",
       "120                     -0.612256                 -0.612202   \n",
       "121                      0.982090                 -0.523999   \n",
       "122                      0.419380                 -0.650004   \n",
       "123                     -0.706041                 -0.650004   \n",
       "124                      0.821316                 -0.650004   \n",
       "125                     -0.073662                 -0.395923   \n",
       "126                      0.054958                  0.199536   \n",
       "127                     -0.572062                 -0.525265   \n",
       "128                     -0.699342                 -0.445233   \n",
       "129                     -0.652449                 -0.650004   \n",
       "130                     -0.645750                 -0.577620   \n",
       "131                     -0.635191                 -0.295031   \n",
       "132                     -0.713922                 -0.598141   \n",
       "133                     -0.719439                 -0.637403   \n",
       "134                     -0.732836                 -0.650004   \n",
       "135                     -0.384492                 -0.292052   \n",
       "136                     -0.721325                 -0.609377   \n",
       "\n",
       "     entry_page_len__standard  \n",
       "0                    4.568862  \n",
       "1                    2.038920  \n",
       "2                    8.663126  \n",
       "3                    1.723140  \n",
       "4                    0.263833  \n",
       "5                    5.195692  \n",
       "6                   -0.188185  \n",
       "7                   -0.193475  \n",
       "8                   -0.194077  \n",
       "9                   -0.193260  \n",
       "10                  -0.193518  \n",
       "11                  -0.194163  \n",
       "12                  -0.194206  \n",
       "13                  -0.194163  \n",
       "14                  -0.194335  \n",
       "15                  -0.194249  \n",
       "16                  -0.194292  \n",
       "17                  -0.194335  \n",
       "18                  -0.139547  \n",
       "19                  -0.191367  \n",
       "20                  -0.189905  \n",
       "21                  -0.182165  \n",
       "22                  -0.194249  \n",
       "23                  -0.189045  \n",
       "24                  -0.189045  \n",
       "25                  -0.191883  \n",
       "26                  -0.193518  \n",
       "27                  -0.180530  \n",
       "28                  -0.194335  \n",
       "29                  -0.186336  \n",
       "..                        ...  \n",
       "107                 -0.184788  \n",
       "108                 -0.194249  \n",
       "109                 -0.194163  \n",
       "110                 -0.194335  \n",
       "111                 -0.193647  \n",
       "112                 -0.194034  \n",
       "113                 -0.194163  \n",
       "114                 -0.193776  \n",
       "115                 -0.194249  \n",
       "116                 -0.194335  \n",
       "117                 -0.194335  \n",
       "118                 -0.194335  \n",
       "119                 -0.194335  \n",
       "120                 -0.194292  \n",
       "121                 -0.194292  \n",
       "122                 -0.194335  \n",
       "123                 -0.194335  \n",
       "124                 -0.194335  \n",
       "125                 -0.194163  \n",
       "126                 -0.194163  \n",
       "127                 -0.194249  \n",
       "128                 -0.188873  \n",
       "129                 -0.194335  \n",
       "130                 -0.194034  \n",
       "131                  0.272950  \n",
       "132                 -0.193647  \n",
       "133                 -0.194292  \n",
       "134                 -0.194077  \n",
       "135                 -0.194163  \n",
       "136                 -0.176359  \n",
       "\n",
       "[137 rows x 7 columns]"
      ]
     },
     "execution_count": 42,
     "metadata": {},
     "output_type": "execute_result"
    }
   ],
   "source": [
    "entry_page"
   ]
  },
  {
   "cell_type": "code",
   "execution_count": 43,
   "metadata": {
    "collapsed": false
   },
   "outputs": [
    {
     "data": {
      "text/plain": [
       "<matplotlib.axes._subplots.AxesSubplot at 0x7f212e39cf98>"
      ]
     },
     "execution_count": 43,
     "metadata": {},
     "output_type": "execute_result"
    },
    {
     "data": {
      "image/png": "[encoded data removed]",
      "text/plain": [
       "<Figure size 600x400 with 1 Axes>"
      ]
     },
     "metadata": {},
     "output_type": "display_data"
    }
   ],
   "source": [
    "sns.scatterplot(x = 'entry_page_average__standard', y = 'entry_page_std__standard', data=entry_page[['entry_page_average__standard', 'entry_page_std__standard']])"
   ]
  },
  {
   "cell_type": "code",
   "execution_count": 44,
   "metadata": {
    "collapsed": true
   },
   "outputs": [],
   "source": [
    "Kmean = KMeans(n_clusters=5)"
   ]
  },
  {
   "cell_type": "code",
   "execution_count": 45,
   "metadata": {
    "collapsed": false
   },
   "outputs": [],
   "source": [
    "kmeanfit = Kmean.fit(entry_page[['entry_page_average__standard', 'entry_page_std__standard', 'entry_page_len__standard']].fillna(0))"
   ]
  },
  {
   "cell_type": "code",
   "execution_count": 46,
   "metadata": {
    "collapsed": false
   },
   "outputs": [],
   "source": [
    "entry_page['entry_page_clusters'] = Kmean.labels_"
   ]
  },
  {
   "cell_type": "code",
   "execution_count": 47,
   "metadata": {
    "collapsed": false
   },
   "outputs": [
    {
     "data": {
      "text/plain": [
       "<matplotlib.axes._subplots.AxesSubplot at 0x7f212c129e10>"
      ]
     },
     "execution_count": 47,
     "metadata": {},
     "output_type": "execute_result"
    },
    {
     "data": {
      "image/png": "[encoded data removed]",
      "text/plain": [
       "<Figure size 600x400 with 1 Axes>"
      ]
     },
     "metadata": {},
     "output_type": "display_data"
    }
   ],
   "source": [
    "sns.scatterplot(x = 'entry_page_average', y = 'entry_page_std', hue='entry_page_clusters', data=entry_page[['entry_page_average', 'entry_page_std', 'entry_page_clusters']])"
   ]
  },
  {
   "cell_type": "code",
   "execution_count": 48,
   "metadata": {
    "collapsed": false
   },
   "outputs": [],
   "source": [
    "entry_page['entry_page_clusters'] = entry_page['entry_page_clusters'].astype('str')"
   ]
  },
  {
   "cell_type": "code",
   "execution_count": 49,
   "metadata": {
    "collapsed": false
   },
   "outputs": [],
   "source": [
    "df_train = df_train.merge(entry_page[['entry_page_clusters', 'entry_page']], left_on='entry_page', right_on='entry_page', how='inner')"
   ]
  },
  {
   "cell_type": "code",
   "execution_count": 50,
   "metadata": {
    "collapsed": false
   },
   "outputs": [],
   "source": [
    "df_train = df_train.drop(columns='entry_page')"
   ]
  },
  {
   "cell_type": "code",
   "execution_count": 51,
   "metadata": {
    "collapsed": true
   },
   "outputs": [],
   "source": [
    "col = 'entry_page_clusters'\n",
    "dummy_df = pd.get_dummies(df_train[col], prefix=col, drop_first=True)\n",
    "df_train = df_train.drop(columns=col).merge(dummy_df, left_index=True, right_index=True)"
   ]
  },
  {
   "cell_type": "code",
   "execution_count": 52,
   "metadata": {
    "collapsed": false
   },
   "outputs": [],
   "source": [
    "df = df_train.copy()"
   ]
  },
  {
   "cell_type": "code",
   "execution_count": 53,
   "metadata": {
    "collapsed": true
   },
   "outputs": [],
   "source": [
    "df = df.drop(columns='path_id_set')"
   ]
  },
  {
   "cell_type": "code",
   "execution_count": 61,
   "metadata": {
    "collapsed": true
   },
   "outputs": [],
   "source": [
    "dfcorr = df.corr()"
   ]
  },
  {
   "cell_type": "code",
   "execution_count": 60,
   "metadata": {
    "collapsed": false
   },
   "outputs": [
    {
     "data": {
      "image/png": "[encoded data removed]",
      "text/plain": [
       "<Figure size 1600x1000 with 2 Axes>"
      ]
     },
     "metadata": {},
     "output_type": "display_data"
    }
   ],
   "source": [
    "plt.figure(figsize=(16,10))\n",
    "sns.heatmap(dfcorr, annot=False)\n",
    "plt.show()"
   ]
  },
  {
   "cell_type": "code",
   "execution_count": null,
   "metadata": {
    "collapsed": true
   },
   "outputs": [],
   "source": []
  },
  {
   "cell_type": "markdown",
   "metadata": {},
   "source": [
    "### Split the data"
   ]
  },
  {
   "cell_type": "code",
   "execution_count": 62,
   "metadata": {
    "collapsed": true
   },
   "outputs": [],
   "source": [
    "\n",
    "labels = np.array(df['hits'])\n",
    "\n",
    "features= df.drop('hits', axis = 1)\n",
    "\n",
    "feature_list = list(df.columns)\n",
    "\n",
    "features = np.array(df)"
   ]
  },
  {
   "cell_type": "code",
   "execution_count": 71,
   "metadata": {
    "collapsed": false
   },
   "outputs": [],
   "source": [
    "from sklearn.cross_validation import KFold, cross_val_score"
   ]
  },
  {
   "cell_type": "code",
   "execution_count": 74,
   "metadata": {
    "collapsed": false
   },
   "outputs": [],
   "source": [
    "cv = KFold(n = 12, n_folds=10, random_state=42, shuffle=False)"
   ]
  },
  {
   "cell_type": "code",
   "execution_count": 75,
   "metadata": {
    "collapsed": false
   },
   "outputs": [
    {
     "name": "stdout",
     "output_type": "stream",
     "text": [
      "[ 2  3  4  5  6  7  8  9 10 11 12 13 14] [0 1]\n",
      "[ 0  1  4  5  6  7  8  9 10 11 12 13 14] [2 3]\n",
      "[ 0  1  2  3  6  7  8  9 10 11 12 13 14] [4 5]\n",
      "[ 0  1  2  3  4  5  8  9 10 11 12 13 14] [6 7]\n",
      "[ 0  1  2  3  4  5  6  7 10 11 12 13 14] [8 9]\n",
      "[ 0  1  2  3  4  5  6  7  8  9 11 12 13 14] [10]\n",
      "[ 0  1  2  3  4  5  6  7  8  9 10 12 13 14] [11]\n",
      "[ 0  1  2  3  4  5  6  7  8  9 10 11 13 14] [12]\n",
      "[ 0  1  2  3  4  5  6  7  8  9 10 11 12 14] [13]\n",
      "[ 0  1  2  3  4  5  6  7  8  9 10 11 12 13] [14]\n"
     ]
    }
   ],
   "source": [
    "for train_set,test_set in cv:\n",
    "    print(train_set, test_set)"
   ]
  },
  {
   "cell_type": "code",
   "execution_count": 56,
   "metadata": {
    "collapsed": true
   },
   "outputs": [],
   "source": [
    "\n",
    "# Split the data into training and testing sets\n",
    "train_features, test_features, train_labels, test_labels = sk.cross_validation.train_test_split(features, labels, test_size = 0.25, random_state = 42)\n",
    "train_features, test_features, train_labels, test_labels = sk.cross_validation.train_test_split(test_features, test_labels, test_size = 0.25, random_state = 42)"
   ]
  },
  {
   "cell_type": "code",
   "execution_count": 57,
   "metadata": {
    "collapsed": false
   },
   "outputs": [
    {
     "name": "stdout",
     "output_type": "stream",
     "text": [
      "Training Features Shape: (464426, 47)\n",
      "Training Labels Shape: (464426,)\n",
      "Testing Features Shape: (154809, 47)\n",
      "Testing Labels Shape: (154809,)\n"
     ]
    }
   ],
   "source": [
    "print('Training Features Shape:', train_features.shape)\n",
    "print('Training Labels Shape:', train_labels.shape)\n",
    "print('Testing Features Shape:', test_features.shape)\n",
    "print('Testing Labels Shape:', test_labels.shape)"
   ]
  },
  {
   "cell_type": "markdown",
   "metadata": {},
   "source": [
    "## Train the model"
   ]
  },
  {
   "cell_type": "code",
   "execution_count": 79,
   "metadata": {
    "collapsed": false
   },
   "outputs": [],
   "source": [
    "#n_estimators = 1000 trees\n",
    "rf = RandomForestRegressor(n_estimators = 1000, random_state = 42, )\n",
    "\n",
    "rf.fit(train_features, train_labels);"
   ]
  },
  {
   "cell_type": "code",
   "execution_count": 80,
   "metadata": {
    "collapsed": true
   },
   "outputs": [],
   "source": [
    "# from sklearn.externals import joblib\n",
    "# # Output a pickle file for the model\n",
    "# joblib.dump(clf, 'saved_model.pkl') "
   ]
  },
  {
   "cell_type": "code",
   "execution_count": 85,
   "metadata": {
    "collapsed": false
   },
   "outputs": [],
   "source": [
    "predictions_train = rf.predict(train_features)\n",
    "predictions_test = rf.predict(test_features)\n",
    "\n",
    "# errors = (predictions - test_labels)\n",
    "\n"
   ]
  },
  {
   "cell_type": "code",
   "execution_count": 87,
   "metadata": {
    "collapsed": false
   },
   "outputs": [
    {
     "data": {
      "text/plain": [
       "<matplotlib.axes._subplots.AxesSubplot at 0x7f9c6bd47d30>"
      ]
     },
     "execution_count": 87,
     "metadata": {},
     "output_type": "execute_result"
    },
    {
     "data": {
      "image/png": "[encoded data removed]",
      "text/plain": [
       "<Figure size 600x400 with 1 Axes>"
      ]
     },
     "metadata": {},
     "output_type": "display_data"
    }
   ],
   "source": [
    "sns.boxplot((predictions_train - train_labels))"
   ]
  },
  {
   "cell_type": "code",
   "execution_count": 88,
   "metadata": {
    "collapsed": false
   },
   "outputs": [
    {
     "data": {
      "text/plain": [
       "<matplotlib.axes._subplots.AxesSubplot at 0x7f9c6b8b2710>"
      ]
     },
     "execution_count": 88,
     "metadata": {},
     "output_type": "execute_result"
    },
    {
     "data": {
      "image/png": "[encoded data removed]",
      "text/plain": [
       "<Figure size 600x400 with 1 Axes>"
      ]
     },
     "metadata": {},
     "output_type": "display_data"
    }
   ],
   "source": [
    "sns.boxplot((predictions_test - test_labels))"
   ]
  },
  {
   "cell_type": "code",
   "execution_count": 89,
   "metadata": {
    "collapsed": false
   },
   "outputs": [
    {
     "name": "stdout",
     "output_type": "stream",
     "text": [
      "train\n",
      "RMSE:  1.055185240054408\n",
      "MSE:  1.1134158908286784\n",
      "\n",
      "\n",
      "\n",
      "test\n",
      "RMSE:  0.6327646207712796\n",
      "MSE:  0.4003910652998212\n"
     ]
    }
   ],
   "source": [
    "print(\"train\")\n",
    "print(\"RMSE: \", eval_measures.rmse(predictions_train, train_labels))\n",
    "print(\"MSE: \", eval_measures.mse(predictions_train, train_labels))\n",
    "\n",
    "print(\"\\n\\n\")\n",
    "print(\"test\")\n",
    "print(\"RMSE: \", eval_measures.rmse(predictions_test, test_labels))\n",
    "print(\"MSE: \", eval_measures.mse(predictions_test, test_labels))"
   ]
  },
  {
   "cell_type": "code",
   "execution_count": 90,
   "metadata": {
    "collapsed": false
   },
   "outputs": [],
   "source": [
    "# # Calculate mean absolute percentage error (MAPE)\n",
    "# mape = 100 * (errors / test_labels)\n",
    "# # Calculate and display accuracy\n",
    "# accuracy = 100 - np.mean(mape)\n",
    "# print('Accuracy:', round(accuracy, 2), '%.')"
   ]
  },
  {
   "cell_type": "code",
   "execution_count": null,
   "metadata": {
    "collapsed": true
   },
   "outputs": [],
   "source": []
  },
  {
   "cell_type": "code",
   "execution_count": null,
   "metadata": {
    "collapsed": true
   },
   "outputs": [],
   "source": []
  },
  {
   "cell_type": "code",
   "execution_count": 49,
   "metadata": {
    "collapsed": false
   },
   "outputs": [],
   "source": [
    "# corr = hour_of_day.corr()\n",
    "# # Generate a mask for the upper triangle\n",
    "# mask = np.zeros_like(corr, dtype=np.bool)\n",
    "# mask[np.triu_indices_from(mask)] = True\n",
    "\n",
    "# # Set up the matplotlib figure\n",
    "# f, ax = plt.subplots(figsize=(11, 9))\n",
    "\n",
    "# # Generate a custom diverging colormap\n",
    "# cmap = sns.diverging_palette(220, 10, as_cmap=True)\n",
    "\n",
    "# # Draw the heatmap with the mask and correct aspect ratio\n",
    "# sns.heatmap(corr, mask=mask, cmap=cmap, vmax=.3, center=0,\n",
    "#             square=True, linewidths=.5, cbar_kws={\"shrink\": .5})"
   ]
  },
  {
   "cell_type": "code",
   "execution_count": 50,
   "metadata": {
    "collapsed": false
   },
   "outputs": [],
   "source": [
    "# df_train2 = df_train.copy()\n",
    "# df_train2['hour_of_day'] = df_train2['hour_of_day'].astype('str')"
   ]
  },
  {
   "cell_type": "code",
   "execution_count": 51,
   "metadata": {
    "collapsed": false
   },
   "outputs": [],
   "source": [
    "# df_train['hour_of_day'] = df_train['hour_of_day'].astype('str')"
   ]
  },
  {
   "cell_type": "markdown",
   "metadata": {},
   "source": [
    "### Baseline Models"
   ]
  },
  {
   "cell_type": "code",
   "execution_count": 94,
   "metadata": {
    "collapsed": false
   },
   "outputs": [
    {
     "name": "stdout",
     "output_type": "stream",
     "text": [
      "                            OLS Regression Results                            \n",
      "==============================================================================\n",
      "Dep. Variable:                      y   R-squared:                       1.000\n",
      "Model:                            OLS   Adj. R-squared:                  1.000\n",
      "Method:                 Least Squares   F-statistic:                 9.634e+31\n",
      "Date:                Sun, 23 Jun 2019   Prob (F-statistic):               0.00\n",
      "Time:                        06:23:10   Log-Likelihood:             1.2561e+07\n",
      "No. Observations:              464426   AIC:                        -2.512e+07\n",
      "Df Residuals:                  464379   BIC:                        -2.512e+07\n",
      "Df Model:                          47                                         \n",
      "Covariance Type:            nonrobust                                         \n",
      "==============================================================================\n",
      "                 coef    std err          t      P>|t|      [0.025      0.975]\n",
      "------------------------------------------------------------------------------\n",
      "x1          2.211e-16   3.41e-19    649.265      0.000     2.2e-16    2.22e-16\n",
      "x2             1.0000   1.73e-17   5.78e+16      0.000       1.000       1.000\n",
      "x3          1.326e-15   3.35e-15      0.396      0.692   -5.23e-15    7.88e-15\n",
      "x4          1.037e-15   3.16e-15      0.328      0.743   -5.16e-15    7.24e-15\n",
      "x5         -2.901e-15   3.43e-15     -0.847      0.397   -9.62e-15    3.82e-15\n",
      "x6          1.214e-15   3.51e-15      0.346      0.729   -5.66e-15    8.08e-15\n",
      "x7          2.546e-15   3.33e-15      0.765      0.444   -3.98e-15    9.07e-15\n",
      "x8         -1.057e-15   2.36e-15     -0.447      0.655   -5.69e-15    3.58e-15\n",
      "x9         -8.801e-16   2.51e-15     -0.350      0.726   -5.81e-15    4.05e-15\n",
      "x10        -1.758e-15    2.4e-15     -0.732      0.464   -6.46e-15    2.95e-15\n",
      "x11        -1.025e-15   2.45e-15     -0.418      0.676   -5.83e-15    3.78e-15\n",
      "x12        -2.329e-15   2.38e-15     -0.978      0.328      -7e-15    2.34e-15\n",
      "x13        -1.566e-16   2.41e-15     -0.065      0.948   -4.88e-15    4.57e-15\n",
      "x14         1.488e-15   4.32e-15      0.344      0.731   -6.99e-15    9.96e-15\n",
      "x15         7.824e-16   4.48e-15      0.175      0.861      -8e-15    9.56e-15\n",
      "x16         1.555e-15   4.83e-15      0.322      0.747    -7.9e-15     1.1e-14\n",
      "x17         1.498e-15   5.16e-15      0.290      0.772   -8.61e-15    1.16e-14\n",
      "x18         3.471e-16   5.32e-15      0.065      0.948   -1.01e-14    1.08e-14\n",
      "x19         9.223e-16   5.18e-15      0.178      0.859   -9.22e-15    1.11e-14\n",
      "x20         1.181e-15      5e-15      0.236      0.813   -8.62e-15     1.1e-14\n",
      "x21         2.539e-15    4.8e-15      0.529      0.597   -6.86e-15    1.19e-14\n",
      "x22          1.13e-15   4.65e-15      0.243      0.808   -7.99e-15    1.02e-14\n",
      "x23         6.875e-16   4.49e-15      0.153      0.878    -8.1e-15    9.48e-15\n",
      "x24         2.757e-16   4.32e-15      0.064      0.949   -8.19e-15    8.74e-15\n",
      "x25         -3.43e-16   4.19e-15     -0.082      0.935   -8.56e-15    7.87e-15\n",
      "x26         5.623e-16    4.1e-15      0.137      0.891   -7.46e-15    8.59e-15\n",
      "x27        -5.752e-16   4.02e-15     -0.143      0.886   -8.46e-15    7.31e-15\n",
      "x28         5.977e-16   3.98e-15      0.150      0.881   -7.21e-15     8.4e-15\n",
      "x29          7.72e-16   3.96e-15      0.195      0.845   -6.99e-15    8.54e-15\n",
      "x30          1.64e-15   3.94e-15      0.416      0.678   -6.09e-15    9.37e-15\n",
      "x31         1.203e-15   3.86e-15      0.312      0.755   -6.36e-15    8.76e-15\n",
      "x32        -1.565e-17   3.82e-15     -0.004      0.997   -7.51e-15    7.48e-15\n",
      "x33         7.714e-16   3.84e-15      0.201      0.841   -6.75e-15    8.29e-15\n",
      "x34         1.196e-15   3.91e-15      0.306      0.760   -6.48e-15    8.87e-15\n",
      "x35         1.721e-15   4.11e-15      0.418      0.676   -6.34e-15    9.78e-15\n",
      "x36         1.246e-15   4.27e-15      0.292      0.771   -7.13e-15    9.62e-15\n",
      "x37         2.187e-16   1.72e-15      0.127      0.899   -3.16e-15     3.6e-15\n",
      "x38        -7.568e-16   3.01e-15     -0.251      0.802   -6.66e-15    5.15e-15\n",
      "x39         -3.79e-16   2.18e-15     -0.174      0.862   -4.64e-15    3.88e-15\n",
      "x40         1.418e-17   2.16e-15      0.007      0.995   -4.22e-15    4.24e-15\n",
      "x41        -2.014e-15   1.15e-14     -0.176      0.860   -2.45e-14    2.04e-14\n",
      "x42         7.026e-16   6.42e-15      0.109      0.913   -1.19e-14    1.33e-14\n",
      "x43         -1.54e-16   2.25e-16     -0.685      0.493   -5.94e-16    2.86e-16\n",
      "x44         1.831e-15   2.66e-15      0.687      0.492   -3.39e-15    7.05e-15\n",
      "x45         1.353e-13   4.62e-14      2.930      0.003    4.48e-14    2.26e-13\n",
      "x46          1.69e-15   2.94e-15      0.575      0.565   -4.07e-15    7.45e-15\n",
      "x47        -2.495e-14   4.35e-13     -0.057      0.954   -8.78e-13    8.28e-13\n",
      "==============================================================================\n",
      "Omnibus:                  1041044.462   Durbin-Watson:                   1.908\n",
      "Prob(Omnibus):                  0.000   Jarque-Bera (JB):       8131430348.611\n",
      "Skew:                         -21.192   Prob(JB):                         0.00\n",
      "Kurtosis:                     649.845   Cond. No.                     1.38e+06\n",
      "==============================================================================\n",
      "\n",
      "Warnings:\n",
      "[1] Standard Errors assume that the covariance matrix of the errors is correctly specified.\n",
      "[2] The condition number is large, 1.38e+06. This might indicate that there are\n",
      "strong multicollinearity or other numerical problems.\n",
      "RMSE:  4.342034785028257e-13\n"
     ]
    }
   ],
   "source": [
    "# model = ols('hits ~ I(hour_of_day**3)', data = df_train.sample(n=100000)).fit()\n",
    "# ols_model = ols('hits ~ entry_page_clusters', data = df_train).fit()\n",
    "ols_model = sm.OLS(train_labels, train_features).fit()\n",
    "predictions_ols_train = ols_model.predict(train_features)\n",
    "predictions_ols_test = ols_model.predict(test_features)\n",
    "print(ols_model.summary())\n",
    "print(\"RMSE: \", eval_measures.rmse(predictions_ols_train, train_labels))\n",
    "# print(\"MSE: \", model_baseline.mse_total)"
   ]
  },
  {
   "cell_type": "code",
   "execution_count": null,
   "metadata": {
    "collapsed": true
   },
   "outputs": [],
   "source": []
  },
  {
   "cell_type": "code",
   "execution_count": 57,
   "metadata": {
    "collapsed": false
   },
   "outputs": [
    {
     "data": {
      "image/png": "[encoded data removed]",
      "text/plain": [
       "<Figure size 1200x800 with 1 Axes>"
      ]
     },
     "metadata": {},
     "output_type": "display_data"
    }
   ],
   "source": [
    "residuals = y_pred - df_train['hits']\n",
    "plt.figure(figsize=(12,8))\n",
    "plt.scatter(y_pred, residuals, c='blue', marker='o', label='Training data')\n",
    "# plt.scatter(y_test_pred, y_test_pred - y_test, c='orange', marker='*', label='Test data')\n",
    "plt.xlabel('Predicted values')\n",
    "plt.ylabel('Residuals')\n",
    "plt.legend(loc='upper left')\n",
    "# plt.hlines(y=0, xmin=0, xmax=5000, lw=2, color='k')\n",
    "# plt.xlim([1500, 4000])\n",
    "plt.show()"
   ]
  },
  {
   "cell_type": "code",
   "execution_count": null,
   "metadata": {
    "collapsed": false
   },
   "outputs": [
    {
     "name": "stderr",
     "output_type": "stream",
     "text": [
      "/home/wcasey17/.local/lib/python3.5/site-packages/statsmodels/stats/outliers_influence.py:323: RuntimeWarning: invalid value encountered in sqrt\n",
      "  return  self.results.resid / sigma / np.sqrt(1 - hii)\n",
      "/home/wcasey17/.local/lib/python3.5/site-packages/scipy/stats/_distn_infrastructure.py:877: RuntimeWarning: invalid value encountered in greater\n",
      "  return (self.a < x) & (x < self.b)\n",
      "/home/wcasey17/.local/lib/python3.5/site-packages/scipy/stats/_distn_infrastructure.py:877: RuntimeWarning: invalid value encountered in less\n",
      "  return (self.a < x) & (x < self.b)\n",
      "/home/wcasey17/.local/lib/python3.5/site-packages/scipy/stats/_distn_infrastructure.py:1831: RuntimeWarning: invalid value encountered in less_equal\n",
      "  cond2 = cond0 & (x <= self.a)\n"
     ]
    }
   ],
   "source": [
    "fig, ax = plt.subplots(figsize=(12,8))\n",
    "fig = sm.graphics.influence_plot(ols_model, ax=ax, criterion=\"cooks\")"
   ]
  },
  {
   "cell_type": "code",
   "execution_count": 59,
   "metadata": {
    "collapsed": false
   },
   "outputs": [],
   "source": [
    "# df_train['session_durantion__log2'] = df_train.session_durantion__log.apply(lambda x: 0 if str(x) == '-inf' else x)"
   ]
  },
  {
   "cell_type": "code",
   "execution_count": null,
   "metadata": {
    "collapsed": true
   },
   "outputs": [],
   "source": []
  },
  {
   "cell_type": "code",
   "execution_count": 66,
   "metadata": {
    "collapsed": false
   },
   "outputs": [
    {
     "name": "stdout",
     "output_type": "stream",
     "text": [
      "                 Generalized Linear Model Regression Results                  \n",
      "==============================================================================\n",
      "Dep. Variable:                      y   No. Observations:               464426\n",
      "Model:                            GLM   Df Residuals:                   464379\n",
      "Model Family:                 Poisson   Df Model:                           46\n",
      "Link Function:                    log   Scale:                          1.0000\n",
      "Method:                          IRLS   Log-Likelihood:            -5.3606e+06\n",
      "Date:                Sun, 23 Jun 2019   Deviance:                   8.8750e+06\n",
      "Time:                        05:33:32   Pearson chi2:                 2.98e+07\n",
      "No. Iterations:                    15   Covariance Type:             nonrobust\n",
      "==============================================================================\n",
      "                 coef    std err          z      P>|z|      [0.025      0.975]\n",
      "------------------------------------------------------------------------------\n",
      "x1          3.865e-05   5.94e-08    650.326      0.000    3.85e-05    3.88e-05\n",
      "x2             0.0031   1.05e-06   2943.904      0.000       0.003       0.003\n",
      "x3             0.3703      0.002    190.429      0.000       0.366       0.374\n",
      "x4             0.3132      0.002    169.487      0.000       0.310       0.317\n",
      "x5             0.3144      0.002    157.748      0.000       0.310       0.318\n",
      "x6             0.4035      0.002    202.621      0.000       0.400       0.407\n",
      "x7             0.3058      0.002    155.668      0.000       0.302       0.310\n",
      "x8             0.0852      0.001     64.114      0.000       0.083       0.088\n",
      "x9             0.0994      0.001     70.232      0.000       0.097       0.102\n",
      "x10            0.1002      0.001     74.295      0.000       0.098       0.103\n",
      "x11            0.1132      0.001     82.501      0.000       0.111       0.116\n",
      "x12            0.1373      0.001    103.231      0.000       0.135       0.140\n",
      "x13            0.0927      0.001     68.791      0.000       0.090       0.095\n",
      "x14            0.6054      0.002    256.882      0.000       0.601       0.610\n",
      "x15            0.6467      0.002    264.547      0.000       0.642       0.651\n",
      "x16            0.6476      0.003    247.142      0.000       0.643       0.653\n",
      "x17            0.6460      0.003    232.450      0.000       0.641       0.651\n",
      "x18            0.6196      0.003    215.016      0.000       0.614       0.625\n",
      "x19            0.5943      0.003    207.680      0.000       0.589       0.600\n",
      "x20            0.5802      0.003    209.752      0.000       0.575       0.586\n",
      "x21            0.5668      0.003    213.600      0.000       0.562       0.572\n",
      "x22            0.2758      0.003    103.832      0.000       0.271       0.281\n",
      "x23            0.5996      0.002    243.055      0.000       0.595       0.604\n",
      "x24            0.4292      0.002    180.887      0.000       0.425       0.434\n",
      "x25            0.5743      0.002    245.296      0.000       0.570       0.579\n",
      "x26            0.5809      0.002    254.284      0.000       0.576       0.585\n",
      "x27            0.4832      0.002    215.374      0.000       0.479       0.488\n",
      "x28            0.5856      0.002    264.499      0.000       0.581       0.590\n",
      "x29            0.5789      0.002    262.350      0.000       0.575       0.583\n",
      "x30            0.5865      0.002    269.098      0.000       0.582       0.591\n",
      "x31            0.5774      0.002    270.067      0.000       0.573       0.582\n",
      "x32            0.6079      0.002    286.584      0.000       0.604       0.612\n",
      "x33            0.6094      0.002    284.947      0.000       0.605       0.614\n",
      "x34            0.6048      0.002    276.257      0.000       0.600       0.609\n",
      "x35            0.6336      0.002    279.054      0.000       0.629       0.638\n",
      "x36            0.5496      0.002    225.865      0.000       0.545       0.554\n",
      "x37           -0.1999      0.001   -240.698      0.000      -0.202      -0.198\n",
      "x38           -0.4160      0.002   -242.025      0.000      -0.419      -0.413\n",
      "x39           -0.9185      0.001   -640.684      0.000      -0.921      -0.916\n",
      "x40           -1.3999      0.002   -814.054      0.000      -1.403      -1.397\n",
      "x41           -0.9259      0.009   -102.973      0.000      -0.944      -0.908\n",
      "x42           -2.2443      0.009   -246.192      0.000      -2.262      -2.226\n",
      "x43            0.1157      0.000   1023.090      0.000       0.115       0.116\n",
      "x44            0.0350      0.001     29.589      0.000       0.033       0.037\n",
      "x45           -8.0860      0.013   -623.899      0.000      -8.111      -8.061\n",
      "x46           -0.2072      0.001   -145.966      0.000      -0.210      -0.204\n",
      "x47           -2.1469      0.059    -36.289      0.000      -2.263      -2.031\n",
      "==============================================================================\n"
     ]
    }
   ],
   "source": [
    "\n",
    "\n",
    "# response, predictors = dmatrices(train_labels, train_features, return_type='dataframe')\n",
    "poisson_model = sm.GLM(train_labels, train_features, family=sm.families.Poisson()).fit()\n",
    "predictions_train = poisson_model.predict(train_features)\n",
    "predictions_test = poisson_model.predict(test_features)\n",
    "print(poisson_model.summary())"
   ]
  },
  {
   "cell_type": "code",
   "execution_count": 69,
   "metadata": {
    "collapsed": false
   },
   "outputs": [
    {
     "name": "stdout",
     "output_type": "stream",
     "text": [
      "train\n",
      "RMSE:  142.01401519392928\n",
      "MSE:  20167.980511501573\n",
      "\n",
      "\n",
      "\n",
      "test\n",
      "RMSE:  345.2068348178659\n",
      "MSE:  119167.75880496936\n"
     ]
    }
   ],
   "source": [
    "print(\"train\")\n",
    "print(\"RMSE: \", eval_measures.rmse(predictions_train, train_labels))\n",
    "print(\"MSE: \", eval_measures.mse(predictions_train, train_labels))\n",
    "\n",
    "print(\"\\n\\n\")\n",
    "print(\"test\")\n",
    "print(\"RMSE: \", eval_measures.rmse(predictions_test, test_labels))\n",
    "print(\"MSE: \", eval_measures.mse(predictions_test, test_labels))"
   ]
  },
  {
   "cell_type": "code",
   "execution_count": 75,
   "metadata": {
    "collapsed": false
   },
   "outputs": [],
   "source": [
    "residuals.sort()"
   ]
  },
  {
   "cell_type": "code",
   "execution_count": 76,
   "metadata": {
    "collapsed": false
   },
   "outputs": [
    {
     "data": {
      "image/png": "[encoded data removed]",
      "text/plain": [
       "<Figure size 1200x800 with 1 Axes>"
      ]
     },
     "metadata": {},
     "output_type": "display_data"
    }
   ],
   "source": [
    "residuals = predictions_test - test_labels\n",
    "plt.figure(figsize=(12,8))\n",
    "plt.scatter(predictions_test, residuals, c='blue', marker='o', label='Training data')\n",
    "plt.xlabel('Predicted values')\n",
    "plt.ylabel('Residuals')\n",
    "plt.legend(loc='upper left')\n",
    "plt.show()"
   ]
  },
  {
   "cell_type": "code",
   "execution_count": null,
   "metadata": {
    "collapsed": true
   },
   "outputs": [],
   "source": []
  },
  {
   "cell_type": "code",
   "execution_count": null,
   "metadata": {
    "collapsed": true
   },
   "outputs": [],
   "source": []
  }
 ],
 "metadata": {
  "kernelspec": {
   "display_name": "Python 3",
   "language": "python",
   "name": "python3"
  },
  "language_info": {
   "codemirror_mode": {
    "name": "ipython",
    "version": 3
   },
   "file_extension": ".py",
   "mimetype": "text/x-python",
   "name": "python",
   "nbconvert_exporter": "python",
   "pygments_lexer": "ipython3",
   "version": "3.5.1"
  }
 },
 "nbformat": 4,
 "nbformat_minor": 2
}
