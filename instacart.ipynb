{
 "cells": [
  {
   "cell_type": "markdown",
   "metadata": {},
   "source": [
    "## TL;DR\n",
    "It is recommended that we proceed with the proposed change of initiating the background check sooner in the onboarding process.<br>\n",
    "Below are some platform improvements we expect to see:\n",
    "* Improved Success rates\n",
    "* Lower cost of aquisition\n",
    "* Increase of shopper supply\n",
    "* Improved shopper onboarding experience by reducing wait time\n",
    "\n",
    "## Hypothesis\n",
    "By initiating the required background check process sooner in the shopper onboarding flow we believe that a shopper will be more likely to finish the process and complete their first job.\n",
    "\n",
    "## Experiment Design\n",
    "We have performed a randomized A/B experiment on new shoppers to determine the effect on conversion and timeliness of the conversions by an earlier initiation of the required background check\n",
    "\n",
    "#### Experiment Design (cont.)\n",
    "For the experiment, we have decided on two primary metrics (Listed in order of importance):\n",
    "1. Success Rate (1 if shopper completed their first shop)\n",
    "2. Days to complete (Nr of days between *application_date* and *first_batch_completed_date*)\n",
    "\n",
    "The goal of our experiment will be to determine if the treatment group shows statistical significance for each metric. We expect an increase in the **Success Rate** and a decrease in **Days to Complete**.\n",
    "\n",
    "Given our large sample size we have determined an appropriate alpha level of *0.01* (0.005 since we are interested in 1 tail). By doing this, we drastically reduce the odds of a false positive test giving us more confidence in the results.\n",
    "\n",
    "## Summary of Findings\n",
    "\n",
    "#### Summary\n",
    "\n",
    "Both of our metrics (*Success Rate* and *Days to complete*) proved to be statistically significant.<br>\n",
    "The following table is a summary of the net results\n",
    "\n",
    "Metric  | Net Effect | Net Effect Confidence Interval (0.99) \n",
    "------------- | ------------- | ------------- \n",
    "Success Rate | 0.7329 | (0.622,  0.852) \n",
    "Days to Complete | -0.307 | (-0.324,  -0.289) \n",
    "\n",
    "Given our current aquisition costs and our expected success rate improvement, we can derive the following expected aquisition cost savings:\n",
    "\n",
    "Background Check Cost  | Cost Savings per Successful onboard\n",
    "------------- | -------------\n",
    "30 |25.78  \n",
    "50 | 42.96\n",
    "100 |  85.91\n",
    "\n",
    "Under our current assumptions, there is no additional cost of requiring the background check earlier in our process therfore by making this change we would realize the full extent of the above savings.<br> \n",
    "Additionally, by improving our success rate we are now helping the platform as a whole by the additional shoppers\n",
    "\n",
    "#### Concerns\n",
    "One potential concern in the data is the fact that all shoppers in the treatment group initiated the background check.\n",
    "It is difficult to tell if this is a bug or by design. To mitigate this potential risk, another test was performed on the success rate when the samples were filtered to shoppers who did initiate the background check. The results were still significant.\n"
   ]
  },
  {
   "cell_type": "code",
   "execution_count": 2,
   "metadata": {},
   "outputs": [],
   "source": [
    "import pandas as pd\n",
    "import numpy as np\n",
    "import matplotlib.pyplot as plt\n",
    "import seaborn as sns\n",
    "import math\n",
    "from scipy.stats import ttest_ind\n",
    "from statsmodels.stats.power import TTestIndPower"
   ]
  },
  {
   "cell_type": "code",
   "execution_count": 3,
   "metadata": {},
   "outputs": [],
   "source": [
    "def get_histograms(df, feature):\n",
    "    fig, ax = plt.subplots(figsize=(12,6))  \n",
    "    control = df[df.group == 'control'][feature]\n",
    "    treatment = df[df.group == 'treatment'][feature]\n",
    "    ax.hist(control, bins=50, color='g', density=True, histtype='step'\n",
    "                , label=f'Control: {np.round(np.mean(control), 3)}')\n",
    "    ax.hist(treatment, bins=50, color='r', density=True, histtype='step'\n",
    "                , label=f'Treatment: {np.round(np.mean(treatment), 3)}')\n",
    "    plt.legend()\n",
    "    plt.title(f\"{feature}\")\n",
    "    \n",
    "    \n",
    "def ttest(df, feature, alpha):\n",
    "    '''\n",
    "    1 sided, 2 sample t-test\n",
    "    \n",
    "    '''\n",
    "    control = df[df['group'] == 'control'][feature].tolist()\n",
    "    treatment = df[df['group'] == 'treatment'][feature].tolist()\n",
    "    ttest,pval = ttest_ind(control, treatment, nan_policy='omit')\n",
    "    significance = int(pval < alpha)\n",
    "    control_mean = np.mean([i for i in control if not math.isnan(i)])\n",
    "    treatment_mean = np.mean([i for i in treatment if not math.isnan(i)])\n",
    "    net_effect = (treatment_mean - control_mean)/control_mean\n",
    "    print(f\"\"\"\n",
    "    {feature}\n",
    "    Control mean: {control_mean} \n",
    "    Treatment mean: {treatment_mean}\n",
    "    test statistic: {ttest}\n",
    "    p-value: {pval}\n",
    "    Significance: {significance}\n",
    "    Net Effect: {np.round(net_effect, 4)}\n",
    "    \"\"\")\n",
    "    \n",
    "    return ttest, pval, significance, net_effect    "
   ]
  },
  {
   "cell_type": "code",
   "execution_count": 4,
   "metadata": {},
   "outputs": [],
   "source": [
    "df = pd.read_csv(\"/Users/williamcasey/Desktop/icart.csv\")\n",
    "alpha = 0.01/2"
   ]
  },
  {
   "cell_type": "code",
   "execution_count": 5,
   "metadata": {},
   "outputs": [
    {
     "data": {
      "text/plain": [
       "applicant_id    0\n",
       "channel         0\n",
       "group           0\n",
       "city            0\n",
       "event           0\n",
       "event_date      0\n",
       "dtype: int64"
      ]
     },
     "execution_count": 5,
     "metadata": {},
     "output_type": "execute_result"
    }
   ],
   "source": [
    "df.isna().sum()"
   ]
  },
  {
   "cell_type": "code",
   "execution_count": 6,
   "metadata": {},
   "outputs": [
    {
     "data": {
      "text/html": [
       "<div>\n",
       "<style scoped>\n",
       "    .dataframe tbody tr th:only-of-type {\n",
       "        vertical-align: middle;\n",
       "    }\n",
       "\n",
       "    .dataframe tbody tr th {\n",
       "        vertical-align: top;\n",
       "    }\n",
       "\n",
       "    .dataframe thead th {\n",
       "        text-align: right;\n",
       "    }\n",
       "</style>\n",
       "<table border=\"1\" class=\"dataframe\">\n",
       "  <thead>\n",
       "    <tr style=\"text-align: right;\">\n",
       "      <th></th>\n",
       "      <th>applicant_id</th>\n",
       "      <th>channel</th>\n",
       "      <th>group</th>\n",
       "      <th>city</th>\n",
       "      <th>event</th>\n",
       "      <th>event_date</th>\n",
       "    </tr>\n",
       "  </thead>\n",
       "  <tbody>\n",
       "    <tr>\n",
       "      <td>0</td>\n",
       "      <td>10001</td>\n",
       "      <td>web-search-engine</td>\n",
       "      <td>control</td>\n",
       "      <td>Asgard</td>\n",
       "      <td>application_date</td>\n",
       "      <td>10/1/18</td>\n",
       "    </tr>\n",
       "  </tbody>\n",
       "</table>\n",
       "</div>"
      ],
      "text/plain": [
       "   applicant_id            channel    group    city             event  \\\n",
       "0         10001  web-search-engine  control  Asgard  application_date   \n",
       "\n",
       "  event_date  \n",
       "0    10/1/18  "
      ]
     },
     "execution_count": 6,
     "metadata": {},
     "output_type": "execute_result"
    }
   ],
   "source": [
    "df.head(1)"
   ]
  },
  {
   "cell_type": "markdown",
   "metadata": {},
   "source": [
    "#### Transform Dataset"
   ]
  },
  {
   "cell_type": "code",
   "execution_count": 7,
   "metadata": {},
   "outputs": [],
   "source": [
    "df_pivot = df.pivot(index='applicant_id', columns='event', values='event_date')\n",
    "df_pivot['first_batch_completed_date'] = df_pivot.first_batch_completed_date.astype('str')\n",
    "df_pivot['background_check_initiated_date'] = df_pivot.background_check_initiated_date.astype('str')\n",
    "\n",
    "df_pivot['success'] = df_pivot.first_batch_completed_date.apply(lambda x: 1 if x != 'nan' else 0)\n",
    "df_pivot['is_background_check_initiated_date'] = (df_pivot\n",
    "                                                 .background_check_initiated_date\n",
    "                                                 .apply(lambda x: 1 if x != 'nan' else 0)\n",
    "                                                 )\n",
    "\n",
    "df_pivot = df_pivot.merge(df[['applicant_id', 'group', 'city']].drop_duplicates(),\n",
    "                          right_on='applicant_id',\n",
    "                          left_index=True, \n",
    "\n",
    "                         )\n",
    "\n",
    "\n",
    "df_pivot[df_pivot['success'] == 1]\n",
    "df_pivot['first_batch_completed_date'] = pd.to_datetime(df_pivot['first_batch_completed_date'])\n",
    "df_pivot['application_date'] = pd.to_datetime(df_pivot['application_date'])\n",
    "df_pivot['days_to_complete'] = (df_pivot.first_batch_completed_date - df_pivot.application_date).dt.days\n",
    "\n",
    "\n",
    "\n",
    "#Get 'n' (to be used later)\n",
    "control_n, treatment_n = (df_pivot.groupby('group').group.count().control, \n",
    "                         df_pivot.groupby('group').group.count().treatment)"
   ]
  },
  {
   "cell_type": "code",
   "execution_count": 10,
   "metadata": {},
   "outputs": [
    {
     "data": {
      "text/html": [
       "<div>\n",
       "<style scoped>\n",
       "    .dataframe tbody tr th:only-of-type {\n",
       "        vertical-align: middle;\n",
       "    }\n",
       "\n",
       "    .dataframe tbody tr th {\n",
       "        vertical-align: top;\n",
       "    }\n",
       "\n",
       "    .dataframe thead th {\n",
       "        text-align: right;\n",
       "    }\n",
       "</style>\n",
       "<table border=\"1\" class=\"dataframe\">\n",
       "  <thead>\n",
       "    <tr style=\"text-align: right;\">\n",
       "      <th></th>\n",
       "      <th>application_date</th>\n",
       "      <th>background_check_completed_date</th>\n",
       "      <th>background_check_initiated_date</th>\n",
       "      <th>card_activation_date</th>\n",
       "      <th>card_mailed_date</th>\n",
       "      <th>first_batch_completed_date</th>\n",
       "      <th>orientation_completed_date</th>\n",
       "      <th>success</th>\n",
       "      <th>is_background_check_initiated_date</th>\n",
       "      <th>applicant_id</th>\n",
       "      <th>group</th>\n",
       "      <th>city</th>\n",
       "      <th>days_to_complete</th>\n",
       "    </tr>\n",
       "  </thead>\n",
       "  <tbody>\n",
       "    <tr>\n",
       "      <td>0</td>\n",
       "      <td>2018-10-01</td>\n",
       "      <td>NaN</td>\n",
       "      <td>nan</td>\n",
       "      <td>NaN</td>\n",
       "      <td>10/1/18</td>\n",
       "      <td>NaT</td>\n",
       "      <td>10/3/18</td>\n",
       "      <td>0</td>\n",
       "      <td>0</td>\n",
       "      <td>10001</td>\n",
       "      <td>control</td>\n",
       "      <td>Asgard</td>\n",
       "      <td>NaN</td>\n",
       "    </tr>\n",
       "    <tr>\n",
       "      <td>1</td>\n",
       "      <td>2018-10-01</td>\n",
       "      <td>10/17/18</td>\n",
       "      <td>10/12/18</td>\n",
       "      <td>10/12/18</td>\n",
       "      <td>10/1/18</td>\n",
       "      <td>2018-10-20</td>\n",
       "      <td>NaN</td>\n",
       "      <td>1</td>\n",
       "      <td>1</td>\n",
       "      <td>10002</td>\n",
       "      <td>control</td>\n",
       "      <td>Midgard</td>\n",
       "      <td>19.0</td>\n",
       "    </tr>\n",
       "    <tr>\n",
       "      <td>2</td>\n",
       "      <td>2018-10-01</td>\n",
       "      <td>10/8/18</td>\n",
       "      <td>10/1/18</td>\n",
       "      <td>10/4/18</td>\n",
       "      <td>10/2/18</td>\n",
       "      <td>NaT</td>\n",
       "      <td>10/5/18</td>\n",
       "      <td>0</td>\n",
       "      <td>1</td>\n",
       "      <td>10003</td>\n",
       "      <td>treatment</td>\n",
       "      <td>Midgard</td>\n",
       "      <td>NaN</td>\n",
       "    </tr>\n",
       "    <tr>\n",
       "      <td>3</td>\n",
       "      <td>2018-10-01</td>\n",
       "      <td>10/5/18</td>\n",
       "      <td>10/1/18</td>\n",
       "      <td>10/4/18</td>\n",
       "      <td>10/1/18</td>\n",
       "      <td>2018-10-06</td>\n",
       "      <td>NaN</td>\n",
       "      <td>1</td>\n",
       "      <td>1</td>\n",
       "      <td>10004</td>\n",
       "      <td>treatment</td>\n",
       "      <td>Asgard</td>\n",
       "      <td>5.0</td>\n",
       "    </tr>\n",
       "    <tr>\n",
       "      <td>4</td>\n",
       "      <td>2018-10-01</td>\n",
       "      <td>10/7/18</td>\n",
       "      <td>10/1/18</td>\n",
       "      <td>10/8/18</td>\n",
       "      <td>10/1/18</td>\n",
       "      <td>2018-10-08</td>\n",
       "      <td>10/1/18</td>\n",
       "      <td>1</td>\n",
       "      <td>1</td>\n",
       "      <td>10005</td>\n",
       "      <td>treatment</td>\n",
       "      <td>Midgard</td>\n",
       "      <td>7.0</td>\n",
       "    </tr>\n",
       "  </tbody>\n",
       "</table>\n",
       "</div>"
      ],
      "text/plain": [
       "  application_date background_check_completed_date  \\\n",
       "0       2018-10-01                             NaN   \n",
       "1       2018-10-01                        10/17/18   \n",
       "2       2018-10-01                         10/8/18   \n",
       "3       2018-10-01                         10/5/18   \n",
       "4       2018-10-01                         10/7/18   \n",
       "\n",
       "  background_check_initiated_date card_activation_date card_mailed_date  \\\n",
       "0                             nan                  NaN          10/1/18   \n",
       "1                        10/12/18             10/12/18          10/1/18   \n",
       "2                         10/1/18              10/4/18          10/2/18   \n",
       "3                         10/1/18              10/4/18          10/1/18   \n",
       "4                         10/1/18              10/8/18          10/1/18   \n",
       "\n",
       "  first_batch_completed_date orientation_completed_date  success  \\\n",
       "0                        NaT                    10/3/18        0   \n",
       "1                 2018-10-20                        NaN        1   \n",
       "2                        NaT                    10/5/18        0   \n",
       "3                 2018-10-06                        NaN        1   \n",
       "4                 2018-10-08                    10/1/18        1   \n",
       "\n",
       "   is_background_check_initiated_date  applicant_id      group     city  \\\n",
       "0                                   0         10001    control   Asgard   \n",
       "1                                   1         10002    control  Midgard   \n",
       "2                                   1         10003  treatment  Midgard   \n",
       "3                                   1         10004  treatment   Asgard   \n",
       "4                                   1         10005  treatment  Midgard   \n",
       "\n",
       "   days_to_complete  \n",
       "0               NaN  \n",
       "1              19.0  \n",
       "2               NaN  \n",
       "3               5.0  \n",
       "4               7.0  "
      ]
     },
     "execution_count": 10,
     "metadata": {},
     "output_type": "execute_result"
    }
   ],
   "source": [
    "df_pivot.head()"
   ]
  },
  {
   "cell_type": "markdown",
   "metadata": {},
   "source": [
    "#### Understanding our dataset\n",
    "Other than just understanding the data, one goal of this exploration exercise is to ensure that the A/B test is in fact random. "
   ]
  },
  {
   "cell_type": "code",
   "execution_count": 481,
   "metadata": {},
   "outputs": [
    {
     "data": {
      "text/plain": [
       "<matplotlib.axes._subplots.AxesSubplot at 0x141e68b50>"
      ]
     },
     "execution_count": 481,
     "metadata": {},
     "output_type": "execute_result"
    },
    {
     "data": {
      "image/png": "[encoded data removed]",
      "text/plain": [
       "<Figure size 1080x576 with 1 Axes>"
      ]
     },
     "metadata": {
      "needs_background": "light"
     },
     "output_type": "display_data"
    }
   ],
   "source": [
    "df_ab_over_time = (df_pivot.groupby([\"application_date\", \"group\"]).group.count()\n",
    "            .to_frame()\n",
    "            .rename(columns={'group': 'cnt'})\n",
    "            .reset_index()\n",
    "            .pivot(index='application_date', columns='group', values='cnt')\n",
    "            \n",
    " \n",
    ")\n",
    "(df_ab_over_time.treatment/(df_ab_over_time.control + df_ab_over_time.treatment)).plot(figsize=(15, 8))\n",
    "df_ab_over_time['overall_success_rate'] = [treatment_n/(control_n + treatment_n) \n",
    "                                           for i in range(len(df_ab_over_time))]\n",
    "df_ab_over_time['overall_success_rate'].plot(ls='--')"
   ]
  },
  {
   "cell_type": "code",
   "execution_count": 482,
   "metadata": {},
   "outputs": [
    {
     "data": {
      "text/plain": [
       "<matplotlib.axes._subplots.AxesSubplot at 0x141e96550>"
      ]
     },
     "execution_count": 482,
     "metadata": {},
     "output_type": "execute_result"
    },
    {
     "data": {
      "image/png": "[encoded data removed]",
      "text/plain": [
       "<Figure size 432x288 with 1 Axes>"
      ]
     },
     "metadata": {
      "needs_background": "light"
     },
     "output_type": "display_data"
    }
   ],
   "source": [
    "df_ab_by_city = (df_pivot.groupby([\"city\", \"group\"]).group.count()\n",
    "            .to_frame()\n",
    "            .rename(columns={'group': 'cnt'})\n",
    "            .reset_index()\n",
    "            .pivot(index='city', columns='group', values='cnt')\n",
    "            \n",
    " \n",
    ")\n",
    "\n",
    "(df_ab_by_city['treatment']/(df_ab_by_city['control'] + df_ab_by_city['treatment'])).plot(kind='barh')\n"
   ]
  },
  {
   "cell_type": "markdown",
   "metadata": {},
   "source": [
    "#### Power test to determine required effect given test parameters\n",
    "We run the power test to better understand our risk of a False Negative. This allows us to speak to our stakeholders with more confidence when providing the results"
   ]
  },
  {
   "cell_type": "code",
   "execution_count": 483,
   "metadata": {},
   "outputs": [
    {
     "name": "stdout",
     "output_type": "stream",
     "text": [
      "In order to achieve a power of 0.995, we must see an effect of 0.0743\n"
     ]
    }
   ],
   "source": [
    "\n",
    "power = 0.995 # 1- beta aka 1 - probability(Type II error)\n",
    "result = TTestIndPower().solve_power(effect_size=None, \n",
    "                                     power=power, \n",
    "                                     nobs1=control_n, \n",
    "                                     ratio=treatment_n/control_n, \n",
    "                                     alpha=alpha, \n",
    "                                     alternative='larger')\n",
    "print(f\"In order to achieve a power of {power}, we must see an effect of {np.round(result, 4)}\")\n"
   ]
  },
  {
   "cell_type": "code",
   "execution_count": 639,
   "metadata": {},
   "outputs": [
    {
     "name": "stdout",
     "output_type": "stream",
     "text": [
      "\n",
      "    success\n",
      "    Control mean: 0.1981242672919109 \n",
      "    Treatment mean: 0.3433375017368348\n",
      "    test statistic: -23.67355764619813\n",
      "    p-value: 2.400319313853911e-122\n",
      "    Significance: 1\n",
      "    Net Effect: 0.7329\n",
      "    \n"
     ]
    },
    {
     "data": {
      "image/png": "[encoded data removed]",
      "text/plain": [
       "<Figure size 864x432 with 1 Axes>"
      ]
     },
     "metadata": {
      "needs_background": "light"
     },
     "output_type": "display_data"
    }
   ],
   "source": [
    "success_ttest, success_pval, success_significance, success_net_effect = ttest(df=df_pivot,   \n",
    "                                                                            feature='success', \n",
    "                                                                              alpha=alpha)\n",
    "get_histograms(df=df_pivot, feature='success')"
   ]
  },
  {
   "cell_type": "code",
   "execution_count": 640,
   "metadata": {},
   "outputs": [
    {
     "name": "stdout",
     "output_type": "stream",
     "text": [
      "\n",
      "    days_to_complete\n",
      "    Control mean: 10.002088409328229 \n",
      "    Treatment mean: 6.931606636989073\n",
      "    test statistic: 42.39108902473685\n",
      "    p-value: 0.0\n",
      "    Significance: 1\n",
      "    Net Effect: -0.307\n",
      "    \n"
     ]
    },
    {
     "name": "stderr",
     "output_type": "stream",
     "text": [
      "/Users/williamcasey/.envs/frs/lib/python3.7/site-packages/numpy/lib/histograms.py:824: RuntimeWarning: invalid value encountered in greater_equal\n",
      "  keep = (tmp_a >= first_edge)\n",
      "/Users/williamcasey/.envs/frs/lib/python3.7/site-packages/numpy/lib/histograms.py:825: RuntimeWarning: invalid value encountered in less_equal\n",
      "  keep &= (tmp_a <= last_edge)\n"
     ]
    },
    {
     "data": {
      "image/png": "[encoded data removed]",
      "text/plain": [
       "<Figure size 864x432 with 1 Axes>"
      ]
     },
     "metadata": {
      "needs_background": "light"
     },
     "output_type": "display_data"
    }
   ],
   "source": [
    "days_to_complete_ttest, days_to_complete_pval, days_to_complete_significance, days_to_complete_net_effect  = ttest(df=df_pivot, feature='days_to_complete', alpha=alpha)\n",
    "get_histograms(df=df_pivot, feature='days_to_complete')"
   ]
  },
  {
   "cell_type": "markdown",
   "metadata": {},
   "source": [
    "#### Filtering to shoppers who initiated background check"
   ]
  },
  {
   "cell_type": "code",
   "execution_count": 653,
   "metadata": {},
   "outputs": [
    {
     "name": "stdout",
     "output_type": "stream",
     "text": [
      "\n",
      "    success\n",
      "    Control mean: 0.2651347360649686 \n",
      "    Treatment mean: 0.3433375017368348\n",
      "    test statistic: -11.301290653775334\n",
      "    p-value: 1.6251734394028988e-29\n",
      "    Significance: 1\n",
      "    Net Effect: 0.295\n",
      "    \n"
     ]
    },
    {
     "data": {
      "image/png": "[encoded data removed]",
      "text/plain": [
       "<Figure size 864x432 with 1 Axes>"
      ]
     },
     "metadata": {
      "needs_background": "light"
     },
     "output_type": "display_data"
    }
   ],
   "source": [
    "data = df_pivot[df_pivot['is_background_check_initiated_date'] == 1]\n",
    "success_ttest, success_pval, success_significance, success_net_effect = ttest(df=data,   \n",
    "                                                                            feature='success', \n",
    "                                                                              alpha=alpha)\n",
    "get_histograms(df=data, feature='success')"
   ]
  },
  {
   "cell_type": "markdown",
   "metadata": {},
   "source": [
    "### Modeling the uncertanity of our net effect\n",
    "Point estimates such as \"*the effect will be 0.7329*\" can be dangerous.<br> It is more prudent for the data scientist to provide expected ranges of the point estimate.<br>\n",
    "My preferred methodology for this is bootstrapping."
   ]
  },
  {
   "cell_type": "code",
   "execution_count": 590,
   "metadata": {},
   "outputs": [],
   "source": [
    "def bootstrap(df, frac, feature):\n",
    "    df = df[['group', feature]].sample(frac=frac)\n",
    "    mean_dict = df.groupby('group').agg({feature: np.mean}).to_dict()[feature]\n",
    "    return (mean_dict['treatment'] - mean_dict['control'])/mean_dict['control']\n",
    "\n",
    "def get_bootstrap_confidence_int(data, alpha):\n",
    "    ci_alpha = (alpha*100)/2\n",
    "    return np.percentile(data, ci_alpha), np.percentile(data, 100 - ci_alpha)"
   ]
  },
  {
   "cell_type": "code",
   "execution_count": 559,
   "metadata": {},
   "outputs": [],
   "source": [
    "success_bootstrap = [bootstrap(df=df_pivot, frac=0.25, \n",
    "                        feature='success') for i in range(10000)]\n",
    "days_to_complete_bootstrap = [bootstrap(df=df_pivot, frac=0.25, \n",
    "                             feature='days_to_complete') for i in range(10000)]\n"
   ]
  },
  {
   "cell_type": "code",
   "execution_count": 609,
   "metadata": {},
   "outputs": [
    {
     "name": "stdout",
     "output_type": "stream",
     "text": [
      "We are 99% confident that the Success Rate \n",
      "net effect is between 0.622 and 0.852\n"
     ]
    },
    {
     "data": {
      "image/png": "[encoded data removed]",
      "text/plain": [
       "<Figure size 864x432 with 1 Axes>"
      ]
     },
     "metadata": {
      "needs_background": "light"
     },
     "output_type": "display_data"
    }
   ],
   "source": [
    "ci_lower, ci_upper = get_bootstrap_confidence_int(success_bootstrap, alpha=0.1)\n",
    "\n",
    "fig, ax = plt.subplots(figsize=(12,6))  \n",
    "\n",
    "ax.hist(success_bootstrap, bins=100, color='g', density=True, histtype='step'\n",
    "            , label=f'Bootstrap')\n",
    "plt.vlines(x=success_net_effect, ymin=0, ymax=7, color='g', label='point estimate')\n",
    "plt.vlines(x=ci_lower, ymin=0, ymax=2, color='g', ls='--', label='Confidence Interval')\n",
    "plt.vlines(x=ci_upper, ymin=0, ymax=2, color='g', ls='--')\n",
    "\n",
    "plt.legend()\n",
    "plt.title(\"Success\")\n",
    "print(f\"We are 99% confident that the Success Rate \\nnet effect is between {np.round(ci_lower, 3)} and {np.round(ci_upper, 3)}\")\n",
    "\n"
   ]
  },
  {
   "cell_type": "code",
   "execution_count": 608,
   "metadata": {},
   "outputs": [
    {
     "name": "stdout",
     "output_type": "stream",
     "text": [
      "We are 99% confident that the Days to complete \n",
      "net effect is between -0.324 and -0.289\n"
     ]
    },
    {
     "data": {
      "image/png": "[encoded data removed]",
      "text/plain": [
       "<Figure size 864x432 with 1 Axes>"
      ]
     },
     "metadata": {
      "needs_background": "light"
     },
     "output_type": "display_data"
    }
   ],
   "source": [
    "ci_lower, ci_upper = get_bootstrap_confidence_int(days_to_complete_bootstrap, alpha=0.1)\n",
    "\n",
    "fig, ax = plt.subplots(figsize=(12,6))  \n",
    "ax.hist(days_to_complete_bootstrap, bins=100, color='g', density=True, histtype='step'\n",
    "            , label=f'Bootstrap')\n",
    "plt.vlines(x=days_to_complete_net_effect, ymin=0, ymax=45, color='g', ls='-', label='point estimate')\n",
    "plt.vlines(x=ci_lower, ymin=0, ymax=12, color='g', ls='--', label='Confidence Interval')\n",
    "plt.vlines(x=ci_upper, ymin=0, ymax=12, color='g', ls='--')\n",
    "\n",
    "plt.legend()\n",
    "plt.title(\"Days to Complete\")\n",
    "print(f\"We are 99% confident that the Days to complete \\nnet effect is between {np.round(ci_lower, 3)} and {np.round(ci_upper, 3)}\")\n",
    "\n"
   ]
  },
  {
   "cell_type": "markdown",
   "metadata": {},
   "source": [
    "### Bringing in Cost"
   ]
  },
  {
   "cell_type": "code",
   "execution_count": 630,
   "metadata": {},
   "outputs": [
    {
     "name": "stdout",
     "output_type": "stream",
     "text": [
      "cost_30: Cost per successful applicant\n",
      "group\n",
      "control      113.150017\n",
      "treatment     87.377580\n",
      "dtype: float64\n",
      "\n",
      "cost_50: Cost per successful applicant\n",
      "group\n",
      "control      188.583362\n",
      "treatment    145.629300\n",
      "dtype: float64\n",
      "\n",
      "cost_100: Cost per successful applicant\n",
      "group\n",
      "control      377.166725\n",
      "treatment    291.258600\n",
      "dtype: float64\n",
      "\n"
     ]
    }
   ],
   "source": [
    "for c in [30, 50, 100]:\n",
    "    df_pivot[f'cost_{str(c)}'] = df_pivot.is_background_check_initiated_date*c\n",
    "    df_cost = df_pivot.groupby('group').agg({f'cost_{str(c)}': np.sum, 'success': np.sum})\n",
    "    print(f'cost_{str(c)}: Cost per successful applicant')\n",
    "    print(df_cost[f'cost_{str(c)}']/df_cost['success'])\n",
    "    print(\"\")"
   ]
  }
 ],
 "metadata": {
  "kernelspec": {
   "display_name": "frs",
   "language": "python",
   "name": "frs"
  },
  "language_info": {
   "codemirror_mode": {
    "name": "ipython",
    "version": 3
   },
   "file_extension": ".py",
   "mimetype": "text/x-python",
   "name": "python",
   "nbconvert_exporter": "python",
   "pygments_lexer": "ipython3",
   "version": "3.7.5"
  }
 },
 "nbformat": 4,
 "nbformat_minor": 4
}
